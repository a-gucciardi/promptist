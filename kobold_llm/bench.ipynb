{
 "cells": [
  {
   "cell_type": "code",
   "execution_count": null,
   "id": "88da1cb8",
   "metadata": {},
   "outputs": [],
   "source": [
    "import pandas as pd\n",
    "import utils as ut\n",
    "import re\n",
    "\n",
    "import plotly.express as px"
   ]
  },
  {
   "cell_type": "markdown",
   "id": "3f0e6ae5",
   "metadata": {},
   "source": [
    "## List of models\n",
    "\n",
    "The models tested range from 7b to 70B parameters, all quantized versions.  \n",
    "The models not directly available in quantized version are converted with the koboldcpp tools().  "
   ]
  },
  {
   "cell_type": "code",
   "execution_count": 24,
   "id": "aa1335f0",
   "metadata": {},
   "outputs": [],
   "source": [
    "models_dic = {\n",
    "    \"airoboros-7B\": \"airoboros-mistral2.2-7b.Q4_K_S.gguf\",\n",
    "    \"llama3-70B-inst\": \"Meta-Llama-3.1-70B-Instruct-IQ4_XS.gguf\",\n",
    "    \"llama3-8B-inst\": \"Meta-Llama-3.1-8B-Instruct-IQ4_XS.gguf\",\n",
    "    \"mistral-small-24B\": \"mistralai_Mistral-Small-3.2-24B-Instruct-2506-IQ4_XS.gguf\",\n",
    "    \"deepseek-8B\": \"DeepSeek-R1-0528-Qwen3-8B-Q4_K_S.gguf\",\n",
    "    \"deepseek-8B-UD\": \"DeepSeek-R1-0528-Qwen3-8B-UD-IQ1_S.gguf\",\n",
    "    \"olmo-7B\": \"OLMo-2-1124-7B-Instruct-Q4_K_S.gguf\",\n",
    "    \"qwen2.5-coder-7B\": \"Qwen2.5.1-Coder-7B-Instruct-Q4_K_S.gguf\",\n",
    "    \"qwen2.5-coder-32B\": \"Qwen2.5-Coder-32B-Instruct-Q4_K_S.gguf\",\n",
    "    \"nemotron-70B\": \"Llama-3.1-Nemotron-70B-Instruct-HF-IQ4_XS.gguf\"\n",
    "}\n"
   ]
  },
  {
   "cell_type": "markdown",
   "id": "f7fd06c3",
   "metadata": {},
   "source": [
    "Models quick summary"
   ]
  },
  {
   "cell_type": "code",
   "execution_count": null,
   "id": "aea6807b",
   "metadata": {},
   "outputs": [],
   "source": [
    "df_models = pd.DataFrame([\n",
    "    {\"name\": k, \"full_name\": v, \"size\": ut.size(k)}\n",
    "    for k, v in models_dic.items()\n",
    "])"
   ]
  },
  {
   "cell_type": "code",
   "execution_count": 49,
   "id": "3f3fde08",
   "metadata": {},
   "outputs": [
    {
     "data": {
      "text/html": [
       "<div>\n",
       "<style scoped>\n",
       "    .dataframe tbody tr th:only-of-type {\n",
       "        vertical-align: middle;\n",
       "    }\n",
       "\n",
       "    .dataframe tbody tr th {\n",
       "        vertical-align: top;\n",
       "    }\n",
       "\n",
       "    .dataframe thead th {\n",
       "        text-align: right;\n",
       "    }\n",
       "</style>\n",
       "<table border=\"1\" class=\"dataframe\">\n",
       "  <thead>\n",
       "    <tr style=\"text-align: right;\">\n",
       "      <th></th>\n",
       "      <th>name</th>\n",
       "      <th>full_name</th>\n",
       "      <th>size</th>\n",
       "    </tr>\n",
       "  </thead>\n",
       "  <tbody>\n",
       "    <tr>\n",
       "      <th>1</th>\n",
       "      <td>llama3-70B-inst</td>\n",
       "      <td>Meta-Llama-3.1-70B-Instruct-IQ4_XS.gguf</td>\n",
       "      <td>70.0</td>\n",
       "    </tr>\n",
       "    <tr>\n",
       "      <th>9</th>\n",
       "      <td>nemotron-70B</td>\n",
       "      <td>Llama-3.1-Nemotron-70B-Instruct-HF-IQ4_XS.gguf</td>\n",
       "      <td>70.0</td>\n",
       "    </tr>\n",
       "    <tr>\n",
       "      <th>8</th>\n",
       "      <td>qwen2.5-coder-32B</td>\n",
       "      <td>Qwen2.5-Coder-32B-Instruct-Q4_K_S.gguf</td>\n",
       "      <td>32.0</td>\n",
       "    </tr>\n",
       "    <tr>\n",
       "      <th>3</th>\n",
       "      <td>mistral-small-24B</td>\n",
       "      <td>mistralai_Mistral-Small-3.2-24B-Instruct-2506-...</td>\n",
       "      <td>24.0</td>\n",
       "    </tr>\n",
       "    <tr>\n",
       "      <th>5</th>\n",
       "      <td>deepseek-8B-UD</td>\n",
       "      <td>DeepSeek-R1-0528-Qwen3-8B-UD-IQ1_S.gguf</td>\n",
       "      <td>8.0</td>\n",
       "    </tr>\n",
       "    <tr>\n",
       "      <th>2</th>\n",
       "      <td>llama3-8B-inst</td>\n",
       "      <td>Meta-Llama-3.1-8B-Instruct-IQ4_XS.gguf</td>\n",
       "      <td>8.0</td>\n",
       "    </tr>\n",
       "    <tr>\n",
       "      <th>4</th>\n",
       "      <td>deepseek-8B</td>\n",
       "      <td>DeepSeek-R1-0528-Qwen3-8B-Q4_K_S.gguf</td>\n",
       "      <td>8.0</td>\n",
       "    </tr>\n",
       "    <tr>\n",
       "      <th>0</th>\n",
       "      <td>airoboros-7B</td>\n",
       "      <td>airoboros-mistral2.2-7b.Q4_K_S.gguf</td>\n",
       "      <td>7.0</td>\n",
       "    </tr>\n",
       "    <tr>\n",
       "      <th>7</th>\n",
       "      <td>qwen2.5-coder-7B</td>\n",
       "      <td>Qwen2.5.1-Coder-7B-Instruct-Q4_K_S.gguf</td>\n",
       "      <td>7.0</td>\n",
       "    </tr>\n",
       "    <tr>\n",
       "      <th>6</th>\n",
       "      <td>olmo-7B</td>\n",
       "      <td>OLMo-2-1124-7B-Instruct-Q4_K_S.gguf</td>\n",
       "      <td>7.0</td>\n",
       "    </tr>\n",
       "  </tbody>\n",
       "</table>\n",
       "</div>"
      ],
      "text/plain": [
       "                name                                          full_name  size\n",
       "1    llama3-70B-inst            Meta-Llama-3.1-70B-Instruct-IQ4_XS.gguf  70.0\n",
       "9       nemotron-70B     Llama-3.1-Nemotron-70B-Instruct-HF-IQ4_XS.gguf  70.0\n",
       "8  qwen2.5-coder-32B             Qwen2.5-Coder-32B-Instruct-Q4_K_S.gguf  32.0\n",
       "3  mistral-small-24B  mistralai_Mistral-Small-3.2-24B-Instruct-2506-...  24.0\n",
       "5     deepseek-8B-UD            DeepSeek-R1-0528-Qwen3-8B-UD-IQ1_S.gguf   8.0\n",
       "2     llama3-8B-inst             Meta-Llama-3.1-8B-Instruct-IQ4_XS.gguf   8.0\n",
       "4        deepseek-8B              DeepSeek-R1-0528-Qwen3-8B-Q4_K_S.gguf   8.0\n",
       "0       airoboros-7B                airoboros-mistral2.2-7b.Q4_K_S.gguf   7.0\n",
       "7   qwen2.5-coder-7B            Qwen2.5.1-Coder-7B-Instruct-Q4_K_S.gguf   7.0\n",
       "6            olmo-7B                OLMo-2-1124-7B-Instruct-Q4_K_S.gguf   7.0"
      ]
     },
     "execution_count": 49,
     "metadata": {},
     "output_type": "execute_result"
    }
   ],
   "source": [
    "df_models.sort_values(by=\"size\", ascending=False, inplace=True)\n",
    "df_models"
   ]
  },
  {
   "cell_type": "markdown",
   "id": "d3e21997",
   "metadata": {},
   "source": [
    "Note that each model is from a model family, sometimes also re-finetuned, e.g. the Nemotron70B used comes from llama3.1.  \n",
    "**Base model** : meta-llama/Llama-3.1-70B  \n",
    "-> **Finetuned** : meta-llama/Llama-3.1-70B-Instruct  \n",
    "--> **Finetuned** : nvidia/Llama-3.1-Nemotron-70B-Instruct-HF  \n",
    "---> **Quantized** : Llama-3.1-Nemotron-70B-Instruct-HF-IQ4_XS.gguf (this model)"
   ]
  },
  {
   "cell_type": "markdown",
   "id": "ed45eb9e",
   "metadata": {},
   "source": [
    "## Steps\n",
    " - Launch GGUF model\n",
    " - Eval test prompt with *perf.py*\n",
    " - Stats\n"
   ]
  },
  {
   "cell_type": "code",
   "execution_count": null,
   "id": "6f3d6d96",
   "metadata": {},
   "outputs": [],
   "source": [
    "# repeated for each model \n",
    "# 1 - to launch KoboldCPP with the specified model\n",
    "model = \"../airoboros-mistral2.2-7b.Q4_K_S.gguf\"\n",
    "!../koboldcpp --model $model --launch\n",
    "# 2 - koboldcpp eval, works directly with latest inference\n",
    "python3 ./perf.py "
   ]
  },
  {
   "cell_type": "markdown",
   "id": "60341e8e",
   "metadata": {},
   "source": [
    "## Results\n"
   ]
  },
  {
   "cell_type": "markdown",
   "id": "65532ffa",
   "metadata": {},
   "source": [
    "Once launched, we interact with the model using the KoboldCPP interface.  \n",
    "Prompts : these are the average speeds over 5X the same 2  prompts on different topics (general nutrition or code)"
   ]
  },
  {
   "cell_type": "code",
   "execution_count": null,
   "id": "8aede9e8",
   "metadata": {},
   "outputs": [
    {
     "data": {
      "text/html": [
       "<div>\n",
       "<style scoped>\n",
       "    .dataframe tbody tr th:only-of-type {\n",
       "        vertical-align: middle;\n",
       "    }\n",
       "\n",
       "    .dataframe tbody tr th {\n",
       "        vertical-align: top;\n",
       "    }\n",
       "\n",
       "    .dataframe thead th {\n",
       "        text-align: right;\n",
       "    }\n",
       "</style>\n",
       "<table border=\"1\" class=\"dataframe\">\n",
       "  <thead>\n",
       "    <tr style=\"text-align: right;\">\n",
       "      <th></th>\n",
       "      <th>Model</th>\n",
       "      <th>Processing</th>\n",
       "      <th>Generation</th>\n",
       "      <th>Total Tokens per Second</th>\n",
       "    </tr>\n",
       "  </thead>\n",
       "  <tbody>\n",
       "    <tr>\n",
       "      <th>0</th>\n",
       "      <td>airoboros-mistral2.2-7b.Q4_K_S</td>\n",
       "      <td>424.66</td>\n",
       "      <td>106.57</td>\n",
       "      <td>98.52</td>\n",
       "    </tr>\n",
       "    <tr>\n",
       "      <th>1</th>\n",
       "      <td>DeepSeek-R1-0528-Qwen3-8B-Q4_K_S.gguf</td>\n",
       "      <td>1105.26</td>\n",
       "      <td>82.43</td>\n",
       "      <td>589.11</td>\n",
       "    </tr>\n",
       "    <tr>\n",
       "      <th>2</th>\n",
       "      <td>DeepSeek-R1-0528-Qwen3-8B-UD-IQ1_S.gguf</td>\n",
       "      <td>210.00</td>\n",
       "      <td>88.60</td>\n",
       "      <td>111.93</td>\n",
       "    </tr>\n",
       "    <tr>\n",
       "      <th>3</th>\n",
       "      <td>LLama-3.1-Nemotron-70B-Instruct-HF-IQ4_XS.gguf</td>\n",
       "      <td>589.53</td>\n",
       "      <td>15.46</td>\n",
       "      <td>633.74</td>\n",
       "    </tr>\n",
       "    <tr>\n",
       "      <th>4</th>\n",
       "      <td>Meta-Llama-3.1-8B-Instruct-IQ4_XS.gguf</td>\n",
       "      <td>1074.07</td>\n",
       "      <td>90.70</td>\n",
       "      <td>581.07</td>\n",
       "    </tr>\n",
       "    <tr>\n",
       "      <th>5</th>\n",
       "      <td>Meta-Llama-3.1-70B-Instruct-IQ4_XS.gguf</td>\n",
       "      <td>315.22</td>\n",
       "      <td>15.61</td>\n",
       "      <td>170.53</td>\n",
       "    </tr>\n",
       "    <tr>\n",
       "      <th>6</th>\n",
       "      <td>mistralai_Mistral-Small-3.2-24B-Instruct-2506-...</td>\n",
       "      <td>1157.89</td>\n",
       "      <td>40.86</td>\n",
       "      <td>618.32</td>\n",
       "    </tr>\n",
       "    <tr>\n",
       "      <th>7</th>\n",
       "      <td>OLMo-2-1124-7B-Instruct-Q4_K_S.gguf</td>\n",
       "      <td>2000.00</td>\n",
       "      <td>91.14</td>\n",
       "      <td>1096.00</td>\n",
       "    </tr>\n",
       "    <tr>\n",
       "      <th>8</th>\n",
       "      <td>Qwen2.5-Coder-32B-Instruct-Q4_K_S.gguf</td>\n",
       "      <td>1333.33</td>\n",
       "      <td>29.06</td>\n",
       "      <td>720.00</td>\n",
       "    </tr>\n",
       "    <tr>\n",
       "      <th>9</th>\n",
       "      <td>Qwen2.5.1-Coder-7B-Instruct-Q4_K_S.gguf</td>\n",
       "      <td>2000.00</td>\n",
       "      <td>97.17</td>\n",
       "      <td>544.00</td>\n",
       "    </tr>\n",
       "  </tbody>\n",
       "</table>\n",
       "</div>"
      ],
      "text/plain": [
       "                                               Model  Processing  Generation  \\\n",
       "0                     airoboros-mistral2.2-7b.Q4_K_S      424.66      106.57   \n",
       "1              DeepSeek-R1-0528-Qwen3-8B-Q4_K_S.gguf     1105.26       82.43   \n",
       "2            DeepSeek-R1-0528-Qwen3-8B-UD-IQ1_S.gguf      210.00       88.60   \n",
       "3     LLama-3.1-Nemotron-70B-Instruct-HF-IQ4_XS.gguf      589.53       15.46   \n",
       "4             Meta-Llama-3.1-8B-Instruct-IQ4_XS.gguf     1074.07       90.70   \n",
       "5            Meta-Llama-3.1-70B-Instruct-IQ4_XS.gguf      315.22       15.61   \n",
       "6  mistralai_Mistral-Small-3.2-24B-Instruct-2506-...     1157.89       40.86   \n",
       "7                OLMo-2-1124-7B-Instruct-Q4_K_S.gguf     2000.00       91.14   \n",
       "8             Qwen2.5-Coder-32B-Instruct-Q4_K_S.gguf     1333.33       29.06   \n",
       "9            Qwen2.5.1-Coder-7B-Instruct-Q4_K_S.gguf     2000.00       97.17   \n",
       "\n",
       "   Total Tokens per Second  \n",
       "0                    98.52  \n",
       "1                   589.11  \n",
       "2                   111.93  \n",
       "3                   633.74  \n",
       "4                   581.07  \n",
       "5                   170.53  \n",
       "6                   618.32  \n",
       "7                  1096.00  \n",
       "8                   720.00  \n",
       "9                   544.00  "
      ]
     },
     "execution_count": 78,
     "metadata": {},
     "output_type": "execute_result"
    }
   ],
   "source": [
    "with open('bench.log') as f:\n",
    "    df_logs = ut.log_to_df(f.read())\n",
    "\n",
    "df_logs.columns = df_logs.columns.str.replace(' Speed', '')\n",
    "df_logs"
   ]
  },
  {
   "cell_type": "code",
   "execution_count": null,
   "id": "b405abff",
   "metadata": {},
   "outputs": [
    {
     "data": {
      "application/vnd.plotly.v1+json": {
       "config": {
        "plotlyServerURL": "https://plot.ly"
       },
       "data": [
        {
         "hovertemplate": "Model=%{x}<br>Total Speed (tokens/sec)=%{marker.color}<extra></extra>",
         "legendgroup": "",
         "marker": {
          "color": {
           "bdata": "AAAAAAAgkUAAAAAAAICGQFK4HoXrzYNAw/UoXI9Sg0B7FK5H4WiCQMP1KFyPKIJAAAAAAAAAgUApXI/C9VBlQOxRuB6F+1tA4XoUrkehWEA=",
           "dtype": "f8"
          },
          "coloraxis": "coloraxis",
          "pattern": {
           "shape": ""
          }
         },
         "name": "",
         "orientation": "v",
         "showlegend": false,
         "textposition": "auto",
         "type": "bar",
         "x": [
          "OLMo-2-1124-7B-Instruct-Q4_K_S.gguf",
          "Qwen2.5-Coder-32B-Instruct-Q4_K_S.gguf",
          "LLama-3.1-Nemotron-70B-Instruct-HF-IQ4_XS.gguf",
          "mistralai_Mistral-Small-3.2-24B-Instruct-2506-IQ4_XS.gguf",
          "DeepSeek-R1-0528-Qwen3-8B-Q4_K_S.gguf",
          "Meta-Llama-3.1-8B-Instruct-IQ4_XS.gguf",
          "Qwen2.5.1-Coder-7B-Instruct-Q4_K_S.gguf",
          "Meta-Llama-3.1-70B-Instruct-IQ4_XS.gguf",
          "DeepSeek-R1-0528-Qwen3-8B-UD-IQ1_S.gguf",
          "airoboros-mistral2.2-7b.Q4_K_S"
         ],
         "xaxis": "x",
         "y": {
          "bdata": "AAAAAAAgkUAAAAAAAICGQFK4HoXrzYNAw/UoXI9Sg0B7FK5H4WiCQMP1KFyPKIJAAAAAAAAAgUApXI/C9VBlQOxRuB6F+1tA4XoUrkehWEA=",
          "dtype": "f8"
         },
         "yaxis": "y"
        }
       ],
       "layout": {
        "barmode": "relative",
        "coloraxis": {
         "colorbar": {
          "title": {
           "text": "Total Speed (tokens/sec)"
          }
         },
         "colorscale": [
          [
           0,
           "#440154"
          ],
          [
           0.1111111111111111,
           "#482878"
          ],
          [
           0.2222222222222222,
           "#3e4989"
          ],
          [
           0.3333333333333333,
           "#31688e"
          ],
          [
           0.4444444444444444,
           "#26828e"
          ],
          [
           0.5555555555555556,
           "#1f9e89"
          ],
          [
           0.6666666666666666,
           "#35b779"
          ],
          [
           0.7777777777777778,
           "#6ece58"
          ],
          [
           0.8888888888888888,
           "#b5de2b"
          ],
          [
           1,
           "#fde725"
          ]
         ],
         "showscale": false
        },
        "hovermode": "x unified",
        "legend": {
         "tracegroupgap": 0
        },
        "template": {
         "data": {
          "bar": [
           {
            "error_x": {
             "color": "#2a3f5f"
            },
            "error_y": {
             "color": "#2a3f5f"
            },
            "marker": {
             "line": {
              "color": "#E5ECF6",
              "width": 0.5
             },
             "pattern": {
              "fillmode": "overlay",
              "size": 10,
              "solidity": 0.2
             }
            },
            "type": "bar"
           }
          ],
          "barpolar": [
           {
            "marker": {
             "line": {
              "color": "#E5ECF6",
              "width": 0.5
             },
             "pattern": {
              "fillmode": "overlay",
              "size": 10,
              "solidity": 0.2
             }
            },
            "type": "barpolar"
           }
          ],
          "carpet": [
           {
            "aaxis": {
             "endlinecolor": "#2a3f5f",
             "gridcolor": "white",
             "linecolor": "white",
             "minorgridcolor": "white",
             "startlinecolor": "#2a3f5f"
            },
            "baxis": {
             "endlinecolor": "#2a3f5f",
             "gridcolor": "white",
             "linecolor": "white",
             "minorgridcolor": "white",
             "startlinecolor": "#2a3f5f"
            },
            "type": "carpet"
           }
          ],
          "choropleth": [
           {
            "colorbar": {
             "outlinewidth": 0,
             "ticks": ""
            },
            "type": "choropleth"
           }
          ],
          "contour": [
           {
            "colorbar": {
             "outlinewidth": 0,
             "ticks": ""
            },
            "colorscale": [
             [
              0,
              "#0d0887"
             ],
             [
              0.1111111111111111,
              "#46039f"
             ],
             [
              0.2222222222222222,
              "#7201a8"
             ],
             [
              0.3333333333333333,
              "#9c179e"
             ],
             [
              0.4444444444444444,
              "#bd3786"
             ],
             [
              0.5555555555555556,
              "#d8576b"
             ],
             [
              0.6666666666666666,
              "#ed7953"
             ],
             [
              0.7777777777777778,
              "#fb9f3a"
             ],
             [
              0.8888888888888888,
              "#fdca26"
             ],
             [
              1,
              "#f0f921"
             ]
            ],
            "type": "contour"
           }
          ],
          "contourcarpet": [
           {
            "colorbar": {
             "outlinewidth": 0,
             "ticks": ""
            },
            "type": "contourcarpet"
           }
          ],
          "heatmap": [
           {
            "colorbar": {
             "outlinewidth": 0,
             "ticks": ""
            },
            "colorscale": [
             [
              0,
              "#0d0887"
             ],
             [
              0.1111111111111111,
              "#46039f"
             ],
             [
              0.2222222222222222,
              "#7201a8"
             ],
             [
              0.3333333333333333,
              "#9c179e"
             ],
             [
              0.4444444444444444,
              "#bd3786"
             ],
             [
              0.5555555555555556,
              "#d8576b"
             ],
             [
              0.6666666666666666,
              "#ed7953"
             ],
             [
              0.7777777777777778,
              "#fb9f3a"
             ],
             [
              0.8888888888888888,
              "#fdca26"
             ],
             [
              1,
              "#f0f921"
             ]
            ],
            "type": "heatmap"
           }
          ],
          "histogram": [
           {
            "marker": {
             "pattern": {
              "fillmode": "overlay",
              "size": 10,
              "solidity": 0.2
             }
            },
            "type": "histogram"
           }
          ],
          "histogram2d": [
           {
            "colorbar": {
             "outlinewidth": 0,
             "ticks": ""
            },
            "colorscale": [
             [
              0,
              "#0d0887"
             ],
             [
              0.1111111111111111,
              "#46039f"
             ],
             [
              0.2222222222222222,
              "#7201a8"
             ],
             [
              0.3333333333333333,
              "#9c179e"
             ],
             [
              0.4444444444444444,
              "#bd3786"
             ],
             [
              0.5555555555555556,
              "#d8576b"
             ],
             [
              0.6666666666666666,
              "#ed7953"
             ],
             [
              0.7777777777777778,
              "#fb9f3a"
             ],
             [
              0.8888888888888888,
              "#fdca26"
             ],
             [
              1,
              "#f0f921"
             ]
            ],
            "type": "histogram2d"
           }
          ],
          "histogram2dcontour": [
           {
            "colorbar": {
             "outlinewidth": 0,
             "ticks": ""
            },
            "colorscale": [
             [
              0,
              "#0d0887"
             ],
             [
              0.1111111111111111,
              "#46039f"
             ],
             [
              0.2222222222222222,
              "#7201a8"
             ],
             [
              0.3333333333333333,
              "#9c179e"
             ],
             [
              0.4444444444444444,
              "#bd3786"
             ],
             [
              0.5555555555555556,
              "#d8576b"
             ],
             [
              0.6666666666666666,
              "#ed7953"
             ],
             [
              0.7777777777777778,
              "#fb9f3a"
             ],
             [
              0.8888888888888888,
              "#fdca26"
             ],
             [
              1,
              "#f0f921"
             ]
            ],
            "type": "histogram2dcontour"
           }
          ],
          "mesh3d": [
           {
            "colorbar": {
             "outlinewidth": 0,
             "ticks": ""
            },
            "type": "mesh3d"
           }
          ],
          "parcoords": [
           {
            "line": {
             "colorbar": {
              "outlinewidth": 0,
              "ticks": ""
             }
            },
            "type": "parcoords"
           }
          ],
          "pie": [
           {
            "automargin": true,
            "type": "pie"
           }
          ],
          "scatter": [
           {
            "fillpattern": {
             "fillmode": "overlay",
             "size": 10,
             "solidity": 0.2
            },
            "type": "scatter"
           }
          ],
          "scatter3d": [
           {
            "line": {
             "colorbar": {
              "outlinewidth": 0,
              "ticks": ""
             }
            },
            "marker": {
             "colorbar": {
              "outlinewidth": 0,
              "ticks": ""
             }
            },
            "type": "scatter3d"
           }
          ],
          "scattercarpet": [
           {
            "marker": {
             "colorbar": {
              "outlinewidth": 0,
              "ticks": ""
             }
            },
            "type": "scattercarpet"
           }
          ],
          "scattergeo": [
           {
            "marker": {
             "colorbar": {
              "outlinewidth": 0,
              "ticks": ""
             }
            },
            "type": "scattergeo"
           }
          ],
          "scattergl": [
           {
            "marker": {
             "colorbar": {
              "outlinewidth": 0,
              "ticks": ""
             }
            },
            "type": "scattergl"
           }
          ],
          "scattermap": [
           {
            "marker": {
             "colorbar": {
              "outlinewidth": 0,
              "ticks": ""
             }
            },
            "type": "scattermap"
           }
          ],
          "scattermapbox": [
           {
            "marker": {
             "colorbar": {
              "outlinewidth": 0,
              "ticks": ""
             }
            },
            "type": "scattermapbox"
           }
          ],
          "scatterpolar": [
           {
            "marker": {
             "colorbar": {
              "outlinewidth": 0,
              "ticks": ""
             }
            },
            "type": "scatterpolar"
           }
          ],
          "scatterpolargl": [
           {
            "marker": {
             "colorbar": {
              "outlinewidth": 0,
              "ticks": ""
             }
            },
            "type": "scatterpolargl"
           }
          ],
          "scatterternary": [
           {
            "marker": {
             "colorbar": {
              "outlinewidth": 0,
              "ticks": ""
             }
            },
            "type": "scatterternary"
           }
          ],
          "surface": [
           {
            "colorbar": {
             "outlinewidth": 0,
             "ticks": ""
            },
            "colorscale": [
             [
              0,
              "#0d0887"
             ],
             [
              0.1111111111111111,
              "#46039f"
             ],
             [
              0.2222222222222222,
              "#7201a8"
             ],
             [
              0.3333333333333333,
              "#9c179e"
             ],
             [
              0.4444444444444444,
              "#bd3786"
             ],
             [
              0.5555555555555556,
              "#d8576b"
             ],
             [
              0.6666666666666666,
              "#ed7953"
             ],
             [
              0.7777777777777778,
              "#fb9f3a"
             ],
             [
              0.8888888888888888,
              "#fdca26"
             ],
             [
              1,
              "#f0f921"
             ]
            ],
            "type": "surface"
           }
          ],
          "table": [
           {
            "cells": {
             "fill": {
              "color": "#EBF0F8"
             },
             "line": {
              "color": "white"
             }
            },
            "header": {
             "fill": {
              "color": "#C8D4E3"
             },
             "line": {
              "color": "white"
             }
            },
            "type": "table"
           }
          ]
         },
         "layout": {
          "annotationdefaults": {
           "arrowcolor": "#2a3f5f",
           "arrowhead": 0,
           "arrowwidth": 1
          },
          "autotypenumbers": "strict",
          "coloraxis": {
           "colorbar": {
            "outlinewidth": 0,
            "ticks": ""
           }
          },
          "colorscale": {
           "diverging": [
            [
             0,
             "#8e0152"
            ],
            [
             0.1,
             "#c51b7d"
            ],
            [
             0.2,
             "#de77ae"
            ],
            [
             0.3,
             "#f1b6da"
            ],
            [
             0.4,
             "#fde0ef"
            ],
            [
             0.5,
             "#f7f7f7"
            ],
            [
             0.6,
             "#e6f5d0"
            ],
            [
             0.7,
             "#b8e186"
            ],
            [
             0.8,
             "#7fbc41"
            ],
            [
             0.9,
             "#4d9221"
            ],
            [
             1,
             "#276419"
            ]
           ],
           "sequential": [
            [
             0,
             "#0d0887"
            ],
            [
             0.1111111111111111,
             "#46039f"
            ],
            [
             0.2222222222222222,
             "#7201a8"
            ],
            [
             0.3333333333333333,
             "#9c179e"
            ],
            [
             0.4444444444444444,
             "#bd3786"
            ],
            [
             0.5555555555555556,
             "#d8576b"
            ],
            [
             0.6666666666666666,
             "#ed7953"
            ],
            [
             0.7777777777777778,
             "#fb9f3a"
            ],
            [
             0.8888888888888888,
             "#fdca26"
            ],
            [
             1,
             "#f0f921"
            ]
           ],
           "sequentialminus": [
            [
             0,
             "#0d0887"
            ],
            [
             0.1111111111111111,
             "#46039f"
            ],
            [
             0.2222222222222222,
             "#7201a8"
            ],
            [
             0.3333333333333333,
             "#9c179e"
            ],
            [
             0.4444444444444444,
             "#bd3786"
            ],
            [
             0.5555555555555556,
             "#d8576b"
            ],
            [
             0.6666666666666666,
             "#ed7953"
            ],
            [
             0.7777777777777778,
             "#fb9f3a"
            ],
            [
             0.8888888888888888,
             "#fdca26"
            ],
            [
             1,
             "#f0f921"
            ]
           ]
          },
          "colorway": [
           "#636efa",
           "#EF553B",
           "#00cc96",
           "#ab63fa",
           "#FFA15A",
           "#19d3f3",
           "#FF6692",
           "#B6E880",
           "#FF97FF",
           "#FECB52"
          ],
          "font": {
           "color": "#2a3f5f"
          },
          "geo": {
           "bgcolor": "white",
           "lakecolor": "white",
           "landcolor": "#E5ECF6",
           "showlakes": true,
           "showland": true,
           "subunitcolor": "white"
          },
          "hoverlabel": {
           "align": "left"
          },
          "hovermode": "closest",
          "mapbox": {
           "style": "light"
          },
          "paper_bgcolor": "white",
          "plot_bgcolor": "#E5ECF6",
          "polar": {
           "angularaxis": {
            "gridcolor": "white",
            "linecolor": "white",
            "ticks": ""
           },
           "bgcolor": "#E5ECF6",
           "radialaxis": {
            "gridcolor": "white",
            "linecolor": "white",
            "ticks": ""
           }
          },
          "scene": {
           "xaxis": {
            "backgroundcolor": "#E5ECF6",
            "gridcolor": "white",
            "gridwidth": 2,
            "linecolor": "white",
            "showbackground": true,
            "ticks": "",
            "zerolinecolor": "white"
           },
           "yaxis": {
            "backgroundcolor": "#E5ECF6",
            "gridcolor": "white",
            "gridwidth": 2,
            "linecolor": "white",
            "showbackground": true,
            "ticks": "",
            "zerolinecolor": "white"
           },
           "zaxis": {
            "backgroundcolor": "#E5ECF6",
            "gridcolor": "white",
            "gridwidth": 2,
            "linecolor": "white",
            "showbackground": true,
            "ticks": "",
            "zerolinecolor": "white"
           }
          },
          "shapedefaults": {
           "line": {
            "color": "#2a3f5f"
           }
          },
          "ternary": {
           "aaxis": {
            "gridcolor": "white",
            "linecolor": "white",
            "ticks": ""
           },
           "baxis": {
            "gridcolor": "white",
            "linecolor": "white",
            "ticks": ""
           },
           "bgcolor": "#E5ECF6",
           "caxis": {
            "gridcolor": "white",
            "linecolor": "white",
            "ticks": ""
           }
          },
          "title": {
           "x": 0.05
          },
          "xaxis": {
           "automargin": true,
           "gridcolor": "white",
           "linecolor": "white",
           "ticks": "",
           "title": {
            "standoff": 15
           },
           "zerolinecolor": "white",
           "zerolinewidth": 2
          },
          "yaxis": {
           "automargin": true,
           "gridcolor": "white",
           "linecolor": "white",
           "ticks": "",
           "title": {
            "standoff": 15
           },
           "zerolinecolor": "white",
           "zerolinewidth": 2
          }
         }
        },
        "title": {
         "text": "LLM Benchmark: Total Tokens per Second"
        },
        "xaxis": {
         "anchor": "y",
         "domain": [
          0,
          1
         ],
         "tickangle": -45,
         "title": {
          "text": "Model"
         }
        },
        "yaxis": {
         "anchor": "x",
         "domain": [
          0,
          1
         ],
         "title": {
          "text": "Total Speed (tokens/sec)"
         }
        }
       }
      }
     },
     "metadata": {},
     "output_type": "display_data"
    }
   ],
   "source": [
    "# Sort by total performance\n",
    "df_speed = df_logs.sort_values('Total Tokens per Second', ascending=False)\n",
    "\n",
    "fig1 = px.bar(df_speed, \n",
    "             x='Model', \n",
    "             y='Total Tokens per Second',\n",
    "             color='Total Tokens per Second',\n",
    "             color_continuous_scale='Viridis',\n",
    "             title='LLM Benchmark: Total Tokens per Second',\n",
    "             labels={'Total Tokens per Second': 'Total Speed (tokens/sec)'})\n",
    "\n",
    "fig1.update_layout(xaxis_tickangle=-45, \n",
    "                 coloraxis_showscale=False,\n",
    "                 hovermode='x unified')\n",
    "fig1.show()"
   ]
  },
  {
   "cell_type": "code",
   "execution_count": 80,
   "id": "ac532136",
   "metadata": {},
   "outputs": [
    {
     "data": {
      "application/vnd.plotly.v1+json": {
       "config": {
        "plotlyServerURL": "https://plot.ly"
       },
       "data": [
        {
         "hovertemplate": "variable=Processing<br>Model=%{x}<br>Speed (tokens/sec)=%{y}<extra></extra>",
         "legendgroup": "Processing",
         "marker": {
          "color": "#636EFA",
          "pattern": {
           "shape": ""
          }
         },
         "name": "Processing",
         "orientation": "v",
         "showlegend": true,
         "textposition": "auto",
         "type": "bar",
         "x": [
          "OLMo-2-1124-7B-Instruct-Q4_K_S.gguf",
          "Qwen2.5-Coder-32B-Instruct-Q4_K_S.gguf",
          "LLama-3.1-Nemotron-70B-Instruct-HF-IQ4_XS.gguf",
          "mistralai_Mistral-Small-3.2-24B-Instruct-2506-IQ4_XS.gguf",
          "DeepSeek-R1-0528-Qwen3-8B-Q4_K_S.gguf",
          "Meta-Llama-3.1-8B-Instruct-IQ4_XS.gguf",
          "Qwen2.5.1-Coder-7B-Instruct-Q4_K_S.gguf",
          "Meta-Llama-3.1-70B-Instruct-IQ4_XS.gguf",
          "DeepSeek-R1-0528-Qwen3-8B-UD-IQ1_S.gguf",
          "airoboros-mistral2.2-7b.Q4_K_S"
         ],
         "xaxis": "x",
         "y": {
          "bdata": "AAAAAABAn0C4HoXrUdWUQArXo3A9bIJAw/UoXI8XkkDXo3A9CkWRQOF6FK5HyJBAAAAAAABAn0DsUbgehbNzQAAAAAAAQGpAw/UoXI+KekA=",
          "dtype": "f8"
         },
         "yaxis": "y"
        },
        {
         "hovertemplate": "variable=Generation<br>Model=%{x}<br>Speed (tokens/sec)=%{y}<extra></extra>",
         "legendgroup": "Generation",
         "marker": {
          "color": "#EF553B",
          "pattern": {
           "shape": ""
          }
         },
         "name": "Generation",
         "orientation": "v",
         "showlegend": true,
         "textposition": "auto",
         "type": "bar",
         "x": [
          "OLMo-2-1124-7B-Instruct-Q4_K_S.gguf",
          "Qwen2.5-Coder-32B-Instruct-Q4_K_S.gguf",
          "LLama-3.1-Nemotron-70B-Instruct-HF-IQ4_XS.gguf",
          "mistralai_Mistral-Small-3.2-24B-Instruct-2506-IQ4_XS.gguf",
          "DeepSeek-R1-0528-Qwen3-8B-Q4_K_S.gguf",
          "Meta-Llama-3.1-8B-Instruct-IQ4_XS.gguf",
          "Qwen2.5.1-Coder-7B-Instruct-Q4_K_S.gguf",
          "Meta-Llama-3.1-70B-Instruct-IQ4_XS.gguf",
          "DeepSeek-R1-0528-Qwen3-8B-UD-IQ1_S.gguf",
          "airoboros-mistral2.2-7b.Q4_K_S"
         ],
         "xaxis": "x",
         "y": {
          "bdata": "KVyPwvXIVkCPwvUoXA89QOxRuB6F6y5ArkfhehRuREDsUbgehZtUQM3MzMzMrFZAexSuR+FKWEC4HoXrUTgvQGZmZmZmJlZAFK5H4XqkWkA=",
          "dtype": "f8"
         },
         "yaxis": "y"
        }
       ],
       "layout": {
        "barmode": "stack",
        "hovermode": "x unified",
        "legend": {
         "title": {
          "text": "variable"
         },
         "tracegroupgap": 0
        },
        "template": {
         "data": {
          "bar": [
           {
            "error_x": {
             "color": "#2a3f5f"
            },
            "error_y": {
             "color": "#2a3f5f"
            },
            "marker": {
             "line": {
              "color": "#E5ECF6",
              "width": 0.5
             },
             "pattern": {
              "fillmode": "overlay",
              "size": 10,
              "solidity": 0.2
             }
            },
            "type": "bar"
           }
          ],
          "barpolar": [
           {
            "marker": {
             "line": {
              "color": "#E5ECF6",
              "width": 0.5
             },
             "pattern": {
              "fillmode": "overlay",
              "size": 10,
              "solidity": 0.2
             }
            },
            "type": "barpolar"
           }
          ],
          "carpet": [
           {
            "aaxis": {
             "endlinecolor": "#2a3f5f",
             "gridcolor": "white",
             "linecolor": "white",
             "minorgridcolor": "white",
             "startlinecolor": "#2a3f5f"
            },
            "baxis": {
             "endlinecolor": "#2a3f5f",
             "gridcolor": "white",
             "linecolor": "white",
             "minorgridcolor": "white",
             "startlinecolor": "#2a3f5f"
            },
            "type": "carpet"
           }
          ],
          "choropleth": [
           {
            "colorbar": {
             "outlinewidth": 0,
             "ticks": ""
            },
            "type": "choropleth"
           }
          ],
          "contour": [
           {
            "colorbar": {
             "outlinewidth": 0,
             "ticks": ""
            },
            "colorscale": [
             [
              0,
              "#0d0887"
             ],
             [
              0.1111111111111111,
              "#46039f"
             ],
             [
              0.2222222222222222,
              "#7201a8"
             ],
             [
              0.3333333333333333,
              "#9c179e"
             ],
             [
              0.4444444444444444,
              "#bd3786"
             ],
             [
              0.5555555555555556,
              "#d8576b"
             ],
             [
              0.6666666666666666,
              "#ed7953"
             ],
             [
              0.7777777777777778,
              "#fb9f3a"
             ],
             [
              0.8888888888888888,
              "#fdca26"
             ],
             [
              1,
              "#f0f921"
             ]
            ],
            "type": "contour"
           }
          ],
          "contourcarpet": [
           {
            "colorbar": {
             "outlinewidth": 0,
             "ticks": ""
            },
            "type": "contourcarpet"
           }
          ],
          "heatmap": [
           {
            "colorbar": {
             "outlinewidth": 0,
             "ticks": ""
            },
            "colorscale": [
             [
              0,
              "#0d0887"
             ],
             [
              0.1111111111111111,
              "#46039f"
             ],
             [
              0.2222222222222222,
              "#7201a8"
             ],
             [
              0.3333333333333333,
              "#9c179e"
             ],
             [
              0.4444444444444444,
              "#bd3786"
             ],
             [
              0.5555555555555556,
              "#d8576b"
             ],
             [
              0.6666666666666666,
              "#ed7953"
             ],
             [
              0.7777777777777778,
              "#fb9f3a"
             ],
             [
              0.8888888888888888,
              "#fdca26"
             ],
             [
              1,
              "#f0f921"
             ]
            ],
            "type": "heatmap"
           }
          ],
          "histogram": [
           {
            "marker": {
             "pattern": {
              "fillmode": "overlay",
              "size": 10,
              "solidity": 0.2
             }
            },
            "type": "histogram"
           }
          ],
          "histogram2d": [
           {
            "colorbar": {
             "outlinewidth": 0,
             "ticks": ""
            },
            "colorscale": [
             [
              0,
              "#0d0887"
             ],
             [
              0.1111111111111111,
              "#46039f"
             ],
             [
              0.2222222222222222,
              "#7201a8"
             ],
             [
              0.3333333333333333,
              "#9c179e"
             ],
             [
              0.4444444444444444,
              "#bd3786"
             ],
             [
              0.5555555555555556,
              "#d8576b"
             ],
             [
              0.6666666666666666,
              "#ed7953"
             ],
             [
              0.7777777777777778,
              "#fb9f3a"
             ],
             [
              0.8888888888888888,
              "#fdca26"
             ],
             [
              1,
              "#f0f921"
             ]
            ],
            "type": "histogram2d"
           }
          ],
          "histogram2dcontour": [
           {
            "colorbar": {
             "outlinewidth": 0,
             "ticks": ""
            },
            "colorscale": [
             [
              0,
              "#0d0887"
             ],
             [
              0.1111111111111111,
              "#46039f"
             ],
             [
              0.2222222222222222,
              "#7201a8"
             ],
             [
              0.3333333333333333,
              "#9c179e"
             ],
             [
              0.4444444444444444,
              "#bd3786"
             ],
             [
              0.5555555555555556,
              "#d8576b"
             ],
             [
              0.6666666666666666,
              "#ed7953"
             ],
             [
              0.7777777777777778,
              "#fb9f3a"
             ],
             [
              0.8888888888888888,
              "#fdca26"
             ],
             [
              1,
              "#f0f921"
             ]
            ],
            "type": "histogram2dcontour"
           }
          ],
          "mesh3d": [
           {
            "colorbar": {
             "outlinewidth": 0,
             "ticks": ""
            },
            "type": "mesh3d"
           }
          ],
          "parcoords": [
           {
            "line": {
             "colorbar": {
              "outlinewidth": 0,
              "ticks": ""
             }
            },
            "type": "parcoords"
           }
          ],
          "pie": [
           {
            "automargin": true,
            "type": "pie"
           }
          ],
          "scatter": [
           {
            "fillpattern": {
             "fillmode": "overlay",
             "size": 10,
             "solidity": 0.2
            },
            "type": "scatter"
           }
          ],
          "scatter3d": [
           {
            "line": {
             "colorbar": {
              "outlinewidth": 0,
              "ticks": ""
             }
            },
            "marker": {
             "colorbar": {
              "outlinewidth": 0,
              "ticks": ""
             }
            },
            "type": "scatter3d"
           }
          ],
          "scattercarpet": [
           {
            "marker": {
             "colorbar": {
              "outlinewidth": 0,
              "ticks": ""
             }
            },
            "type": "scattercarpet"
           }
          ],
          "scattergeo": [
           {
            "marker": {
             "colorbar": {
              "outlinewidth": 0,
              "ticks": ""
             }
            },
            "type": "scattergeo"
           }
          ],
          "scattergl": [
           {
            "marker": {
             "colorbar": {
              "outlinewidth": 0,
              "ticks": ""
             }
            },
            "type": "scattergl"
           }
          ],
          "scattermap": [
           {
            "marker": {
             "colorbar": {
              "outlinewidth": 0,
              "ticks": ""
             }
            },
            "type": "scattermap"
           }
          ],
          "scattermapbox": [
           {
            "marker": {
             "colorbar": {
              "outlinewidth": 0,
              "ticks": ""
             }
            },
            "type": "scattermapbox"
           }
          ],
          "scatterpolar": [
           {
            "marker": {
             "colorbar": {
              "outlinewidth": 0,
              "ticks": ""
             }
            },
            "type": "scatterpolar"
           }
          ],
          "scatterpolargl": [
           {
            "marker": {
             "colorbar": {
              "outlinewidth": 0,
              "ticks": ""
             }
            },
            "type": "scatterpolargl"
           }
          ],
          "scatterternary": [
           {
            "marker": {
             "colorbar": {
              "outlinewidth": 0,
              "ticks": ""
             }
            },
            "type": "scatterternary"
           }
          ],
          "surface": [
           {
            "colorbar": {
             "outlinewidth": 0,
             "ticks": ""
            },
            "colorscale": [
             [
              0,
              "#0d0887"
             ],
             [
              0.1111111111111111,
              "#46039f"
             ],
             [
              0.2222222222222222,
              "#7201a8"
             ],
             [
              0.3333333333333333,
              "#9c179e"
             ],
             [
              0.4444444444444444,
              "#bd3786"
             ],
             [
              0.5555555555555556,
              "#d8576b"
             ],
             [
              0.6666666666666666,
              "#ed7953"
             ],
             [
              0.7777777777777778,
              "#fb9f3a"
             ],
             [
              0.8888888888888888,
              "#fdca26"
             ],
             [
              1,
              "#f0f921"
             ]
            ],
            "type": "surface"
           }
          ],
          "table": [
           {
            "cells": {
             "fill": {
              "color": "#EBF0F8"
             },
             "line": {
              "color": "white"
             }
            },
            "header": {
             "fill": {
              "color": "#C8D4E3"
             },
             "line": {
              "color": "white"
             }
            },
            "type": "table"
           }
          ]
         },
         "layout": {
          "annotationdefaults": {
           "arrowcolor": "#2a3f5f",
           "arrowhead": 0,
           "arrowwidth": 1
          },
          "autotypenumbers": "strict",
          "coloraxis": {
           "colorbar": {
            "outlinewidth": 0,
            "ticks": ""
           }
          },
          "colorscale": {
           "diverging": [
            [
             0,
             "#8e0152"
            ],
            [
             0.1,
             "#c51b7d"
            ],
            [
             0.2,
             "#de77ae"
            ],
            [
             0.3,
             "#f1b6da"
            ],
            [
             0.4,
             "#fde0ef"
            ],
            [
             0.5,
             "#f7f7f7"
            ],
            [
             0.6,
             "#e6f5d0"
            ],
            [
             0.7,
             "#b8e186"
            ],
            [
             0.8,
             "#7fbc41"
            ],
            [
             0.9,
             "#4d9221"
            ],
            [
             1,
             "#276419"
            ]
           ],
           "sequential": [
            [
             0,
             "#0d0887"
            ],
            [
             0.1111111111111111,
             "#46039f"
            ],
            [
             0.2222222222222222,
             "#7201a8"
            ],
            [
             0.3333333333333333,
             "#9c179e"
            ],
            [
             0.4444444444444444,
             "#bd3786"
            ],
            [
             0.5555555555555556,
             "#d8576b"
            ],
            [
             0.6666666666666666,
             "#ed7953"
            ],
            [
             0.7777777777777778,
             "#fb9f3a"
            ],
            [
             0.8888888888888888,
             "#fdca26"
            ],
            [
             1,
             "#f0f921"
            ]
           ],
           "sequentialminus": [
            [
             0,
             "#0d0887"
            ],
            [
             0.1111111111111111,
             "#46039f"
            ],
            [
             0.2222222222222222,
             "#7201a8"
            ],
            [
             0.3333333333333333,
             "#9c179e"
            ],
            [
             0.4444444444444444,
             "#bd3786"
            ],
            [
             0.5555555555555556,
             "#d8576b"
            ],
            [
             0.6666666666666666,
             "#ed7953"
            ],
            [
             0.7777777777777778,
             "#fb9f3a"
            ],
            [
             0.8888888888888888,
             "#fdca26"
            ],
            [
             1,
             "#f0f921"
            ]
           ]
          },
          "colorway": [
           "#636efa",
           "#EF553B",
           "#00cc96",
           "#ab63fa",
           "#FFA15A",
           "#19d3f3",
           "#FF6692",
           "#B6E880",
           "#FF97FF",
           "#FECB52"
          ],
          "font": {
           "color": "#2a3f5f"
          },
          "geo": {
           "bgcolor": "white",
           "lakecolor": "white",
           "landcolor": "#E5ECF6",
           "showlakes": true,
           "showland": true,
           "subunitcolor": "white"
          },
          "hoverlabel": {
           "align": "left"
          },
          "hovermode": "closest",
          "mapbox": {
           "style": "light"
          },
          "paper_bgcolor": "white",
          "plot_bgcolor": "#E5ECF6",
          "polar": {
           "angularaxis": {
            "gridcolor": "white",
            "linecolor": "white",
            "ticks": ""
           },
           "bgcolor": "#E5ECF6",
           "radialaxis": {
            "gridcolor": "white",
            "linecolor": "white",
            "ticks": ""
           }
          },
          "scene": {
           "xaxis": {
            "backgroundcolor": "#E5ECF6",
            "gridcolor": "white",
            "gridwidth": 2,
            "linecolor": "white",
            "showbackground": true,
            "ticks": "",
            "zerolinecolor": "white"
           },
           "yaxis": {
            "backgroundcolor": "#E5ECF6",
            "gridcolor": "white",
            "gridwidth": 2,
            "linecolor": "white",
            "showbackground": true,
            "ticks": "",
            "zerolinecolor": "white"
           },
           "zaxis": {
            "backgroundcolor": "#E5ECF6",
            "gridcolor": "white",
            "gridwidth": 2,
            "linecolor": "white",
            "showbackground": true,
            "ticks": "",
            "zerolinecolor": "white"
           }
          },
          "shapedefaults": {
           "line": {
            "color": "#2a3f5f"
           }
          },
          "ternary": {
           "aaxis": {
            "gridcolor": "white",
            "linecolor": "white",
            "ticks": ""
           },
           "baxis": {
            "gridcolor": "white",
            "linecolor": "white",
            "ticks": ""
           },
           "bgcolor": "#E5ECF6",
           "caxis": {
            "gridcolor": "white",
            "linecolor": "white",
            "ticks": ""
           }
          },
          "title": {
           "x": 0.05
          },
          "xaxis": {
           "automargin": true,
           "gridcolor": "white",
           "linecolor": "white",
           "ticks": "",
           "title": {
            "standoff": 15
           },
           "zerolinecolor": "white",
           "zerolinewidth": 2
          },
          "yaxis": {
           "automargin": true,
           "gridcolor": "white",
           "linecolor": "white",
           "ticks": "",
           "title": {
            "standoff": 15
           },
           "zerolinecolor": "white",
           "zerolinewidth": 2
          }
         }
        },
        "title": {
         "text": "Processing vs Generation Speed Breakdown"
        },
        "xaxis": {
         "anchor": "y",
         "domain": [
          0,
          1
         ],
         "tickangle": -45,
         "title": {
          "text": "Model"
         }
        },
        "yaxis": {
         "anchor": "x",
         "domain": [
          0,
          1
         ],
         "title": {
          "text": "Speed (tokens/sec)"
         }
        }
       }
      }
     },
     "metadata": {},
     "output_type": "display_data"
    }
   ],
   "source": [
    "fig2 = px.bar(df_speed,\n",
    "             x='Model',\n",
    "             y=['Processing', 'Generation'],\n",
    "             title='Processing vs Generation Speed Breakdown',\n",
    "             labels={'value': 'Speed (tokens/sec)'},\n",
    "             color_discrete_map={'Processing':'#636EFA', 'Generation':'#EF553B'})\n",
    "\n",
    "fig2.update_layout(barmode='stack', \n",
    "                 xaxis_tickangle=-45,\n",
    "                 hovermode='x unified')\n",
    "fig2.show()"
   ]
  },
  {
   "cell_type": "code",
   "execution_count": 83,
   "id": "8d1c64eb",
   "metadata": {},
   "outputs": [
    {
     "data": {
      "text/html": [
       "<div>\n",
       "<style scoped>\n",
       "    .dataframe tbody tr th:only-of-type {\n",
       "        vertical-align: middle;\n",
       "    }\n",
       "\n",
       "    .dataframe tbody tr th {\n",
       "        vertical-align: top;\n",
       "    }\n",
       "\n",
       "    .dataframe thead th {\n",
       "        text-align: right;\n",
       "    }\n",
       "</style>\n",
       "<table border=\"1\" class=\"dataframe\">\n",
       "  <thead>\n",
       "    <tr style=\"text-align: right;\">\n",
       "      <th></th>\n",
       "      <th>Model</th>\n",
       "      <th>Processing</th>\n",
       "      <th>Generation</th>\n",
       "      <th>Total Tokens per Second</th>\n",
       "      <th>Size</th>\n",
       "    </tr>\n",
       "  </thead>\n",
       "  <tbody>\n",
       "    <tr>\n",
       "      <th>7</th>\n",
       "      <td>OLMo-2-1124-7B-Instruct-Q4_K_S.gguf</td>\n",
       "      <td>2000.00</td>\n",
       "      <td>91.14</td>\n",
       "      <td>1096.00</td>\n",
       "      <td>7.0</td>\n",
       "    </tr>\n",
       "    <tr>\n",
       "      <th>8</th>\n",
       "      <td>Qwen2.5-Coder-32B-Instruct-Q4_K_S.gguf</td>\n",
       "      <td>1333.33</td>\n",
       "      <td>29.06</td>\n",
       "      <td>720.00</td>\n",
       "      <td>32.0</td>\n",
       "    </tr>\n",
       "    <tr>\n",
       "      <th>3</th>\n",
       "      <td>LLama-3.1-Nemotron-70B-Instruct-HF-IQ4_XS.gguf</td>\n",
       "      <td>589.53</td>\n",
       "      <td>15.46</td>\n",
       "      <td>633.74</td>\n",
       "      <td>70.0</td>\n",
       "    </tr>\n",
       "    <tr>\n",
       "      <th>6</th>\n",
       "      <td>mistralai_Mistral-Small-3.2-24B-Instruct-2506-...</td>\n",
       "      <td>1157.89</td>\n",
       "      <td>40.86</td>\n",
       "      <td>618.32</td>\n",
       "      <td>24.0</td>\n",
       "    </tr>\n",
       "    <tr>\n",
       "      <th>1</th>\n",
       "      <td>DeepSeek-R1-0528-Qwen3-8B-Q4_K_S.gguf</td>\n",
       "      <td>1105.26</td>\n",
       "      <td>82.43</td>\n",
       "      <td>589.11</td>\n",
       "      <td>8.0</td>\n",
       "    </tr>\n",
       "    <tr>\n",
       "      <th>4</th>\n",
       "      <td>Meta-Llama-3.1-8B-Instruct-IQ4_XS.gguf</td>\n",
       "      <td>1074.07</td>\n",
       "      <td>90.70</td>\n",
       "      <td>581.07</td>\n",
       "      <td>8.0</td>\n",
       "    </tr>\n",
       "    <tr>\n",
       "      <th>9</th>\n",
       "      <td>Qwen2.5.1-Coder-7B-Instruct-Q4_K_S.gguf</td>\n",
       "      <td>2000.00</td>\n",
       "      <td>97.17</td>\n",
       "      <td>544.00</td>\n",
       "      <td>7.0</td>\n",
       "    </tr>\n",
       "    <tr>\n",
       "      <th>5</th>\n",
       "      <td>Meta-Llama-3.1-70B-Instruct-IQ4_XS.gguf</td>\n",
       "      <td>315.22</td>\n",
       "      <td>15.61</td>\n",
       "      <td>170.53</td>\n",
       "      <td>70.0</td>\n",
       "    </tr>\n",
       "    <tr>\n",
       "      <th>2</th>\n",
       "      <td>DeepSeek-R1-0528-Qwen3-8B-UD-IQ1_S.gguf</td>\n",
       "      <td>210.00</td>\n",
       "      <td>88.60</td>\n",
       "      <td>111.93</td>\n",
       "      <td>8.0</td>\n",
       "    </tr>\n",
       "    <tr>\n",
       "      <th>0</th>\n",
       "      <td>airoboros-mistral2.2-7b.Q4_K_S</td>\n",
       "      <td>424.66</td>\n",
       "      <td>106.57</td>\n",
       "      <td>98.52</td>\n",
       "      <td>NaN</td>\n",
       "    </tr>\n",
       "  </tbody>\n",
       "</table>\n",
       "</div>"
      ],
      "text/plain": [
       "                                               Model  Processing  Generation  \\\n",
       "7                OLMo-2-1124-7B-Instruct-Q4_K_S.gguf     2000.00       91.14   \n",
       "8             Qwen2.5-Coder-32B-Instruct-Q4_K_S.gguf     1333.33       29.06   \n",
       "3     LLama-3.1-Nemotron-70B-Instruct-HF-IQ4_XS.gguf      589.53       15.46   \n",
       "6  mistralai_Mistral-Small-3.2-24B-Instruct-2506-...     1157.89       40.86   \n",
       "1              DeepSeek-R1-0528-Qwen3-8B-Q4_K_S.gguf     1105.26       82.43   \n",
       "4             Meta-Llama-3.1-8B-Instruct-IQ4_XS.gguf     1074.07       90.70   \n",
       "9            Qwen2.5.1-Coder-7B-Instruct-Q4_K_S.gguf     2000.00       97.17   \n",
       "5            Meta-Llama-3.1-70B-Instruct-IQ4_XS.gguf      315.22       15.61   \n",
       "2            DeepSeek-R1-0528-Qwen3-8B-UD-IQ1_S.gguf      210.00       88.60   \n",
       "0                     airoboros-mistral2.2-7b.Q4_K_S      424.66      106.57   \n",
       "\n",
       "   Total Tokens per Second  Size  \n",
       "7                  1096.00   7.0  \n",
       "8                   720.00  32.0  \n",
       "3                   633.74  70.0  \n",
       "6                   618.32  24.0  \n",
       "1                   589.11   8.0  \n",
       "4                   581.07   8.0  \n",
       "9                   544.00   7.0  \n",
       "5                   170.53  70.0  \n",
       "2                   111.93   8.0  \n",
       "0                    98.52   NaN  "
      ]
     },
     "execution_count": 83,
     "metadata": {},
     "output_type": "execute_result"
    }
   ],
   "source": [
    "df_speed"
   ]
  },
  {
   "cell_type": "code",
   "execution_count": 82,
   "id": "b8887e54",
   "metadata": {},
   "outputs": [
    {
     "data": {
      "application/vnd.plotly.v1+json": {
       "config": {
        "plotlyServerURL": "https://plot.ly"
       },
       "data": [
        {
         "hovertemplate": "<b>%{hovertext}</b><br><br>Model Size (B)=%{x}<br>Total Speed=%{y}<br>Processing Speed=%{marker.size}<br>Generation Speed=%{marker.color}<extra></extra>",
         "hovertext": [
          "OLMo-2-1124-7B-Instruct-Q4_K_S.gguf",
          "Qwen2.5-Coder-32B-Instruct-Q4_K_S.gguf",
          "LLama-3.1-Nemotron-70B-Instruct-HF-IQ4_XS.gguf",
          "mistralai_Mistral-Small-3.2-24B-Instruct-2506-IQ4_XS.gguf",
          "DeepSeek-R1-0528-Qwen3-8B-Q4_K_S.gguf",
          "Meta-Llama-3.1-8B-Instruct-IQ4_XS.gguf",
          "Qwen2.5.1-Coder-7B-Instruct-Q4_K_S.gguf",
          "Meta-Llama-3.1-70B-Instruct-IQ4_XS.gguf",
          "DeepSeek-R1-0528-Qwen3-8B-UD-IQ1_S.gguf",
          "airoboros-mistral2.2-7b.Q4_K_S"
         ],
         "legendgroup": "",
         "marker": {
          "color": {
           "bdata": "KVyPwvXIVkCPwvUoXA89QOxRuB6F6y5ArkfhehRuREDsUbgehZtUQM3MzMzMrFZAexSuR+FKWEC4HoXrUTgvQGZmZmZmJlZAFK5H4XqkWkA=",
           "dtype": "f8"
          },
          "coloraxis": "coloraxis",
          "line": {
           "color": "DarkSlateGrey",
           "width": 1
          },
          "opacity": 0.7,
          "size": {
           "bdata": "AAAAAABAn0C4HoXrUdWUQArXo3A9bIJAw/UoXI8XkkDXo3A9CkWRQOF6FK5HyJBAAAAAAABAn0DsUbgehbNzQAAAAAAAQGpAw/UoXI+KekA=",
           "dtype": "f8"
          },
          "sizemode": "area",
          "sizeref": 5,
          "symbol": "circle"
         },
         "mode": "markers",
         "name": "",
         "orientation": "v",
         "showlegend": false,
         "type": "scatter",
         "x": {
          "bdata": "AAAAAAAAHEAAAAAAAABAQAAAAAAAgFFAAAAAAAAAOEAAAAAAAAAgQAAAAAAAACBAAAAAAAAAHEAAAAAAAIBRQAAAAAAAACBAAAAAAAAA+H8=",
          "dtype": "f8"
         },
         "xaxis": "x",
         "y": {
          "bdata": "AAAAAAAgkUAAAAAAAICGQFK4HoXrzYNAw/UoXI9Sg0B7FK5H4WiCQMP1KFyPKIJAAAAAAAAAgUApXI/C9VBlQOxRuB6F+1tA4XoUrkehWEA=",
          "dtype": "f8"
         },
         "yaxis": "y"
        }
       ],
       "layout": {
        "coloraxis": {
         "colorbar": {
          "title": {
           "text": "Generation Speed"
          }
         },
         "colorscale": [
          [
           0,
           "#0d0887"
          ],
          [
           0.1111111111111111,
           "#46039f"
          ],
          [
           0.2222222222222222,
           "#7201a8"
          ],
          [
           0.3333333333333333,
           "#9c179e"
          ],
          [
           0.4444444444444444,
           "#bd3786"
          ],
          [
           0.5555555555555556,
           "#d8576b"
          ],
          [
           0.6666666666666666,
           "#ed7953"
          ],
          [
           0.7777777777777778,
           "#fb9f3a"
          ],
          [
           0.8888888888888888,
           "#fdca26"
          ],
          [
           1,
           "#f0f921"
          ]
         ]
        },
        "legend": {
         "itemsizing": "constant",
         "tracegroupgap": 0
        },
        "template": {
         "data": {
          "bar": [
           {
            "error_x": {
             "color": "#2a3f5f"
            },
            "error_y": {
             "color": "#2a3f5f"
            },
            "marker": {
             "line": {
              "color": "#E5ECF6",
              "width": 0.5
             },
             "pattern": {
              "fillmode": "overlay",
              "size": 10,
              "solidity": 0.2
             }
            },
            "type": "bar"
           }
          ],
          "barpolar": [
           {
            "marker": {
             "line": {
              "color": "#E5ECF6",
              "width": 0.5
             },
             "pattern": {
              "fillmode": "overlay",
              "size": 10,
              "solidity": 0.2
             }
            },
            "type": "barpolar"
           }
          ],
          "carpet": [
           {
            "aaxis": {
             "endlinecolor": "#2a3f5f",
             "gridcolor": "white",
             "linecolor": "white",
             "minorgridcolor": "white",
             "startlinecolor": "#2a3f5f"
            },
            "baxis": {
             "endlinecolor": "#2a3f5f",
             "gridcolor": "white",
             "linecolor": "white",
             "minorgridcolor": "white",
             "startlinecolor": "#2a3f5f"
            },
            "type": "carpet"
           }
          ],
          "choropleth": [
           {
            "colorbar": {
             "outlinewidth": 0,
             "ticks": ""
            },
            "type": "choropleth"
           }
          ],
          "contour": [
           {
            "colorbar": {
             "outlinewidth": 0,
             "ticks": ""
            },
            "colorscale": [
             [
              0,
              "#0d0887"
             ],
             [
              0.1111111111111111,
              "#46039f"
             ],
             [
              0.2222222222222222,
              "#7201a8"
             ],
             [
              0.3333333333333333,
              "#9c179e"
             ],
             [
              0.4444444444444444,
              "#bd3786"
             ],
             [
              0.5555555555555556,
              "#d8576b"
             ],
             [
              0.6666666666666666,
              "#ed7953"
             ],
             [
              0.7777777777777778,
              "#fb9f3a"
             ],
             [
              0.8888888888888888,
              "#fdca26"
             ],
             [
              1,
              "#f0f921"
             ]
            ],
            "type": "contour"
           }
          ],
          "contourcarpet": [
           {
            "colorbar": {
             "outlinewidth": 0,
             "ticks": ""
            },
            "type": "contourcarpet"
           }
          ],
          "heatmap": [
           {
            "colorbar": {
             "outlinewidth": 0,
             "ticks": ""
            },
            "colorscale": [
             [
              0,
              "#0d0887"
             ],
             [
              0.1111111111111111,
              "#46039f"
             ],
             [
              0.2222222222222222,
              "#7201a8"
             ],
             [
              0.3333333333333333,
              "#9c179e"
             ],
             [
              0.4444444444444444,
              "#bd3786"
             ],
             [
              0.5555555555555556,
              "#d8576b"
             ],
             [
              0.6666666666666666,
              "#ed7953"
             ],
             [
              0.7777777777777778,
              "#fb9f3a"
             ],
             [
              0.8888888888888888,
              "#fdca26"
             ],
             [
              1,
              "#f0f921"
             ]
            ],
            "type": "heatmap"
           }
          ],
          "histogram": [
           {
            "marker": {
             "pattern": {
              "fillmode": "overlay",
              "size": 10,
              "solidity": 0.2
             }
            },
            "type": "histogram"
           }
          ],
          "histogram2d": [
           {
            "colorbar": {
             "outlinewidth": 0,
             "ticks": ""
            },
            "colorscale": [
             [
              0,
              "#0d0887"
             ],
             [
              0.1111111111111111,
              "#46039f"
             ],
             [
              0.2222222222222222,
              "#7201a8"
             ],
             [
              0.3333333333333333,
              "#9c179e"
             ],
             [
              0.4444444444444444,
              "#bd3786"
             ],
             [
              0.5555555555555556,
              "#d8576b"
             ],
             [
              0.6666666666666666,
              "#ed7953"
             ],
             [
              0.7777777777777778,
              "#fb9f3a"
             ],
             [
              0.8888888888888888,
              "#fdca26"
             ],
             [
              1,
              "#f0f921"
             ]
            ],
            "type": "histogram2d"
           }
          ],
          "histogram2dcontour": [
           {
            "colorbar": {
             "outlinewidth": 0,
             "ticks": ""
            },
            "colorscale": [
             [
              0,
              "#0d0887"
             ],
             [
              0.1111111111111111,
              "#46039f"
             ],
             [
              0.2222222222222222,
              "#7201a8"
             ],
             [
              0.3333333333333333,
              "#9c179e"
             ],
             [
              0.4444444444444444,
              "#bd3786"
             ],
             [
              0.5555555555555556,
              "#d8576b"
             ],
             [
              0.6666666666666666,
              "#ed7953"
             ],
             [
              0.7777777777777778,
              "#fb9f3a"
             ],
             [
              0.8888888888888888,
              "#fdca26"
             ],
             [
              1,
              "#f0f921"
             ]
            ],
            "type": "histogram2dcontour"
           }
          ],
          "mesh3d": [
           {
            "colorbar": {
             "outlinewidth": 0,
             "ticks": ""
            },
            "type": "mesh3d"
           }
          ],
          "parcoords": [
           {
            "line": {
             "colorbar": {
              "outlinewidth": 0,
              "ticks": ""
             }
            },
            "type": "parcoords"
           }
          ],
          "pie": [
           {
            "automargin": true,
            "type": "pie"
           }
          ],
          "scatter": [
           {
            "fillpattern": {
             "fillmode": "overlay",
             "size": 10,
             "solidity": 0.2
            },
            "type": "scatter"
           }
          ],
          "scatter3d": [
           {
            "line": {
             "colorbar": {
              "outlinewidth": 0,
              "ticks": ""
             }
            },
            "marker": {
             "colorbar": {
              "outlinewidth": 0,
              "ticks": ""
             }
            },
            "type": "scatter3d"
           }
          ],
          "scattercarpet": [
           {
            "marker": {
             "colorbar": {
              "outlinewidth": 0,
              "ticks": ""
             }
            },
            "type": "scattercarpet"
           }
          ],
          "scattergeo": [
           {
            "marker": {
             "colorbar": {
              "outlinewidth": 0,
              "ticks": ""
             }
            },
            "type": "scattergeo"
           }
          ],
          "scattergl": [
           {
            "marker": {
             "colorbar": {
              "outlinewidth": 0,
              "ticks": ""
             }
            },
            "type": "scattergl"
           }
          ],
          "scattermap": [
           {
            "marker": {
             "colorbar": {
              "outlinewidth": 0,
              "ticks": ""
             }
            },
            "type": "scattermap"
           }
          ],
          "scattermapbox": [
           {
            "marker": {
             "colorbar": {
              "outlinewidth": 0,
              "ticks": ""
             }
            },
            "type": "scattermapbox"
           }
          ],
          "scatterpolar": [
           {
            "marker": {
             "colorbar": {
              "outlinewidth": 0,
              "ticks": ""
             }
            },
            "type": "scatterpolar"
           }
          ],
          "scatterpolargl": [
           {
            "marker": {
             "colorbar": {
              "outlinewidth": 0,
              "ticks": ""
             }
            },
            "type": "scatterpolargl"
           }
          ],
          "scatterternary": [
           {
            "marker": {
             "colorbar": {
              "outlinewidth": 0,
              "ticks": ""
             }
            },
            "type": "scatterternary"
           }
          ],
          "surface": [
           {
            "colorbar": {
             "outlinewidth": 0,
             "ticks": ""
            },
            "colorscale": [
             [
              0,
              "#0d0887"
             ],
             [
              0.1111111111111111,
              "#46039f"
             ],
             [
              0.2222222222222222,
              "#7201a8"
             ],
             [
              0.3333333333333333,
              "#9c179e"
             ],
             [
              0.4444444444444444,
              "#bd3786"
             ],
             [
              0.5555555555555556,
              "#d8576b"
             ],
             [
              0.6666666666666666,
              "#ed7953"
             ],
             [
              0.7777777777777778,
              "#fb9f3a"
             ],
             [
              0.8888888888888888,
              "#fdca26"
             ],
             [
              1,
              "#f0f921"
             ]
            ],
            "type": "surface"
           }
          ],
          "table": [
           {
            "cells": {
             "fill": {
              "color": "#EBF0F8"
             },
             "line": {
              "color": "white"
             }
            },
            "header": {
             "fill": {
              "color": "#C8D4E3"
             },
             "line": {
              "color": "white"
             }
            },
            "type": "table"
           }
          ]
         },
         "layout": {
          "annotationdefaults": {
           "arrowcolor": "#2a3f5f",
           "arrowhead": 0,
           "arrowwidth": 1
          },
          "autotypenumbers": "strict",
          "coloraxis": {
           "colorbar": {
            "outlinewidth": 0,
            "ticks": ""
           }
          },
          "colorscale": {
           "diverging": [
            [
             0,
             "#8e0152"
            ],
            [
             0.1,
             "#c51b7d"
            ],
            [
             0.2,
             "#de77ae"
            ],
            [
             0.3,
             "#f1b6da"
            ],
            [
             0.4,
             "#fde0ef"
            ],
            [
             0.5,
             "#f7f7f7"
            ],
            [
             0.6,
             "#e6f5d0"
            ],
            [
             0.7,
             "#b8e186"
            ],
            [
             0.8,
             "#7fbc41"
            ],
            [
             0.9,
             "#4d9221"
            ],
            [
             1,
             "#276419"
            ]
           ],
           "sequential": [
            [
             0,
             "#0d0887"
            ],
            [
             0.1111111111111111,
             "#46039f"
            ],
            [
             0.2222222222222222,
             "#7201a8"
            ],
            [
             0.3333333333333333,
             "#9c179e"
            ],
            [
             0.4444444444444444,
             "#bd3786"
            ],
            [
             0.5555555555555556,
             "#d8576b"
            ],
            [
             0.6666666666666666,
             "#ed7953"
            ],
            [
             0.7777777777777778,
             "#fb9f3a"
            ],
            [
             0.8888888888888888,
             "#fdca26"
            ],
            [
             1,
             "#f0f921"
            ]
           ],
           "sequentialminus": [
            [
             0,
             "#0d0887"
            ],
            [
             0.1111111111111111,
             "#46039f"
            ],
            [
             0.2222222222222222,
             "#7201a8"
            ],
            [
             0.3333333333333333,
             "#9c179e"
            ],
            [
             0.4444444444444444,
             "#bd3786"
            ],
            [
             0.5555555555555556,
             "#d8576b"
            ],
            [
             0.6666666666666666,
             "#ed7953"
            ],
            [
             0.7777777777777778,
             "#fb9f3a"
            ],
            [
             0.8888888888888888,
             "#fdca26"
            ],
            [
             1,
             "#f0f921"
            ]
           ]
          },
          "colorway": [
           "#636efa",
           "#EF553B",
           "#00cc96",
           "#ab63fa",
           "#FFA15A",
           "#19d3f3",
           "#FF6692",
           "#B6E880",
           "#FF97FF",
           "#FECB52"
          ],
          "font": {
           "color": "#2a3f5f"
          },
          "geo": {
           "bgcolor": "white",
           "lakecolor": "white",
           "landcolor": "#E5ECF6",
           "showlakes": true,
           "showland": true,
           "subunitcolor": "white"
          },
          "hoverlabel": {
           "align": "left"
          },
          "hovermode": "closest",
          "mapbox": {
           "style": "light"
          },
          "paper_bgcolor": "white",
          "plot_bgcolor": "#E5ECF6",
          "polar": {
           "angularaxis": {
            "gridcolor": "white",
            "linecolor": "white",
            "ticks": ""
           },
           "bgcolor": "#E5ECF6",
           "radialaxis": {
            "gridcolor": "white",
            "linecolor": "white",
            "ticks": ""
           }
          },
          "scene": {
           "xaxis": {
            "backgroundcolor": "#E5ECF6",
            "gridcolor": "white",
            "gridwidth": 2,
            "linecolor": "white",
            "showbackground": true,
            "ticks": "",
            "zerolinecolor": "white"
           },
           "yaxis": {
            "backgroundcolor": "#E5ECF6",
            "gridcolor": "white",
            "gridwidth": 2,
            "linecolor": "white",
            "showbackground": true,
            "ticks": "",
            "zerolinecolor": "white"
           },
           "zaxis": {
            "backgroundcolor": "#E5ECF6",
            "gridcolor": "white",
            "gridwidth": 2,
            "linecolor": "white",
            "showbackground": true,
            "ticks": "",
            "zerolinecolor": "white"
           }
          },
          "shapedefaults": {
           "line": {
            "color": "#2a3f5f"
           }
          },
          "ternary": {
           "aaxis": {
            "gridcolor": "white",
            "linecolor": "white",
            "ticks": ""
           },
           "baxis": {
            "gridcolor": "white",
            "linecolor": "white",
            "ticks": ""
           },
           "bgcolor": "#E5ECF6",
           "caxis": {
            "gridcolor": "white",
            "linecolor": "white",
            "ticks": ""
           }
          },
          "title": {
           "x": 0.05
          },
          "xaxis": {
           "automargin": true,
           "gridcolor": "white",
           "linecolor": "white",
           "ticks": "",
           "title": {
            "standoff": 15
           },
           "zerolinecolor": "white",
           "zerolinewidth": 2
          },
          "yaxis": {
           "automargin": true,
           "gridcolor": "white",
           "linecolor": "white",
           "ticks": "",
           "title": {
            "standoff": 15
           },
           "zerolinecolor": "white",
           "zerolinewidth": 2
          }
         }
        },
        "title": {
         "text": "Gen Performance vs Model Size"
        },
        "xaxis": {
         "anchor": "y",
         "domain": [
          0,
          1
         ],
         "title": {
          "text": "Model Size (B)"
         },
         "type": "log"
        },
        "yaxis": {
         "anchor": "x",
         "domain": [
          0,
          1
         ],
         "title": {
          "text": "Total Speed"
         }
        }
       }
      }
     },
     "metadata": {},
     "output_type": "display_data"
    }
   ],
   "source": [
    "# Extract model size from names\n",
    "df_speed['Size'] = df_speed['Model'].str.extract(r'(\\d+)B').astype(float)\n",
    "\n",
    "fig3 = px.scatter(df_speed,\n",
    "                 x='Size',\n",
    "                 y='Total Tokens per Second',\n",
    "                 size='Processing',\n",
    "                 color='Generation',\n",
    "                 hover_name='Model',\n",
    "                 title='Gen Performance vs Model Size',\n",
    "                 labels={'Size':'Model Size (B)',\n",
    "                        'Total Tokens per Second':'Total Speed',\n",
    "                        'Processing':'Processing Speed',\n",
    "                        'Generation':'Generation Speed'},\n",
    "                 log_x=True)\n",
    "\n",
    "fig3.update_traces(marker=dict(opacity=0.7, line=dict(width=1, color='DarkSlateGrey')))\n",
    "fig3.show()"
   ]
  },
  {
   "cell_type": "markdown",
   "id": "76af0ce5",
   "metadata": {},
   "source": [
    "## Direct benchmark results\n",
    "The koboldcpp comes with direct benchmark option (update Feb 24'), here are the results :\n"
   ]
  },
  {
   "cell_type": "code",
   "execution_count": 71,
   "id": "2f715073",
   "metadata": {},
   "outputs": [
    {
     "name": "stderr",
     "output_type": "stream",
     "text": [
      "/tmp/ipykernel_1349068/1598663120.py:2: ParserWarning:\n",
      "\n",
      "Length of header or names does not match length of data. This leads to a loss of data with index_col=False.\n",
      "\n"
     ]
    },
    {
     "data": {
      "text/html": [
       "<div>\n",
       "<style scoped>\n",
       "    .dataframe tbody tr th:only-of-type {\n",
       "        vertical-align: middle;\n",
       "    }\n",
       "\n",
       "    .dataframe tbody tr th {\n",
       "        vertical-align: top;\n",
       "    }\n",
       "\n",
       "    .dataframe thead th {\n",
       "        text-align: right;\n",
       "    }\n",
       "</style>\n",
       "<table border=\"1\" class=\"dataframe\">\n",
       "  <thead>\n",
       "    <tr style=\"text-align: right;\">\n",
       "      <th></th>\n",
       "      <th>Timestamp</th>\n",
       "      <th>Backend</th>\n",
       "      <th>Layers</th>\n",
       "      <th>Model</th>\n",
       "      <th>MaxCtx</th>\n",
       "      <th>GenAmount</th>\n",
       "      <th>ProcessingTime</th>\n",
       "      <th>ProcessingSpeed</th>\n",
       "      <th>GenerationTime</th>\n",
       "      <th>GenerationSpeed</th>\n",
       "      <th>TotalTime</th>\n",
       "      <th>Output</th>\n",
       "      <th>Flags</th>\n",
       "    </tr>\n",
       "  </thead>\n",
       "  <tbody>\n",
       "    <tr>\n",
       "      <th>0</th>\n",
       "      <td>2025-06-25 07:47:04.689613+00:00</td>\n",
       "      <td>koboldcpp_cublas.so</td>\n",
       "      <td>35</td>\n",
       "      <td>airoboros-mistral2.2-7b.Q4_K_S</td>\n",
       "      <td>4096</td>\n",
       "      <td>100</td>\n",
       "      <td>0.92</td>\n",
       "      <td>4362.45</td>\n",
       "      <td>1.25</td>\n",
       "      <td>80.13</td>\n",
       "      <td>2.16</td>\n",
       "      <td>1 1 1 1</td>\n",
       "      <td>NoAVX2=False Threads=17 HighPriority=False Cub...</td>\n",
       "    </tr>\n",
       "    <tr>\n",
       "      <th>1</th>\n",
       "      <td>2025-06-25 07:47:17.604407+00:00</td>\n",
       "      <td>koboldcpp_cublas.so</td>\n",
       "      <td>39</td>\n",
       "      <td>DeepSeek-R1-0528-Qwen3-8B-Q4_K_S</td>\n",
       "      <td>4096</td>\n",
       "      <td>100</td>\n",
       "      <td>0.99</td>\n",
       "      <td>4056.85</td>\n",
       "      <td>1.53</td>\n",
       "      <td>65.40</td>\n",
       "      <td>2.51</td>\n",
       "      <td>1 1 1 1</td>\n",
       "      <td>NoAVX2=False Threads=17 HighPriority=False Cub...</td>\n",
       "    </tr>\n",
       "    <tr>\n",
       "      <th>2</th>\n",
       "      <td>2025-06-25 07:47:28.277415+00:00</td>\n",
       "      <td>koboldcpp_cublas.so</td>\n",
       "      <td>39</td>\n",
       "      <td>DeepSeek-R1-0528-Qwen3-8B-UD-IQ1_S</td>\n",
       "      <td>4096</td>\n",
       "      <td>100</td>\n",
       "      <td>1.14</td>\n",
       "      <td>3511.42</td>\n",
       "      <td>1.22</td>\n",
       "      <td>82.24</td>\n",
       "      <td>2.35</td>\n",
       "      <td>1 1 1 1</td>\n",
       "      <td>NoAVX2=False Threads=17 HighPriority=False Cub...</td>\n",
       "    </tr>\n",
       "  </tbody>\n",
       "</table>\n",
       "</div>"
      ],
      "text/plain": [
       "                          Timestamp              Backend  Layers  \\\n",
       "0  2025-06-25 07:47:04.689613+00:00  koboldcpp_cublas.so      35   \n",
       "1  2025-06-25 07:47:17.604407+00:00  koboldcpp_cublas.so      39   \n",
       "2  2025-06-25 07:47:28.277415+00:00  koboldcpp_cublas.so      39   \n",
       "\n",
       "                                Model  MaxCtx  GenAmount  ProcessingTime  \\\n",
       "0      airoboros-mistral2.2-7b.Q4_K_S    4096        100            0.92   \n",
       "1    DeepSeek-R1-0528-Qwen3-8B-Q4_K_S    4096        100            0.99   \n",
       "2  DeepSeek-R1-0528-Qwen3-8B-UD-IQ1_S    4096        100            1.14   \n",
       "\n",
       "   ProcessingSpeed  GenerationTime  GenerationSpeed  TotalTime    Output  \\\n",
       "0          4362.45            1.25            80.13       2.16   1 1 1 1   \n",
       "1          4056.85            1.53            65.40       2.51   1 1 1 1   \n",
       "2          3511.42            1.22            82.24       2.35   1 1 1 1   \n",
       "\n",
       "                                               Flags  \n",
       "0  NoAVX2=False Threads=17 HighPriority=False Cub...  \n",
       "1  NoAVX2=False Threads=17 HighPriority=False Cub...  \n",
       "2  NoAVX2=False Threads=17 HighPriority=False Cub...  "
      ]
     },
     "execution_count": 71,
     "metadata": {},
     "output_type": "execute_result"
    }
   ],
   "source": [
    "# add size\n",
    "df_bench = pd.read_csv(\"../models/bench.csv\", index_col=False)\n",
    "df_bench.head(3)"
   ]
  },
  {
   "cell_type": "code",
   "execution_count": 72,
   "id": "33351bfa",
   "metadata": {},
   "outputs": [
    {
     "data": {
      "text/html": [
       "<div>\n",
       "<style scoped>\n",
       "    .dataframe tbody tr th:only-of-type {\n",
       "        vertical-align: middle;\n",
       "    }\n",
       "\n",
       "    .dataframe tbody tr th {\n",
       "        vertical-align: top;\n",
       "    }\n",
       "\n",
       "    .dataframe thead th {\n",
       "        text-align: right;\n",
       "    }\n",
       "</style>\n",
       "<table border=\"1\" class=\"dataframe\">\n",
       "  <thead>\n",
       "    <tr style=\"text-align: right;\">\n",
       "      <th></th>\n",
       "      <th>Timestamp</th>\n",
       "      <th>Backend</th>\n",
       "      <th>Layers</th>\n",
       "      <th>Model</th>\n",
       "      <th>MaxCtx</th>\n",
       "      <th>GenAmount</th>\n",
       "      <th>ProcessingTime</th>\n",
       "      <th>ProcessingSpeed</th>\n",
       "      <th>GenerationTime</th>\n",
       "      <th>GenerationSpeed</th>\n",
       "      <th>TotalTime</th>\n",
       "      <th>Output</th>\n",
       "      <th>Flags</th>\n",
       "      <th>size</th>\n",
       "    </tr>\n",
       "  </thead>\n",
       "  <tbody>\n",
       "    <tr>\n",
       "      <th>0</th>\n",
       "      <td>2025-06-25 07:47:04.689613+00:00</td>\n",
       "      <td>koboldcpp_cublas.so</td>\n",
       "      <td>35</td>\n",
       "      <td>airoboros-mistral2.2-7b.Q4_K_S</td>\n",
       "      <td>4096</td>\n",
       "      <td>100</td>\n",
       "      <td>0.92</td>\n",
       "      <td>4362.45</td>\n",
       "      <td>1.25</td>\n",
       "      <td>80.13</td>\n",
       "      <td>2.16</td>\n",
       "      <td>1 1 1 1</td>\n",
       "      <td>NoAVX2=False Threads=17 HighPriority=False Cub...</td>\n",
       "      <td>7.0</td>\n",
       "    </tr>\n",
       "    <tr>\n",
       "      <th>1</th>\n",
       "      <td>2025-06-25 07:47:17.604407+00:00</td>\n",
       "      <td>koboldcpp_cublas.so</td>\n",
       "      <td>39</td>\n",
       "      <td>DeepSeek-R1-0528-Qwen3-8B-Q4_K_S</td>\n",
       "      <td>4096</td>\n",
       "      <td>100</td>\n",
       "      <td>0.99</td>\n",
       "      <td>4056.85</td>\n",
       "      <td>1.53</td>\n",
       "      <td>65.40</td>\n",
       "      <td>2.51</td>\n",
       "      <td>1 1 1 1</td>\n",
       "      <td>NoAVX2=False Threads=17 HighPriority=False Cub...</td>\n",
       "      <td>8.0</td>\n",
       "    </tr>\n",
       "    <tr>\n",
       "      <th>2</th>\n",
       "      <td>2025-06-25 07:47:28.277415+00:00</td>\n",
       "      <td>koboldcpp_cublas.so</td>\n",
       "      <td>39</td>\n",
       "      <td>DeepSeek-R1-0528-Qwen3-8B-UD-IQ1_S</td>\n",
       "      <td>4096</td>\n",
       "      <td>100</td>\n",
       "      <td>1.14</td>\n",
       "      <td>3511.42</td>\n",
       "      <td>1.22</td>\n",
       "      <td>82.24</td>\n",
       "      <td>2.35</td>\n",
       "      <td>1 1 1 1</td>\n",
       "      <td>NoAVX2=False Threads=17 HighPriority=False Cub...</td>\n",
       "      <td>8.0</td>\n",
       "    </tr>\n",
       "  </tbody>\n",
       "</table>\n",
       "</div>"
      ],
      "text/plain": [
       "                          Timestamp              Backend  Layers  \\\n",
       "0  2025-06-25 07:47:04.689613+00:00  koboldcpp_cublas.so      35   \n",
       "1  2025-06-25 07:47:17.604407+00:00  koboldcpp_cublas.so      39   \n",
       "2  2025-06-25 07:47:28.277415+00:00  koboldcpp_cublas.so      39   \n",
       "\n",
       "                                Model  MaxCtx  GenAmount  ProcessingTime  \\\n",
       "0      airoboros-mistral2.2-7b.Q4_K_S    4096        100            0.92   \n",
       "1    DeepSeek-R1-0528-Qwen3-8B-Q4_K_S    4096        100            0.99   \n",
       "2  DeepSeek-R1-0528-Qwen3-8B-UD-IQ1_S    4096        100            1.14   \n",
       "\n",
       "   ProcessingSpeed  GenerationTime  GenerationSpeed  TotalTime    Output  \\\n",
       "0          4362.45            1.25            80.13       2.16   1 1 1 1   \n",
       "1          4056.85            1.53            65.40       2.51   1 1 1 1   \n",
       "2          3511.42            1.22            82.24       2.35   1 1 1 1   \n",
       "\n",
       "                                               Flags  size  \n",
       "0  NoAVX2=False Threads=17 HighPriority=False Cub...   7.0  \n",
       "1  NoAVX2=False Threads=17 HighPriority=False Cub...   8.0  \n",
       "2  NoAVX2=False Threads=17 HighPriority=False Cub...   8.0  "
      ]
     },
     "execution_count": 72,
     "metadata": {},
     "output_type": "execute_result"
    }
   ],
   "source": [
    "df_models[\"Model\"] = df_models[\"full_name\"].str.replace(r\"\\.gguf(\\.\\d+)?$\", \"\", regex=True)\n",
    "df_merged = df_bench.merge(df_models, on=\"Model\", how=\"left\")\n",
    "df_merged.drop(columns=[\"full_name\", \"name\"], inplace=True)\n",
    "df_merged.head(3)"
   ]
  },
  {
   "cell_type": "code",
   "execution_count": null,
   "id": "e5a8fc59",
   "metadata": {},
   "outputs": [
    {
     "data": {
      "application/vnd.plotly.v1+json": {
       "config": {
        "plotlyServerURL": "https://plot.ly"
       },
       "data": [
        {
         "hovertemplate": "<b>%{hovertext}</b><br><br>Model=airoboros-mistral2.2-7b.Q4_K_S<br>Model Size (B)=%{x}<br>Generation Speed (tokens/sec)=%{y}<br>Layers=%{marker.size}<extra></extra>",
         "hovertext": [
          "airoboros-mistral2.2-7b.Q4_K_S"
         ],
         "legendgroup": "airoboros-mistral2.2-7b.Q4_K_S",
         "marker": {
          "color": "#636efa",
          "line": {
           "color": "DarkSlateGrey",
           "width": 1
          },
          "opacity": 0.8,
          "size": {
           "bdata": "Iw==",
           "dtype": "i1"
          },
          "sizemode": "area",
          "sizeref": 0.2075,
          "symbol": "circle"
         },
         "mode": "markers",
         "name": "airoboros-mistral2.2-7b.Q4_K_S",
         "orientation": "v",
         "showlegend": true,
         "type": "scatter",
         "x": {
          "bdata": "AAAAAAAAHEA=",
          "dtype": "f8"
         },
         "xaxis": "x",
         "y": {
          "bdata": "uB6F61EIVEA=",
          "dtype": "f8"
         },
         "yaxis": "y"
        },
        {
         "hovertemplate": "<b>%{hovertext}</b><br><br>Model=DeepSeek-R1-0528-Qwen3-8B-Q4_K_S<br>Model Size (B)=%{x}<br>Generation Speed (tokens/sec)=%{y}<br>Layers=%{marker.size}<extra></extra>",
         "hovertext": [
          "DeepSeek-R1-0528-Qwen3-8B-Q4_K_S"
         ],
         "legendgroup": "DeepSeek-R1-0528-Qwen3-8B-Q4_K_S",
         "marker": {
          "color": "#EF553B",
          "line": {
           "color": "DarkSlateGrey",
           "width": 1
          },
          "opacity": 0.8,
          "size": {
           "bdata": "Jw==",
           "dtype": "i1"
          },
          "sizemode": "area",
          "sizeref": 0.2075,
          "symbol": "circle"
         },
         "mode": "markers",
         "name": "DeepSeek-R1-0528-Qwen3-8B-Q4_K_S",
         "orientation": "v",
         "showlegend": true,
         "type": "scatter",
         "x": {
          "bdata": "AAAAAAAAIEA=",
          "dtype": "f8"
         },
         "xaxis": "x",
         "y": {
          "bdata": "mpmZmZlZUEA=",
          "dtype": "f8"
         },
         "yaxis": "y"
        },
        {
         "hovertemplate": "<b>%{hovertext}</b><br><br>Model=DeepSeek-R1-0528-Qwen3-8B-UD-IQ1_S<br>Model Size (B)=%{x}<br>Generation Speed (tokens/sec)=%{y}<br>Layers=%{marker.size}<extra></extra>",
         "hovertext": [
          "DeepSeek-R1-0528-Qwen3-8B-UD-IQ1_S"
         ],
         "legendgroup": "DeepSeek-R1-0528-Qwen3-8B-UD-IQ1_S",
         "marker": {
          "color": "#00cc96",
          "line": {
           "color": "DarkSlateGrey",
           "width": 1
          },
          "opacity": 0.8,
          "size": {
           "bdata": "Jw==",
           "dtype": "i1"
          },
          "sizemode": "area",
          "sizeref": 0.2075,
          "symbol": "circle"
         },
         "mode": "markers",
         "name": "DeepSeek-R1-0528-Qwen3-8B-UD-IQ1_S",
         "orientation": "v",
         "showlegend": true,
         "type": "scatter",
         "x": {
          "bdata": "AAAAAAAAIEA=",
          "dtype": "f8"
         },
         "xaxis": "x",
         "y": {
          "bdata": "j8L1KFyPVEA=",
          "dtype": "f8"
         },
         "yaxis": "y"
        },
        {
         "hovertemplate": "<b>%{hovertext}</b><br><br>Model=Llama-3.1-Nemotron-70B-Instruct-HF-IQ4_XS<br>Model Size (B)=%{x}<br>Generation Speed (tokens/sec)=%{y}<br>Layers=%{marker.size}<extra></extra>",
         "hovertext": [
          "Llama-3.1-Nemotron-70B-Instruct-HF-IQ4_XS"
         ],
         "legendgroup": "Llama-3.1-Nemotron-70B-Instruct-HF-IQ4_XS",
         "marker": {
          "color": "#ab63fa",
          "line": {
           "color": "DarkSlateGrey",
           "width": 1
          },
          "opacity": 0.8,
          "size": {
           "bdata": "Uw==",
           "dtype": "i1"
          },
          "sizemode": "area",
          "sizeref": 0.2075,
          "symbol": "circle"
         },
         "mode": "markers",
         "name": "Llama-3.1-Nemotron-70B-Instruct-HF-IQ4_XS",
         "orientation": "v",
         "showlegend": true,
         "type": "scatter",
         "x": {
          "bdata": "AAAAAACAUUA=",
          "dtype": "f8"
         },
         "xaxis": "x",
         "y": {
          "bdata": "w/UoXI9CK0A=",
          "dtype": "f8"
         },
         "yaxis": "y"
        },
        {
         "hovertemplate": "<b>%{hovertext}</b><br><br>Model=Meta-Llama-3.1-70B-Instruct-IQ4_XS<br>Model Size (B)=%{x}<br>Generation Speed (tokens/sec)=%{y}<br>Layers=%{marker.size}<extra></extra>",
         "hovertext": [
          "Meta-Llama-3.1-70B-Instruct-IQ4_XS"
         ],
         "legendgroup": "Meta-Llama-3.1-70B-Instruct-IQ4_XS",
         "marker": {
          "color": "#FFA15A",
          "line": {
           "color": "DarkSlateGrey",
           "width": 1
          },
          "opacity": 0.8,
          "size": {
           "bdata": "Uw==",
           "dtype": "i1"
          },
          "sizemode": "area",
          "sizeref": 0.2075,
          "symbol": "circle"
         },
         "mode": "markers",
         "name": "Meta-Llama-3.1-70B-Instruct-IQ4_XS",
         "orientation": "v",
         "showlegend": true,
         "type": "scatter",
         "x": {
          "bdata": "AAAAAACAUUA=",
          "dtype": "f8"
         },
         "xaxis": "x",
         "y": {
          "bdata": "PQrXo3A9K0A=",
          "dtype": "f8"
         },
         "yaxis": "y"
        },
        {
         "hovertemplate": "<b>%{hovertext}</b><br><br>Model=Meta-Llama-3.1-8B-Instruct-IQ4_XS<br>Model Size (B)=%{x}<br>Generation Speed (tokens/sec)=%{y}<br>Layers=%{marker.size}<extra></extra>",
         "hovertext": [
          "Meta-Llama-3.1-8B-Instruct-IQ4_XS"
         ],
         "legendgroup": "Meta-Llama-3.1-8B-Instruct-IQ4_XS",
         "marker": {
          "color": "#19d3f3",
          "line": {
           "color": "DarkSlateGrey",
           "width": 1
          },
          "opacity": 0.8,
          "size": {
           "bdata": "Iw==",
           "dtype": "i1"
          },
          "sizemode": "area",
          "sizeref": 0.2075,
          "symbol": "circle"
         },
         "mode": "markers",
         "name": "Meta-Llama-3.1-8B-Instruct-IQ4_XS",
         "orientation": "v",
         "showlegend": true,
         "type": "scatter",
         "x": {
          "bdata": "AAAAAAAAIEA=",
          "dtype": "f8"
         },
         "xaxis": "x",
         "y": {
          "bdata": "cT0K16NwU0A=",
          "dtype": "f8"
         },
         "yaxis": "y"
        },
        {
         "hovertemplate": "<b>%{hovertext}</b><br><br>Model=mistralai_Mistral-Small-3.2-24B-Instruct-2506-IQ4_XS<br>Model Size (B)=%{x}<br>Generation Speed (tokens/sec)=%{y}<br>Layers=%{marker.size}<extra></extra>",
         "hovertext": [
          "mistralai_Mistral-Small-3.2-24B-Instruct-2506-IQ4_XS"
         ],
         "legendgroup": "mistralai_Mistral-Small-3.2-24B-Instruct-2506-IQ4_XS",
         "marker": {
          "color": "#FF6692",
          "line": {
           "color": "DarkSlateGrey",
           "width": 1
          },
          "opacity": 0.8,
          "size": {
           "bdata": "Kw==",
           "dtype": "i1"
          },
          "sizemode": "area",
          "sizeref": 0.2075,
          "symbol": "circle"
         },
         "mode": "markers",
         "name": "mistralai_Mistral-Small-3.2-24B-Instruct-2506-IQ4_XS",
         "orientation": "v",
         "showlegend": true,
         "type": "scatter",
         "x": {
          "bdata": "AAAAAAAAOEA=",
          "dtype": "f8"
         },
         "xaxis": "x",
         "y": {
          "bdata": "mpmZmZl5QkA=",
          "dtype": "f8"
         },
         "yaxis": "y"
        },
        {
         "hovertemplate": "<b>%{hovertext}</b><br><br>Model=OLMo-2-1124-7B-Instruct-Q4_K_S<br>Model Size (B)=%{x}<br>Generation Speed (tokens/sec)=%{y}<br>Layers=%{marker.size}<extra></extra>",
         "hovertext": [
          "OLMo-2-1124-7B-Instruct-Q4_K_S"
         ],
         "legendgroup": "OLMo-2-1124-7B-Instruct-Q4_K_S",
         "marker": {
          "color": "#B6E880",
          "line": {
           "color": "DarkSlateGrey",
           "width": 1
          },
          "opacity": 0.8,
          "size": {
           "bdata": "Iw==",
           "dtype": "i1"
          },
          "sizemode": "area",
          "sizeref": 0.2075,
          "symbol": "circle"
         },
         "mode": "markers",
         "name": "OLMo-2-1124-7B-Instruct-Q4_K_S",
         "orientation": "v",
         "showlegend": true,
         "type": "scatter",
         "x": {
          "bdata": "AAAAAAAAHEA=",
          "dtype": "f8"
         },
         "xaxis": "x",
         "y": {
          "bdata": "9ihcj8KFUEA=",
          "dtype": "f8"
         },
         "yaxis": "y"
        },
        {
         "hovertemplate": "<b>%{hovertext}</b><br><br>Model=Qwen2.5.1-Coder-7B-Instruct-Q4_K_S<br>Model Size (B)=%{x}<br>Generation Speed (tokens/sec)=%{y}<br>Layers=%{marker.size}<extra></extra>",
         "hovertext": [
          "Qwen2.5.1-Coder-7B-Instruct-Q4_K_S"
         ],
         "legendgroup": "Qwen2.5.1-Coder-7B-Instruct-Q4_K_S",
         "marker": {
          "color": "#FF97FF",
          "line": {
           "color": "DarkSlateGrey",
           "width": 1
          },
          "opacity": 0.8,
          "size": {
           "bdata": "Hw==",
           "dtype": "i1"
          },
          "sizemode": "area",
          "sizeref": 0.2075,
          "symbol": "circle"
         },
         "mode": "markers",
         "name": "Qwen2.5.1-Coder-7B-Instruct-Q4_K_S",
         "orientation": "v",
         "showlegend": true,
         "type": "scatter",
         "x": {
          "bdata": "AAAAAAAAHEA=",
          "dtype": "f8"
         },
         "xaxis": "x",
         "y": {
          "bdata": "zczMzMxsU0A=",
          "dtype": "f8"
         },
         "yaxis": "y"
        },
        {
         "hovertemplate": "<b>%{hovertext}</b><br><br>Model=Qwen2.5-Coder-32B-Instruct-Q4_K_S<br>Model Size (B)=%{x}<br>Generation Speed (tokens/sec)=%{y}<br>Layers=%{marker.size}<extra></extra>",
         "hovertext": [
          "Qwen2.5-Coder-32B-Instruct-Q4_K_S"
         ],
         "legendgroup": "Qwen2.5-Coder-32B-Instruct-Q4_K_S",
         "marker": {
          "color": "#FECB52",
          "line": {
           "color": "DarkSlateGrey",
           "width": 1
          },
          "opacity": 0.8,
          "size": {
           "bdata": "Qw==",
           "dtype": "i1"
          },
          "sizemode": "area",
          "sizeref": 0.2075,
          "symbol": "circle"
         },
         "mode": "markers",
         "name": "Qwen2.5-Coder-32B-Instruct-Q4_K_S",
         "orientation": "v",
         "showlegend": true,
         "type": "scatter",
         "x": {
          "bdata": "AAAAAAAAQEA=",
          "dtype": "f8"
         },
         "xaxis": "x",
         "y": {
          "bdata": "j8L1KFxPOUA=",
          "dtype": "f8"
         },
         "yaxis": "y"
        }
       ],
       "layout": {
        "legend": {
         "itemsizing": "constant",
         "title": {
          "text": "Model"
         },
         "tracegroupgap": 0
        },
        "plot_bgcolor": "rgba(240,240,240,0.9)",
        "template": {
         "data": {
          "bar": [
           {
            "error_x": {
             "color": "#2a3f5f"
            },
            "error_y": {
             "color": "#2a3f5f"
            },
            "marker": {
             "line": {
              "color": "#E5ECF6",
              "width": 0.5
             },
             "pattern": {
              "fillmode": "overlay",
              "size": 10,
              "solidity": 0.2
             }
            },
            "type": "bar"
           }
          ],
          "barpolar": [
           {
            "marker": {
             "line": {
              "color": "#E5ECF6",
              "width": 0.5
             },
             "pattern": {
              "fillmode": "overlay",
              "size": 10,
              "solidity": 0.2
             }
            },
            "type": "barpolar"
           }
          ],
          "carpet": [
           {
            "aaxis": {
             "endlinecolor": "#2a3f5f",
             "gridcolor": "white",
             "linecolor": "white",
             "minorgridcolor": "white",
             "startlinecolor": "#2a3f5f"
            },
            "baxis": {
             "endlinecolor": "#2a3f5f",
             "gridcolor": "white",
             "linecolor": "white",
             "minorgridcolor": "white",
             "startlinecolor": "#2a3f5f"
            },
            "type": "carpet"
           }
          ],
          "choropleth": [
           {
            "colorbar": {
             "outlinewidth": 0,
             "ticks": ""
            },
            "type": "choropleth"
           }
          ],
          "contour": [
           {
            "colorbar": {
             "outlinewidth": 0,
             "ticks": ""
            },
            "colorscale": [
             [
              0,
              "#0d0887"
             ],
             [
              0.1111111111111111,
              "#46039f"
             ],
             [
              0.2222222222222222,
              "#7201a8"
             ],
             [
              0.3333333333333333,
              "#9c179e"
             ],
             [
              0.4444444444444444,
              "#bd3786"
             ],
             [
              0.5555555555555556,
              "#d8576b"
             ],
             [
              0.6666666666666666,
              "#ed7953"
             ],
             [
              0.7777777777777778,
              "#fb9f3a"
             ],
             [
              0.8888888888888888,
              "#fdca26"
             ],
             [
              1,
              "#f0f921"
             ]
            ],
            "type": "contour"
           }
          ],
          "contourcarpet": [
           {
            "colorbar": {
             "outlinewidth": 0,
             "ticks": ""
            },
            "type": "contourcarpet"
           }
          ],
          "heatmap": [
           {
            "colorbar": {
             "outlinewidth": 0,
             "ticks": ""
            },
            "colorscale": [
             [
              0,
              "#0d0887"
             ],
             [
              0.1111111111111111,
              "#46039f"
             ],
             [
              0.2222222222222222,
              "#7201a8"
             ],
             [
              0.3333333333333333,
              "#9c179e"
             ],
             [
              0.4444444444444444,
              "#bd3786"
             ],
             [
              0.5555555555555556,
              "#d8576b"
             ],
             [
              0.6666666666666666,
              "#ed7953"
             ],
             [
              0.7777777777777778,
              "#fb9f3a"
             ],
             [
              0.8888888888888888,
              "#fdca26"
             ],
             [
              1,
              "#f0f921"
             ]
            ],
            "type": "heatmap"
           }
          ],
          "histogram": [
           {
            "marker": {
             "pattern": {
              "fillmode": "overlay",
              "size": 10,
              "solidity": 0.2
             }
            },
            "type": "histogram"
           }
          ],
          "histogram2d": [
           {
            "colorbar": {
             "outlinewidth": 0,
             "ticks": ""
            },
            "colorscale": [
             [
              0,
              "#0d0887"
             ],
             [
              0.1111111111111111,
              "#46039f"
             ],
             [
              0.2222222222222222,
              "#7201a8"
             ],
             [
              0.3333333333333333,
              "#9c179e"
             ],
             [
              0.4444444444444444,
              "#bd3786"
             ],
             [
              0.5555555555555556,
              "#d8576b"
             ],
             [
              0.6666666666666666,
              "#ed7953"
             ],
             [
              0.7777777777777778,
              "#fb9f3a"
             ],
             [
              0.8888888888888888,
              "#fdca26"
             ],
             [
              1,
              "#f0f921"
             ]
            ],
            "type": "histogram2d"
           }
          ],
          "histogram2dcontour": [
           {
            "colorbar": {
             "outlinewidth": 0,
             "ticks": ""
            },
            "colorscale": [
             [
              0,
              "#0d0887"
             ],
             [
              0.1111111111111111,
              "#46039f"
             ],
             [
              0.2222222222222222,
              "#7201a8"
             ],
             [
              0.3333333333333333,
              "#9c179e"
             ],
             [
              0.4444444444444444,
              "#bd3786"
             ],
             [
              0.5555555555555556,
              "#d8576b"
             ],
             [
              0.6666666666666666,
              "#ed7953"
             ],
             [
              0.7777777777777778,
              "#fb9f3a"
             ],
             [
              0.8888888888888888,
              "#fdca26"
             ],
             [
              1,
              "#f0f921"
             ]
            ],
            "type": "histogram2dcontour"
           }
          ],
          "mesh3d": [
           {
            "colorbar": {
             "outlinewidth": 0,
             "ticks": ""
            },
            "type": "mesh3d"
           }
          ],
          "parcoords": [
           {
            "line": {
             "colorbar": {
              "outlinewidth": 0,
              "ticks": ""
             }
            },
            "type": "parcoords"
           }
          ],
          "pie": [
           {
            "automargin": true,
            "type": "pie"
           }
          ],
          "scatter": [
           {
            "fillpattern": {
             "fillmode": "overlay",
             "size": 10,
             "solidity": 0.2
            },
            "type": "scatter"
           }
          ],
          "scatter3d": [
           {
            "line": {
             "colorbar": {
              "outlinewidth": 0,
              "ticks": ""
             }
            },
            "marker": {
             "colorbar": {
              "outlinewidth": 0,
              "ticks": ""
             }
            },
            "type": "scatter3d"
           }
          ],
          "scattercarpet": [
           {
            "marker": {
             "colorbar": {
              "outlinewidth": 0,
              "ticks": ""
             }
            },
            "type": "scattercarpet"
           }
          ],
          "scattergeo": [
           {
            "marker": {
             "colorbar": {
              "outlinewidth": 0,
              "ticks": ""
             }
            },
            "type": "scattergeo"
           }
          ],
          "scattergl": [
           {
            "marker": {
             "colorbar": {
              "outlinewidth": 0,
              "ticks": ""
             }
            },
            "type": "scattergl"
           }
          ],
          "scattermap": [
           {
            "marker": {
             "colorbar": {
              "outlinewidth": 0,
              "ticks": ""
             }
            },
            "type": "scattermap"
           }
          ],
          "scattermapbox": [
           {
            "marker": {
             "colorbar": {
              "outlinewidth": 0,
              "ticks": ""
             }
            },
            "type": "scattermapbox"
           }
          ],
          "scatterpolar": [
           {
            "marker": {
             "colorbar": {
              "outlinewidth": 0,
              "ticks": ""
             }
            },
            "type": "scatterpolar"
           }
          ],
          "scatterpolargl": [
           {
            "marker": {
             "colorbar": {
              "outlinewidth": 0,
              "ticks": ""
             }
            },
            "type": "scatterpolargl"
           }
          ],
          "scatterternary": [
           {
            "marker": {
             "colorbar": {
              "outlinewidth": 0,
              "ticks": ""
             }
            },
            "type": "scatterternary"
           }
          ],
          "surface": [
           {
            "colorbar": {
             "outlinewidth": 0,
             "ticks": ""
            },
            "colorscale": [
             [
              0,
              "#0d0887"
             ],
             [
              0.1111111111111111,
              "#46039f"
             ],
             [
              0.2222222222222222,
              "#7201a8"
             ],
             [
              0.3333333333333333,
              "#9c179e"
             ],
             [
              0.4444444444444444,
              "#bd3786"
             ],
             [
              0.5555555555555556,
              "#d8576b"
             ],
             [
              0.6666666666666666,
              "#ed7953"
             ],
             [
              0.7777777777777778,
              "#fb9f3a"
             ],
             [
              0.8888888888888888,
              "#fdca26"
             ],
             [
              1,
              "#f0f921"
             ]
            ],
            "type": "surface"
           }
          ],
          "table": [
           {
            "cells": {
             "fill": {
              "color": "#EBF0F8"
             },
             "line": {
              "color": "white"
             }
            },
            "header": {
             "fill": {
              "color": "#C8D4E3"
             },
             "line": {
              "color": "white"
             }
            },
            "type": "table"
           }
          ]
         },
         "layout": {
          "annotationdefaults": {
           "arrowcolor": "#2a3f5f",
           "arrowhead": 0,
           "arrowwidth": 1
          },
          "autotypenumbers": "strict",
          "coloraxis": {
           "colorbar": {
            "outlinewidth": 0,
            "ticks": ""
           }
          },
          "colorscale": {
           "diverging": [
            [
             0,
             "#8e0152"
            ],
            [
             0.1,
             "#c51b7d"
            ],
            [
             0.2,
             "#de77ae"
            ],
            [
             0.3,
             "#f1b6da"
            ],
            [
             0.4,
             "#fde0ef"
            ],
            [
             0.5,
             "#f7f7f7"
            ],
            [
             0.6,
             "#e6f5d0"
            ],
            [
             0.7,
             "#b8e186"
            ],
            [
             0.8,
             "#7fbc41"
            ],
            [
             0.9,
             "#4d9221"
            ],
            [
             1,
             "#276419"
            ]
           ],
           "sequential": [
            [
             0,
             "#0d0887"
            ],
            [
             0.1111111111111111,
             "#46039f"
            ],
            [
             0.2222222222222222,
             "#7201a8"
            ],
            [
             0.3333333333333333,
             "#9c179e"
            ],
            [
             0.4444444444444444,
             "#bd3786"
            ],
            [
             0.5555555555555556,
             "#d8576b"
            ],
            [
             0.6666666666666666,
             "#ed7953"
            ],
            [
             0.7777777777777778,
             "#fb9f3a"
            ],
            [
             0.8888888888888888,
             "#fdca26"
            ],
            [
             1,
             "#f0f921"
            ]
           ],
           "sequentialminus": [
            [
             0,
             "#0d0887"
            ],
            [
             0.1111111111111111,
             "#46039f"
            ],
            [
             0.2222222222222222,
             "#7201a8"
            ],
            [
             0.3333333333333333,
             "#9c179e"
            ],
            [
             0.4444444444444444,
             "#bd3786"
            ],
            [
             0.5555555555555556,
             "#d8576b"
            ],
            [
             0.6666666666666666,
             "#ed7953"
            ],
            [
             0.7777777777777778,
             "#fb9f3a"
            ],
            [
             0.8888888888888888,
             "#fdca26"
            ],
            [
             1,
             "#f0f921"
            ]
           ]
          },
          "colorway": [
           "#636efa",
           "#EF553B",
           "#00cc96",
           "#ab63fa",
           "#FFA15A",
           "#19d3f3",
           "#FF6692",
           "#B6E880",
           "#FF97FF",
           "#FECB52"
          ],
          "font": {
           "color": "#2a3f5f"
          },
          "geo": {
           "bgcolor": "white",
           "lakecolor": "white",
           "landcolor": "#E5ECF6",
           "showlakes": true,
           "showland": true,
           "subunitcolor": "white"
          },
          "hoverlabel": {
           "align": "left"
          },
          "hovermode": "closest",
          "mapbox": {
           "style": "light"
          },
          "paper_bgcolor": "white",
          "plot_bgcolor": "#E5ECF6",
          "polar": {
           "angularaxis": {
            "gridcolor": "white",
            "linecolor": "white",
            "ticks": ""
           },
           "bgcolor": "#E5ECF6",
           "radialaxis": {
            "gridcolor": "white",
            "linecolor": "white",
            "ticks": ""
           }
          },
          "scene": {
           "xaxis": {
            "backgroundcolor": "#E5ECF6",
            "gridcolor": "white",
            "gridwidth": 2,
            "linecolor": "white",
            "showbackground": true,
            "ticks": "",
            "zerolinecolor": "white"
           },
           "yaxis": {
            "backgroundcolor": "#E5ECF6",
            "gridcolor": "white",
            "gridwidth": 2,
            "linecolor": "white",
            "showbackground": true,
            "ticks": "",
            "zerolinecolor": "white"
           },
           "zaxis": {
            "backgroundcolor": "#E5ECF6",
            "gridcolor": "white",
            "gridwidth": 2,
            "linecolor": "white",
            "showbackground": true,
            "ticks": "",
            "zerolinecolor": "white"
           }
          },
          "shapedefaults": {
           "line": {
            "color": "#2a3f5f"
           }
          },
          "ternary": {
           "aaxis": {
            "gridcolor": "white",
            "linecolor": "white",
            "ticks": ""
           },
           "baxis": {
            "gridcolor": "white",
            "linecolor": "white",
            "ticks": ""
           },
           "bgcolor": "#E5ECF6",
           "caxis": {
            "gridcolor": "white",
            "linecolor": "white",
            "ticks": ""
           }
          },
          "title": {
           "x": 0.05
          },
          "xaxis": {
           "automargin": true,
           "gridcolor": "white",
           "linecolor": "white",
           "ticks": "",
           "title": {
            "standoff": 15
           },
           "zerolinecolor": "white",
           "zerolinewidth": 2
          },
          "yaxis": {
           "automargin": true,
           "gridcolor": "white",
           "linecolor": "white",
           "ticks": "",
           "title": {
            "standoff": 15
           },
           "zerolinecolor": "white",
           "zerolinewidth": 2
          }
         }
        },
        "title": {
         "text": "Generation Speed vs Model Size"
        },
        "xaxis": {
         "anchor": "y",
         "domain": [
          0,
          1
         ],
         "title": {
          "text": "Model Size (B)"
         },
         "type": "log"
        },
        "yaxis": {
         "anchor": "x",
         "domain": [
          0,
          1
         ],
         "title": {
          "text": "Generation Speed (tokens/sec)"
         }
        }
       }
      }
     },
     "metadata": {},
     "output_type": "display_data"
    }
   ],
   "source": [
    "fig = px.scatter(df_merged, \n",
    "                 x=\"size\", \n",
    "                 y=\"GenerationSpeed\", \n",
    "                 size=\"Layers\",\n",
    "                 color=\"Model\",\n",
    "                 hover_name=\"Model\",\n",
    "                 log_x=True,\n",
    "                 title=\"Generation Speed vs Model Size\",\n",
    "                 labels={\"GenerationSpeed\": \"Generation Speed (tokens/sec)\", \n",
    "                         \"size\": \"Model Size (B)\"})\n",
    "fig.update_traces(marker=dict(opacity=0.8, line=dict(width=1, color='DarkSlateGrey')))\n",
    "fig.update_layout(plot_bgcolor='rgba(240,240,240,0.9)')\n",
    "fig.show()"
   ]
  },
  {
   "cell_type": "code",
   "execution_count": 68,
   "id": "117ebf05",
   "metadata": {},
   "outputs": [
    {
     "data": {
      "application/vnd.plotly.v1+json": {
       "config": {
        "plotlyServerURL": "https://plot.ly"
       },
       "data": [
        {
         "hovertemplate": "variable=ProcessingTime<br>Model=%{x}<br>Time (seconds)=%{y}<extra></extra>",
         "legendgroup": "ProcessingTime",
         "marker": {
          "color": "#636EFA",
          "pattern": {
           "shape": ""
          }
         },
         "name": "ProcessingTime",
         "orientation": "v",
         "showlegend": true,
         "textposition": "auto",
         "type": "bar",
         "x": [
          "airoboros-mistral2.2-7b.Q4_K_S",
          "DeepSeek-R1-0528-Qwen3-8B-Q4_K_S",
          "DeepSeek-R1-0528-Qwen3-8B-UD-IQ1_S",
          "Llama-3.1-Nemotron-70B-Instruct-HF-IQ4_XS",
          "Meta-Llama-3.1-70B-Instruct-IQ4_XS",
          "Meta-Llama-3.1-8B-Instruct-IQ4_XS",
          "mistralai_Mistral-Small-3.2-24B-Instruct-2506-IQ4_XS",
          "OLMo-2-1124-7B-Instruct-Q4_K_S",
          "Qwen2.5.1-Coder-7B-Instruct-Q4_K_S",
          "Qwen2.5-Coder-32B-Instruct-Q4_K_S"
         ],
         "xaxis": "x",
         "y": {
          "bdata": "cT0K16Nw7T+uR+F6FK7vPz0K16NwPfI/7FG4HoXrH0AUrkfhehQgQB+F61G4HvE/AAAAAAAABECamZmZmZnZPz0K16NwPeo/4XoUrkfhDEA=",
          "dtype": "f8"
         },
         "yaxis": "y"
        },
        {
         "hovertemplate": "variable=GenerationTime<br>Model=%{x}<br>Time (seconds)=%{y}<extra></extra>",
         "legendgroup": "GenerationTime",
         "marker": {
          "color": "#EF553B",
          "pattern": {
           "shape": ""
          }
         },
         "name": "GenerationTime",
         "orientation": "v",
         "showlegend": true,
         "textposition": "auto",
         "type": "bar",
         "x": [
          "airoboros-mistral2.2-7b.Q4_K_S",
          "DeepSeek-R1-0528-Qwen3-8B-Q4_K_S",
          "DeepSeek-R1-0528-Qwen3-8B-UD-IQ1_S",
          "Llama-3.1-Nemotron-70B-Instruct-HF-IQ4_XS",
          "Meta-Llama-3.1-70B-Instruct-IQ4_XS",
          "Meta-Llama-3.1-8B-Instruct-IQ4_XS",
          "mistralai_Mistral-Small-3.2-24B-Instruct-2506-IQ4_XS",
          "OLMo-2-1124-7B-Instruct-Q4_K_S",
          "Qwen2.5.1-Coder-7B-Instruct-Q4_K_S",
          "Qwen2.5-Coder-32B-Instruct-Q4_K_S"
         ],
         "xaxis": "x",
         "y": {
          "bdata": "AAAAAAAA9D97FK5H4Xr4P4XrUbgehfM/XI/C9ShcHUBcj8L1KFwdQKRwPQrXo/Q/rkfhehSuBUApXI/C9Sj4P6RwPQrXo/Q/mpmZmZmZD0A=",
          "dtype": "f8"
         },
         "yaxis": "y"
        }
       ],
       "layout": {
        "barmode": "stack",
        "legend": {
         "title": {
          "text": "variable"
         },
         "tracegroupgap": 0
        },
        "template": {
         "data": {
          "bar": [
           {
            "error_x": {
             "color": "#2a3f5f"
            },
            "error_y": {
             "color": "#2a3f5f"
            },
            "marker": {
             "line": {
              "color": "#E5ECF6",
              "width": 0.5
             },
             "pattern": {
              "fillmode": "overlay",
              "size": 10,
              "solidity": 0.2
             }
            },
            "type": "bar"
           }
          ],
          "barpolar": [
           {
            "marker": {
             "line": {
              "color": "#E5ECF6",
              "width": 0.5
             },
             "pattern": {
              "fillmode": "overlay",
              "size": 10,
              "solidity": 0.2
             }
            },
            "type": "barpolar"
           }
          ],
          "carpet": [
           {
            "aaxis": {
             "endlinecolor": "#2a3f5f",
             "gridcolor": "white",
             "linecolor": "white",
             "minorgridcolor": "white",
             "startlinecolor": "#2a3f5f"
            },
            "baxis": {
             "endlinecolor": "#2a3f5f",
             "gridcolor": "white",
             "linecolor": "white",
             "minorgridcolor": "white",
             "startlinecolor": "#2a3f5f"
            },
            "type": "carpet"
           }
          ],
          "choropleth": [
           {
            "colorbar": {
             "outlinewidth": 0,
             "ticks": ""
            },
            "type": "choropleth"
           }
          ],
          "contour": [
           {
            "colorbar": {
             "outlinewidth": 0,
             "ticks": ""
            },
            "colorscale": [
             [
              0,
              "#0d0887"
             ],
             [
              0.1111111111111111,
              "#46039f"
             ],
             [
              0.2222222222222222,
              "#7201a8"
             ],
             [
              0.3333333333333333,
              "#9c179e"
             ],
             [
              0.4444444444444444,
              "#bd3786"
             ],
             [
              0.5555555555555556,
              "#d8576b"
             ],
             [
              0.6666666666666666,
              "#ed7953"
             ],
             [
              0.7777777777777778,
              "#fb9f3a"
             ],
             [
              0.8888888888888888,
              "#fdca26"
             ],
             [
              1,
              "#f0f921"
             ]
            ],
            "type": "contour"
           }
          ],
          "contourcarpet": [
           {
            "colorbar": {
             "outlinewidth": 0,
             "ticks": ""
            },
            "type": "contourcarpet"
           }
          ],
          "heatmap": [
           {
            "colorbar": {
             "outlinewidth": 0,
             "ticks": ""
            },
            "colorscale": [
             [
              0,
              "#0d0887"
             ],
             [
              0.1111111111111111,
              "#46039f"
             ],
             [
              0.2222222222222222,
              "#7201a8"
             ],
             [
              0.3333333333333333,
              "#9c179e"
             ],
             [
              0.4444444444444444,
              "#bd3786"
             ],
             [
              0.5555555555555556,
              "#d8576b"
             ],
             [
              0.6666666666666666,
              "#ed7953"
             ],
             [
              0.7777777777777778,
              "#fb9f3a"
             ],
             [
              0.8888888888888888,
              "#fdca26"
             ],
             [
              1,
              "#f0f921"
             ]
            ],
            "type": "heatmap"
           }
          ],
          "histogram": [
           {
            "marker": {
             "pattern": {
              "fillmode": "overlay",
              "size": 10,
              "solidity": 0.2
             }
            },
            "type": "histogram"
           }
          ],
          "histogram2d": [
           {
            "colorbar": {
             "outlinewidth": 0,
             "ticks": ""
            },
            "colorscale": [
             [
              0,
              "#0d0887"
             ],
             [
              0.1111111111111111,
              "#46039f"
             ],
             [
              0.2222222222222222,
              "#7201a8"
             ],
             [
              0.3333333333333333,
              "#9c179e"
             ],
             [
              0.4444444444444444,
              "#bd3786"
             ],
             [
              0.5555555555555556,
              "#d8576b"
             ],
             [
              0.6666666666666666,
              "#ed7953"
             ],
             [
              0.7777777777777778,
              "#fb9f3a"
             ],
             [
              0.8888888888888888,
              "#fdca26"
             ],
             [
              1,
              "#f0f921"
             ]
            ],
            "type": "histogram2d"
           }
          ],
          "histogram2dcontour": [
           {
            "colorbar": {
             "outlinewidth": 0,
             "ticks": ""
            },
            "colorscale": [
             [
              0,
              "#0d0887"
             ],
             [
              0.1111111111111111,
              "#46039f"
             ],
             [
              0.2222222222222222,
              "#7201a8"
             ],
             [
              0.3333333333333333,
              "#9c179e"
             ],
             [
              0.4444444444444444,
              "#bd3786"
             ],
             [
              0.5555555555555556,
              "#d8576b"
             ],
             [
              0.6666666666666666,
              "#ed7953"
             ],
             [
              0.7777777777777778,
              "#fb9f3a"
             ],
             [
              0.8888888888888888,
              "#fdca26"
             ],
             [
              1,
              "#f0f921"
             ]
            ],
            "type": "histogram2dcontour"
           }
          ],
          "mesh3d": [
           {
            "colorbar": {
             "outlinewidth": 0,
             "ticks": ""
            },
            "type": "mesh3d"
           }
          ],
          "parcoords": [
           {
            "line": {
             "colorbar": {
              "outlinewidth": 0,
              "ticks": ""
             }
            },
            "type": "parcoords"
           }
          ],
          "pie": [
           {
            "automargin": true,
            "type": "pie"
           }
          ],
          "scatter": [
           {
            "fillpattern": {
             "fillmode": "overlay",
             "size": 10,
             "solidity": 0.2
            },
            "type": "scatter"
           }
          ],
          "scatter3d": [
           {
            "line": {
             "colorbar": {
              "outlinewidth": 0,
              "ticks": ""
             }
            },
            "marker": {
             "colorbar": {
              "outlinewidth": 0,
              "ticks": ""
             }
            },
            "type": "scatter3d"
           }
          ],
          "scattercarpet": [
           {
            "marker": {
             "colorbar": {
              "outlinewidth": 0,
              "ticks": ""
             }
            },
            "type": "scattercarpet"
           }
          ],
          "scattergeo": [
           {
            "marker": {
             "colorbar": {
              "outlinewidth": 0,
              "ticks": ""
             }
            },
            "type": "scattergeo"
           }
          ],
          "scattergl": [
           {
            "marker": {
             "colorbar": {
              "outlinewidth": 0,
              "ticks": ""
             }
            },
            "type": "scattergl"
           }
          ],
          "scattermap": [
           {
            "marker": {
             "colorbar": {
              "outlinewidth": 0,
              "ticks": ""
             }
            },
            "type": "scattermap"
           }
          ],
          "scattermapbox": [
           {
            "marker": {
             "colorbar": {
              "outlinewidth": 0,
              "ticks": ""
             }
            },
            "type": "scattermapbox"
           }
          ],
          "scatterpolar": [
           {
            "marker": {
             "colorbar": {
              "outlinewidth": 0,
              "ticks": ""
             }
            },
            "type": "scatterpolar"
           }
          ],
          "scatterpolargl": [
           {
            "marker": {
             "colorbar": {
              "outlinewidth": 0,
              "ticks": ""
             }
            },
            "type": "scatterpolargl"
           }
          ],
          "scatterternary": [
           {
            "marker": {
             "colorbar": {
              "outlinewidth": 0,
              "ticks": ""
             }
            },
            "type": "scatterternary"
           }
          ],
          "surface": [
           {
            "colorbar": {
             "outlinewidth": 0,
             "ticks": ""
            },
            "colorscale": [
             [
              0,
              "#0d0887"
             ],
             [
              0.1111111111111111,
              "#46039f"
             ],
             [
              0.2222222222222222,
              "#7201a8"
             ],
             [
              0.3333333333333333,
              "#9c179e"
             ],
             [
              0.4444444444444444,
              "#bd3786"
             ],
             [
              0.5555555555555556,
              "#d8576b"
             ],
             [
              0.6666666666666666,
              "#ed7953"
             ],
             [
              0.7777777777777778,
              "#fb9f3a"
             ],
             [
              0.8888888888888888,
              "#fdca26"
             ],
             [
              1,
              "#f0f921"
             ]
            ],
            "type": "surface"
           }
          ],
          "table": [
           {
            "cells": {
             "fill": {
              "color": "#EBF0F8"
             },
             "line": {
              "color": "white"
             }
            },
            "header": {
             "fill": {
              "color": "#C8D4E3"
             },
             "line": {
              "color": "white"
             }
            },
            "type": "table"
           }
          ]
         },
         "layout": {
          "annotationdefaults": {
           "arrowcolor": "#2a3f5f",
           "arrowhead": 0,
           "arrowwidth": 1
          },
          "autotypenumbers": "strict",
          "coloraxis": {
           "colorbar": {
            "outlinewidth": 0,
            "ticks": ""
           }
          },
          "colorscale": {
           "diverging": [
            [
             0,
             "#8e0152"
            ],
            [
             0.1,
             "#c51b7d"
            ],
            [
             0.2,
             "#de77ae"
            ],
            [
             0.3,
             "#f1b6da"
            ],
            [
             0.4,
             "#fde0ef"
            ],
            [
             0.5,
             "#f7f7f7"
            ],
            [
             0.6,
             "#e6f5d0"
            ],
            [
             0.7,
             "#b8e186"
            ],
            [
             0.8,
             "#7fbc41"
            ],
            [
             0.9,
             "#4d9221"
            ],
            [
             1,
             "#276419"
            ]
           ],
           "sequential": [
            [
             0,
             "#0d0887"
            ],
            [
             0.1111111111111111,
             "#46039f"
            ],
            [
             0.2222222222222222,
             "#7201a8"
            ],
            [
             0.3333333333333333,
             "#9c179e"
            ],
            [
             0.4444444444444444,
             "#bd3786"
            ],
            [
             0.5555555555555556,
             "#d8576b"
            ],
            [
             0.6666666666666666,
             "#ed7953"
            ],
            [
             0.7777777777777778,
             "#fb9f3a"
            ],
            [
             0.8888888888888888,
             "#fdca26"
            ],
            [
             1,
             "#f0f921"
            ]
           ],
           "sequentialminus": [
            [
             0,
             "#0d0887"
            ],
            [
             0.1111111111111111,
             "#46039f"
            ],
            [
             0.2222222222222222,
             "#7201a8"
            ],
            [
             0.3333333333333333,
             "#9c179e"
            ],
            [
             0.4444444444444444,
             "#bd3786"
            ],
            [
             0.5555555555555556,
             "#d8576b"
            ],
            [
             0.6666666666666666,
             "#ed7953"
            ],
            [
             0.7777777777777778,
             "#fb9f3a"
            ],
            [
             0.8888888888888888,
             "#fdca26"
            ],
            [
             1,
             "#f0f921"
            ]
           ]
          },
          "colorway": [
           "#636efa",
           "#EF553B",
           "#00cc96",
           "#ab63fa",
           "#FFA15A",
           "#19d3f3",
           "#FF6692",
           "#B6E880",
           "#FF97FF",
           "#FECB52"
          ],
          "font": {
           "color": "#2a3f5f"
          },
          "geo": {
           "bgcolor": "white",
           "lakecolor": "white",
           "landcolor": "#E5ECF6",
           "showlakes": true,
           "showland": true,
           "subunitcolor": "white"
          },
          "hoverlabel": {
           "align": "left"
          },
          "hovermode": "closest",
          "mapbox": {
           "style": "light"
          },
          "paper_bgcolor": "white",
          "plot_bgcolor": "#E5ECF6",
          "polar": {
           "angularaxis": {
            "gridcolor": "white",
            "linecolor": "white",
            "ticks": ""
           },
           "bgcolor": "#E5ECF6",
           "radialaxis": {
            "gridcolor": "white",
            "linecolor": "white",
            "ticks": ""
           }
          },
          "scene": {
           "xaxis": {
            "backgroundcolor": "#E5ECF6",
            "gridcolor": "white",
            "gridwidth": 2,
            "linecolor": "white",
            "showbackground": true,
            "ticks": "",
            "zerolinecolor": "white"
           },
           "yaxis": {
            "backgroundcolor": "#E5ECF6",
            "gridcolor": "white",
            "gridwidth": 2,
            "linecolor": "white",
            "showbackground": true,
            "ticks": "",
            "zerolinecolor": "white"
           },
           "zaxis": {
            "backgroundcolor": "#E5ECF6",
            "gridcolor": "white",
            "gridwidth": 2,
            "linecolor": "white",
            "showbackground": true,
            "ticks": "",
            "zerolinecolor": "white"
           }
          },
          "shapedefaults": {
           "line": {
            "color": "#2a3f5f"
           }
          },
          "ternary": {
           "aaxis": {
            "gridcolor": "white",
            "linecolor": "white",
            "ticks": ""
           },
           "baxis": {
            "gridcolor": "white",
            "linecolor": "white",
            "ticks": ""
           },
           "bgcolor": "#E5ECF6",
           "caxis": {
            "gridcolor": "white",
            "linecolor": "white",
            "ticks": ""
           }
          },
          "title": {
           "x": 0.05
          },
          "xaxis": {
           "automargin": true,
           "gridcolor": "white",
           "linecolor": "white",
           "ticks": "",
           "title": {
            "standoff": 15
           },
           "zerolinecolor": "white",
           "zerolinewidth": 2
          },
          "yaxis": {
           "automargin": true,
           "gridcolor": "white",
           "linecolor": "white",
           "ticks": "",
           "title": {
            "standoff": 15
           },
           "zerolinecolor": "white",
           "zerolinewidth": 2
          }
         }
        },
        "title": {
         "text": "Time Breakdown per Model"
        },
        "xaxis": {
         "anchor": "y",
         "domain": [
          0,
          1
         ],
         "tickangle": -45,
         "title": {
          "text": "Model"
         }
        },
        "yaxis": {
         "anchor": "x",
         "domain": [
          0,
          1
         ],
         "title": {
          "text": "Time (seconds)"
         }
        }
       }
      }
     },
     "metadata": {},
     "output_type": "display_data"
    }
   ],
   "source": [
    "fig = px.bar(df_merged, \n",
    "             x=\"Model\", \n",
    "             y=[\"ProcessingTime\", \"GenerationTime\"],\n",
    "             title=\"Time Breakdown per Model\",\n",
    "             labels={\"value\": \"Time (seconds)\"},\n",
    "             color_discrete_sequence=['#636EFA', '#EF553B'])\n",
    "fig.update_layout(barmode='stack', xaxis_tickangle=-45)\n",
    "fig.show()"
   ]
  },
  {
   "cell_type": "code",
   "execution_count": null,
   "id": "750cf55f",
   "metadata": {},
   "outputs": [
    {
     "data": {
      "application/vnd.plotly.v1+json": {
       "config": {
        "plotlyServerURL": "https://plot.ly"
       },
       "data": [
        {
         "hovertemplate": "variable=ProcessingTime<br>Model=%{x}<br>Time (seconds)=%{y}<extra></extra>",
         "legendgroup": "ProcessingTime",
         "marker": {
          "color": "#636EFA",
          "pattern": {
           "shape": ""
          }
         },
         "name": "ProcessingTime",
         "orientation": "v",
         "showlegend": true,
         "textposition": "auto",
         "type": "bar",
         "x": [
          "Meta-Llama-3.1-70B-Instruct-IQ4_XS",
          "Llama-3.1-Nemotron-70B-Instruct-HF-IQ4_XS",
          "Qwen2.5-Coder-32B-Instruct-Q4_K_S",
          "mistralai_Mistral-Small-3.2-24B-Instruct-2506-IQ4_XS",
          "DeepSeek-R1-0528-Qwen3-8B-Q4_K_S",
          "Meta-Llama-3.1-8B-Instruct-IQ4_XS",
          "DeepSeek-R1-0528-Qwen3-8B-UD-IQ1_S",
          "airoboros-mistral2.2-7b.Q4_K_S",
          "Qwen2.5.1-Coder-7B-Instruct-Q4_K_S",
          "OLMo-2-1124-7B-Instruct-Q4_K_S"
         ],
         "xaxis": "x",
         "y": {
          "bdata": "FK5H4XoUIEDsUbgehesfQOF6FK5H4QxAAAAAAAAABECuR+F6FK7vPx+F61G4HvE/PQrXo3A98j9xPQrXo3DtPz0K16NwPeo/mpmZmZmZ2T8=",
          "dtype": "f8"
         },
         "yaxis": "y"
        },
        {
         "hovertemplate": "variable=GenerationTime<br>Model=%{x}<br>Time (seconds)=%{y}<extra></extra>",
         "legendgroup": "GenerationTime",
         "marker": {
          "color": "#EF553B",
          "pattern": {
           "shape": ""
          }
         },
         "name": "GenerationTime",
         "orientation": "v",
         "showlegend": true,
         "textposition": "auto",
         "type": "bar",
         "x": [
          "Meta-Llama-3.1-70B-Instruct-IQ4_XS",
          "Llama-3.1-Nemotron-70B-Instruct-HF-IQ4_XS",
          "Qwen2.5-Coder-32B-Instruct-Q4_K_S",
          "mistralai_Mistral-Small-3.2-24B-Instruct-2506-IQ4_XS",
          "DeepSeek-R1-0528-Qwen3-8B-Q4_K_S",
          "Meta-Llama-3.1-8B-Instruct-IQ4_XS",
          "DeepSeek-R1-0528-Qwen3-8B-UD-IQ1_S",
          "airoboros-mistral2.2-7b.Q4_K_S",
          "Qwen2.5.1-Coder-7B-Instruct-Q4_K_S",
          "OLMo-2-1124-7B-Instruct-Q4_K_S"
         ],
         "xaxis": "x",
         "y": {
          "bdata": "XI/C9ShcHUBcj8L1KFwdQJqZmZmZmQ9ArkfhehSuBUB7FK5H4Xr4P6RwPQrXo/Q/hetRuB6F8z8AAAAAAAD0P6RwPQrXo/Q/KVyPwvUo+D8=",
          "dtype": "f8"
         },
         "yaxis": "y"
        }
       ],
       "layout": {
        "barmode": "stack",
        "legend": {
         "title": {
          "text": "variable"
         },
         "tracegroupgap": 0
        },
        "template": {
         "data": {
          "bar": [
           {
            "error_x": {
             "color": "#2a3f5f"
            },
            "error_y": {
             "color": "#2a3f5f"
            },
            "marker": {
             "line": {
              "color": "#E5ECF6",
              "width": 0.5
             },
             "pattern": {
              "fillmode": "overlay",
              "size": 10,
              "solidity": 0.2
             }
            },
            "type": "bar"
           }
          ],
          "barpolar": [
           {
            "marker": {
             "line": {
              "color": "#E5ECF6",
              "width": 0.5
             },
             "pattern": {
              "fillmode": "overlay",
              "size": 10,
              "solidity": 0.2
             }
            },
            "type": "barpolar"
           }
          ],
          "carpet": [
           {
            "aaxis": {
             "endlinecolor": "#2a3f5f",
             "gridcolor": "white",
             "linecolor": "white",
             "minorgridcolor": "white",
             "startlinecolor": "#2a3f5f"
            },
            "baxis": {
             "endlinecolor": "#2a3f5f",
             "gridcolor": "white",
             "linecolor": "white",
             "minorgridcolor": "white",
             "startlinecolor": "#2a3f5f"
            },
            "type": "carpet"
           }
          ],
          "choropleth": [
           {
            "colorbar": {
             "outlinewidth": 0,
             "ticks": ""
            },
            "type": "choropleth"
           }
          ],
          "contour": [
           {
            "colorbar": {
             "outlinewidth": 0,
             "ticks": ""
            },
            "colorscale": [
             [
              0,
              "#0d0887"
             ],
             [
              0.1111111111111111,
              "#46039f"
             ],
             [
              0.2222222222222222,
              "#7201a8"
             ],
             [
              0.3333333333333333,
              "#9c179e"
             ],
             [
              0.4444444444444444,
              "#bd3786"
             ],
             [
              0.5555555555555556,
              "#d8576b"
             ],
             [
              0.6666666666666666,
              "#ed7953"
             ],
             [
              0.7777777777777778,
              "#fb9f3a"
             ],
             [
              0.8888888888888888,
              "#fdca26"
             ],
             [
              1,
              "#f0f921"
             ]
            ],
            "type": "contour"
           }
          ],
          "contourcarpet": [
           {
            "colorbar": {
             "outlinewidth": 0,
             "ticks": ""
            },
            "type": "contourcarpet"
           }
          ],
          "heatmap": [
           {
            "colorbar": {
             "outlinewidth": 0,
             "ticks": ""
            },
            "colorscale": [
             [
              0,
              "#0d0887"
             ],
             [
              0.1111111111111111,
              "#46039f"
             ],
             [
              0.2222222222222222,
              "#7201a8"
             ],
             [
              0.3333333333333333,
              "#9c179e"
             ],
             [
              0.4444444444444444,
              "#bd3786"
             ],
             [
              0.5555555555555556,
              "#d8576b"
             ],
             [
              0.6666666666666666,
              "#ed7953"
             ],
             [
              0.7777777777777778,
              "#fb9f3a"
             ],
             [
              0.8888888888888888,
              "#fdca26"
             ],
             [
              1,
              "#f0f921"
             ]
            ],
            "type": "heatmap"
           }
          ],
          "histogram": [
           {
            "marker": {
             "pattern": {
              "fillmode": "overlay",
              "size": 10,
              "solidity": 0.2
             }
            },
            "type": "histogram"
           }
          ],
          "histogram2d": [
           {
            "colorbar": {
             "outlinewidth": 0,
             "ticks": ""
            },
            "colorscale": [
             [
              0,
              "#0d0887"
             ],
             [
              0.1111111111111111,
              "#46039f"
             ],
             [
              0.2222222222222222,
              "#7201a8"
             ],
             [
              0.3333333333333333,
              "#9c179e"
             ],
             [
              0.4444444444444444,
              "#bd3786"
             ],
             [
              0.5555555555555556,
              "#d8576b"
             ],
             [
              0.6666666666666666,
              "#ed7953"
             ],
             [
              0.7777777777777778,
              "#fb9f3a"
             ],
             [
              0.8888888888888888,
              "#fdca26"
             ],
             [
              1,
              "#f0f921"
             ]
            ],
            "type": "histogram2d"
           }
          ],
          "histogram2dcontour": [
           {
            "colorbar": {
             "outlinewidth": 0,
             "ticks": ""
            },
            "colorscale": [
             [
              0,
              "#0d0887"
             ],
             [
              0.1111111111111111,
              "#46039f"
             ],
             [
              0.2222222222222222,
              "#7201a8"
             ],
             [
              0.3333333333333333,
              "#9c179e"
             ],
             [
              0.4444444444444444,
              "#bd3786"
             ],
             [
              0.5555555555555556,
              "#d8576b"
             ],
             [
              0.6666666666666666,
              "#ed7953"
             ],
             [
              0.7777777777777778,
              "#fb9f3a"
             ],
             [
              0.8888888888888888,
              "#fdca26"
             ],
             [
              1,
              "#f0f921"
             ]
            ],
            "type": "histogram2dcontour"
           }
          ],
          "mesh3d": [
           {
            "colorbar": {
             "outlinewidth": 0,
             "ticks": ""
            },
            "type": "mesh3d"
           }
          ],
          "parcoords": [
           {
            "line": {
             "colorbar": {
              "outlinewidth": 0,
              "ticks": ""
             }
            },
            "type": "parcoords"
           }
          ],
          "pie": [
           {
            "automargin": true,
            "type": "pie"
           }
          ],
          "scatter": [
           {
            "fillpattern": {
             "fillmode": "overlay",
             "size": 10,
             "solidity": 0.2
            },
            "type": "scatter"
           }
          ],
          "scatter3d": [
           {
            "line": {
             "colorbar": {
              "outlinewidth": 0,
              "ticks": ""
             }
            },
            "marker": {
             "colorbar": {
              "outlinewidth": 0,
              "ticks": ""
             }
            },
            "type": "scatter3d"
           }
          ],
          "scattercarpet": [
           {
            "marker": {
             "colorbar": {
              "outlinewidth": 0,
              "ticks": ""
             }
            },
            "type": "scattercarpet"
           }
          ],
          "scattergeo": [
           {
            "marker": {
             "colorbar": {
              "outlinewidth": 0,
              "ticks": ""
             }
            },
            "type": "scattergeo"
           }
          ],
          "scattergl": [
           {
            "marker": {
             "colorbar": {
              "outlinewidth": 0,
              "ticks": ""
             }
            },
            "type": "scattergl"
           }
          ],
          "scattermap": [
           {
            "marker": {
             "colorbar": {
              "outlinewidth": 0,
              "ticks": ""
             }
            },
            "type": "scattermap"
           }
          ],
          "scattermapbox": [
           {
            "marker": {
             "colorbar": {
              "outlinewidth": 0,
              "ticks": ""
             }
            },
            "type": "scattermapbox"
           }
          ],
          "scatterpolar": [
           {
            "marker": {
             "colorbar": {
              "outlinewidth": 0,
              "ticks": ""
             }
            },
            "type": "scatterpolar"
           }
          ],
          "scatterpolargl": [
           {
            "marker": {
             "colorbar": {
              "outlinewidth": 0,
              "ticks": ""
             }
            },
            "type": "scatterpolargl"
           }
          ],
          "scatterternary": [
           {
            "marker": {
             "colorbar": {
              "outlinewidth": 0,
              "ticks": ""
             }
            },
            "type": "scatterternary"
           }
          ],
          "surface": [
           {
            "colorbar": {
             "outlinewidth": 0,
             "ticks": ""
            },
            "colorscale": [
             [
              0,
              "#0d0887"
             ],
             [
              0.1111111111111111,
              "#46039f"
             ],
             [
              0.2222222222222222,
              "#7201a8"
             ],
             [
              0.3333333333333333,
              "#9c179e"
             ],
             [
              0.4444444444444444,
              "#bd3786"
             ],
             [
              0.5555555555555556,
              "#d8576b"
             ],
             [
              0.6666666666666666,
              "#ed7953"
             ],
             [
              0.7777777777777778,
              "#fb9f3a"
             ],
             [
              0.8888888888888888,
              "#fdca26"
             ],
             [
              1,
              "#f0f921"
             ]
            ],
            "type": "surface"
           }
          ],
          "table": [
           {
            "cells": {
             "fill": {
              "color": "#EBF0F8"
             },
             "line": {
              "color": "white"
             }
            },
            "header": {
             "fill": {
              "color": "#C8D4E3"
             },
             "line": {
              "color": "white"
             }
            },
            "type": "table"
           }
          ]
         },
         "layout": {
          "annotationdefaults": {
           "arrowcolor": "#2a3f5f",
           "arrowhead": 0,
           "arrowwidth": 1
          },
          "autotypenumbers": "strict",
          "coloraxis": {
           "colorbar": {
            "outlinewidth": 0,
            "ticks": ""
           }
          },
          "colorscale": {
           "diverging": [
            [
             0,
             "#8e0152"
            ],
            [
             0.1,
             "#c51b7d"
            ],
            [
             0.2,
             "#de77ae"
            ],
            [
             0.3,
             "#f1b6da"
            ],
            [
             0.4,
             "#fde0ef"
            ],
            [
             0.5,
             "#f7f7f7"
            ],
            [
             0.6,
             "#e6f5d0"
            ],
            [
             0.7,
             "#b8e186"
            ],
            [
             0.8,
             "#7fbc41"
            ],
            [
             0.9,
             "#4d9221"
            ],
            [
             1,
             "#276419"
            ]
           ],
           "sequential": [
            [
             0,
             "#0d0887"
            ],
            [
             0.1111111111111111,
             "#46039f"
            ],
            [
             0.2222222222222222,
             "#7201a8"
            ],
            [
             0.3333333333333333,
             "#9c179e"
            ],
            [
             0.4444444444444444,
             "#bd3786"
            ],
            [
             0.5555555555555556,
             "#d8576b"
            ],
            [
             0.6666666666666666,
             "#ed7953"
            ],
            [
             0.7777777777777778,
             "#fb9f3a"
            ],
            [
             0.8888888888888888,
             "#fdca26"
            ],
            [
             1,
             "#f0f921"
            ]
           ],
           "sequentialminus": [
            [
             0,
             "#0d0887"
            ],
            [
             0.1111111111111111,
             "#46039f"
            ],
            [
             0.2222222222222222,
             "#7201a8"
            ],
            [
             0.3333333333333333,
             "#9c179e"
            ],
            [
             0.4444444444444444,
             "#bd3786"
            ],
            [
             0.5555555555555556,
             "#d8576b"
            ],
            [
             0.6666666666666666,
             "#ed7953"
            ],
            [
             0.7777777777777778,
             "#fb9f3a"
            ],
            [
             0.8888888888888888,
             "#fdca26"
            ],
            [
             1,
             "#f0f921"
            ]
           ]
          },
          "colorway": [
           "#636efa",
           "#EF553B",
           "#00cc96",
           "#ab63fa",
           "#FFA15A",
           "#19d3f3",
           "#FF6692",
           "#B6E880",
           "#FF97FF",
           "#FECB52"
          ],
          "font": {
           "color": "#2a3f5f"
          },
          "geo": {
           "bgcolor": "white",
           "lakecolor": "white",
           "landcolor": "#E5ECF6",
           "showlakes": true,
           "showland": true,
           "subunitcolor": "white"
          },
          "hoverlabel": {
           "align": "left"
          },
          "hovermode": "closest",
          "mapbox": {
           "style": "light"
          },
          "paper_bgcolor": "white",
          "plot_bgcolor": "#E5ECF6",
          "polar": {
           "angularaxis": {
            "gridcolor": "white",
            "linecolor": "white",
            "ticks": ""
           },
           "bgcolor": "#E5ECF6",
           "radialaxis": {
            "gridcolor": "white",
            "linecolor": "white",
            "ticks": ""
           }
          },
          "scene": {
           "xaxis": {
            "backgroundcolor": "#E5ECF6",
            "gridcolor": "white",
            "gridwidth": 2,
            "linecolor": "white",
            "showbackground": true,
            "ticks": "",
            "zerolinecolor": "white"
           },
           "yaxis": {
            "backgroundcolor": "#E5ECF6",
            "gridcolor": "white",
            "gridwidth": 2,
            "linecolor": "white",
            "showbackground": true,
            "ticks": "",
            "zerolinecolor": "white"
           },
           "zaxis": {
            "backgroundcolor": "#E5ECF6",
            "gridcolor": "white",
            "gridwidth": 2,
            "linecolor": "white",
            "showbackground": true,
            "ticks": "",
            "zerolinecolor": "white"
           }
          },
          "shapedefaults": {
           "line": {
            "color": "#2a3f5f"
           }
          },
          "ternary": {
           "aaxis": {
            "gridcolor": "white",
            "linecolor": "white",
            "ticks": ""
           },
           "baxis": {
            "gridcolor": "white",
            "linecolor": "white",
            "ticks": ""
           },
           "bgcolor": "#E5ECF6",
           "caxis": {
            "gridcolor": "white",
            "linecolor": "white",
            "ticks": ""
           }
          },
          "title": {
           "x": 0.05
          },
          "xaxis": {
           "automargin": true,
           "gridcolor": "white",
           "linecolor": "white",
           "ticks": "",
           "title": {
            "standoff": 15
           },
           "zerolinecolor": "white",
           "zerolinewidth": 2
          },
          "yaxis": {
           "automargin": true,
           "gridcolor": "white",
           "linecolor": "white",
           "ticks": "",
           "title": {
            "standoff": 15
           },
           "zerolinecolor": "white",
           "zerolinewidth": 2
          }
         }
        },
        "title": {
         "text": "Time Breakdown per Model (High to Low)"
        },
        "xaxis": {
         "anchor": "y",
         "categoryorder": "total descending",
         "domain": [
          0,
          1
         ],
         "tickangle": -45,
         "title": {
          "text": "Model"
         }
        },
        "yaxis": {
         "anchor": "x",
         "domain": [
          0,
          1
         ],
         "title": {
          "text": "Time (seconds)"
         }
        }
       }
      }
     },
     "metadata": {},
     "output_type": "display_data"
    }
   ],
   "source": [
    "# sorted manual df\n",
    "df_sorted = df_merged.copy()\n",
    "df_sorted['TotalTime'] = df_sorted['ProcessingTime'] + df_sorted['GenerationTime']\n",
    "df_sorted = df_sorted.sort_values('TotalTime', ascending=False)\n",
    "\n",
    "fig = px.bar(\n",
    "    df_sorted, \n",
    "    x=\"Model\", \n",
    "    y=[\"ProcessingTime\", \"GenerationTime\"],\n",
    "    title=\"Time Breakdown per Model (High to Low)\",\n",
    "    labels={\"value\": \"Time (seconds)\"},\n",
    "    color_discrete_sequence=['#636EFA', '#EF553B']\n",
    ")\n",
    "fig.update_layout(\n",
    "    barmode='stack', \n",
    "    xaxis_tickangle=-45,\n",
    "    xaxis={'categoryorder': 'total descending'}  # ordered\n",
    ")\n",
    "fig.show()"
   ]
  },
  {
   "cell_type": "code",
   "execution_count": 70,
   "id": "d41b0564",
   "metadata": {},
   "outputs": [
    {
     "data": {
      "application/vnd.plotly.v1+json": {
       "config": {
        "plotlyServerURL": "https://plot.ly"
       },
       "data": [
        {
         "hovertemplate": "<b>%{hovertext}</b><br><br>Model=airoboros-mistral2.2-7b.Q4_K_S<br>variable=ProcessingSpeed<br>Layers=%{x}<br>Speed (tokens/sec)=%{y}<extra></extra>",
         "hovertext": [
          "airoboros-mistral2.2-7b.Q4_K_S"
         ],
         "legendgroup": "airoboros-mistral2.2-7b.Q4_K_S",
         "marker": {
          "color": "#636efa",
          "size": 12,
          "symbol": "circle"
         },
         "mode": "markers",
         "name": "airoboros-mistral2.2-7b.Q4_K_S",
         "orientation": "v",
         "showlegend": true,
         "type": "scatter",
         "x": {
          "bdata": "Iw==",
          "dtype": "i1"
         },
         "xaxis": "x",
         "y": {
          "bdata": "MzMzM3MKsUA=",
          "dtype": "f8"
         },
         "yaxis": "y"
        },
        {
         "hovertemplate": "<b>%{hovertext}</b><br><br>Model=airoboros-mistral2.2-7b.Q4_K_S<br>variable=GenerationSpeed<br>Layers=%{x}<br>Speed (tokens/sec)=%{y}<extra></extra>",
         "hovertext": [
          "airoboros-mistral2.2-7b.Q4_K_S"
         ],
         "legendgroup": "airoboros-mistral2.2-7b.Q4_K_S",
         "marker": {
          "color": "#636efa",
          "size": 12,
          "symbol": "circle"
         },
         "mode": "markers",
         "name": "airoboros-mistral2.2-7b.Q4_K_S",
         "orientation": "v",
         "showlegend": false,
         "type": "scatter",
         "x": {
          "bdata": "Iw==",
          "dtype": "i1"
         },
         "xaxis": "x2",
         "y": {
          "bdata": "uB6F61EIVEA=",
          "dtype": "f8"
         },
         "yaxis": "y2"
        },
        {
         "hovertemplate": "<b>%{hovertext}</b><br><br>Model=DeepSeek-R1-0528-Qwen3-8B-Q4_K_S<br>variable=ProcessingSpeed<br>Layers=%{x}<br>Speed (tokens/sec)=%{y}<extra></extra>",
         "hovertext": [
          "DeepSeek-R1-0528-Qwen3-8B-Q4_K_S"
         ],
         "legendgroup": "DeepSeek-R1-0528-Qwen3-8B-Q4_K_S",
         "marker": {
          "color": "#EF553B",
          "size": 12,
          "symbol": "circle"
         },
         "mode": "markers",
         "name": "DeepSeek-R1-0528-Qwen3-8B-Q4_K_S",
         "orientation": "v",
         "showlegend": true,
         "type": "scatter",
         "x": {
          "bdata": "Jw==",
          "dtype": "i1"
         },
         "xaxis": "x",
         "y": {
          "bdata": "MzMzM7Oxr0A=",
          "dtype": "f8"
         },
         "yaxis": "y"
        },
        {
         "hovertemplate": "<b>%{hovertext}</b><br><br>Model=DeepSeek-R1-0528-Qwen3-8B-Q4_K_S<br>variable=GenerationSpeed<br>Layers=%{x}<br>Speed (tokens/sec)=%{y}<extra></extra>",
         "hovertext": [
          "DeepSeek-R1-0528-Qwen3-8B-Q4_K_S"
         ],
         "legendgroup": "DeepSeek-R1-0528-Qwen3-8B-Q4_K_S",
         "marker": {
          "color": "#EF553B",
          "size": 12,
          "symbol": "circle"
         },
         "mode": "markers",
         "name": "DeepSeek-R1-0528-Qwen3-8B-Q4_K_S",
         "orientation": "v",
         "showlegend": false,
         "type": "scatter",
         "x": {
          "bdata": "Jw==",
          "dtype": "i1"
         },
         "xaxis": "x2",
         "y": {
          "bdata": "mpmZmZlZUEA=",
          "dtype": "f8"
         },
         "yaxis": "y2"
        },
        {
         "hovertemplate": "<b>%{hovertext}</b><br><br>Model=DeepSeek-R1-0528-Qwen3-8B-UD-IQ1_S<br>variable=ProcessingSpeed<br>Layers=%{x}<br>Speed (tokens/sec)=%{y}<extra></extra>",
         "hovertext": [
          "DeepSeek-R1-0528-Qwen3-8B-UD-IQ1_S"
         ],
         "legendgroup": "DeepSeek-R1-0528-Qwen3-8B-UD-IQ1_S",
         "marker": {
          "color": "#00cc96",
          "size": 12,
          "symbol": "circle"
         },
         "mode": "markers",
         "name": "DeepSeek-R1-0528-Qwen3-8B-UD-IQ1_S",
         "orientation": "v",
         "showlegend": true,
         "type": "scatter",
         "x": {
          "bdata": "Jw==",
          "dtype": "i1"
         },
         "xaxis": "x",
         "y": {
          "bdata": "pHA9Ctduq0A=",
          "dtype": "f8"
         },
         "yaxis": "y"
        },
        {
         "hovertemplate": "<b>%{hovertext}</b><br><br>Model=DeepSeek-R1-0528-Qwen3-8B-UD-IQ1_S<br>variable=GenerationSpeed<br>Layers=%{x}<br>Speed (tokens/sec)=%{y}<extra></extra>",
         "hovertext": [
          "DeepSeek-R1-0528-Qwen3-8B-UD-IQ1_S"
         ],
         "legendgroup": "DeepSeek-R1-0528-Qwen3-8B-UD-IQ1_S",
         "marker": {
          "color": "#00cc96",
          "size": 12,
          "symbol": "circle"
         },
         "mode": "markers",
         "name": "DeepSeek-R1-0528-Qwen3-8B-UD-IQ1_S",
         "orientation": "v",
         "showlegend": false,
         "type": "scatter",
         "x": {
          "bdata": "Jw==",
          "dtype": "i1"
         },
         "xaxis": "x2",
         "y": {
          "bdata": "j8L1KFyPVEA=",
          "dtype": "f8"
         },
         "yaxis": "y2"
        },
        {
         "hovertemplate": "<b>%{hovertext}</b><br><br>Model=Llama-3.1-Nemotron-70B-Instruct-HF-IQ4_XS<br>variable=ProcessingSpeed<br>Layers=%{x}<br>Speed (tokens/sec)=%{y}<extra></extra>",
         "hovertext": [
          "Llama-3.1-Nemotron-70B-Instruct-HF-IQ4_XS"
         ],
         "legendgroup": "Llama-3.1-Nemotron-70B-Instruct-HF-IQ4_XS",
         "marker": {
          "color": "#ab63fa",
          "size": 12,
          "symbol": "circle"
         },
         "mode": "markers",
         "name": "Llama-3.1-Nemotron-70B-Instruct-HF-IQ4_XS",
         "orientation": "v",
         "showlegend": true,
         "type": "scatter",
         "x": {
          "bdata": "Uw==",
          "dtype": "i1"
         },
         "xaxis": "x",
         "y": {
          "bdata": "16NwPQpHf0A=",
          "dtype": "f8"
         },
         "yaxis": "y"
        },
        {
         "hovertemplate": "<b>%{hovertext}</b><br><br>Model=Llama-3.1-Nemotron-70B-Instruct-HF-IQ4_XS<br>variable=GenerationSpeed<br>Layers=%{x}<br>Speed (tokens/sec)=%{y}<extra></extra>",
         "hovertext": [
          "Llama-3.1-Nemotron-70B-Instruct-HF-IQ4_XS"
         ],
         "legendgroup": "Llama-3.1-Nemotron-70B-Instruct-HF-IQ4_XS",
         "marker": {
          "color": "#ab63fa",
          "size": 12,
          "symbol": "circle"
         },
         "mode": "markers",
         "name": "Llama-3.1-Nemotron-70B-Instruct-HF-IQ4_XS",
         "orientation": "v",
         "showlegend": false,
         "type": "scatter",
         "x": {
          "bdata": "Uw==",
          "dtype": "i1"
         },
         "xaxis": "x2",
         "y": {
          "bdata": "w/UoXI9CK0A=",
          "dtype": "f8"
         },
         "yaxis": "y2"
        },
        {
         "hovertemplate": "<b>%{hovertext}</b><br><br>Model=Meta-Llama-3.1-70B-Instruct-IQ4_XS<br>variable=ProcessingSpeed<br>Layers=%{x}<br>Speed (tokens/sec)=%{y}<extra></extra>",
         "hovertext": [
          "Meta-Llama-3.1-70B-Instruct-IQ4_XS"
         ],
         "legendgroup": "Meta-Llama-3.1-70B-Instruct-IQ4_XS",
         "marker": {
          "color": "#FFA15A",
          "size": 12,
          "symbol": "circle"
         },
         "mode": "markers",
         "name": "Meta-Llama-3.1-70B-Instruct-IQ4_XS",
         "orientation": "v",
         "showlegend": true,
         "type": "scatter",
         "x": {
          "bdata": "Uw==",
          "dtype": "i1"
         },
         "xaxis": "x",
         "y": {
          "bdata": "4XoUrkcRf0A=",
          "dtype": "f8"
         },
         "yaxis": "y"
        },
        {
         "hovertemplate": "<b>%{hovertext}</b><br><br>Model=Meta-Llama-3.1-70B-Instruct-IQ4_XS<br>variable=GenerationSpeed<br>Layers=%{x}<br>Speed (tokens/sec)=%{y}<extra></extra>",
         "hovertext": [
          "Meta-Llama-3.1-70B-Instruct-IQ4_XS"
         ],
         "legendgroup": "Meta-Llama-3.1-70B-Instruct-IQ4_XS",
         "marker": {
          "color": "#FFA15A",
          "size": 12,
          "symbol": "circle"
         },
         "mode": "markers",
         "name": "Meta-Llama-3.1-70B-Instruct-IQ4_XS",
         "orientation": "v",
         "showlegend": false,
         "type": "scatter",
         "x": {
          "bdata": "Uw==",
          "dtype": "i1"
         },
         "xaxis": "x2",
         "y": {
          "bdata": "PQrXo3A9K0A=",
          "dtype": "f8"
         },
         "yaxis": "y2"
        },
        {
         "hovertemplate": "<b>%{hovertext}</b><br><br>Model=Meta-Llama-3.1-8B-Instruct-IQ4_XS<br>variable=ProcessingSpeed<br>Layers=%{x}<br>Speed (tokens/sec)=%{y}<extra></extra>",
         "hovertext": [
          "Meta-Llama-3.1-8B-Instruct-IQ4_XS"
         ],
         "legendgroup": "Meta-Llama-3.1-8B-Instruct-IQ4_XS",
         "marker": {
          "color": "#19d3f3",
          "size": 12,
          "symbol": "circle"
         },
         "mode": "markers",
         "name": "Meta-Llama-3.1-8B-Instruct-IQ4_XS",
         "orientation": "v",
         "showlegend": true,
         "type": "scatter",
         "x": {
          "bdata": "Iw==",
          "dtype": "i1"
         },
         "xaxis": "x",
         "y": {
          "bdata": "UrgehWsKrUA=",
          "dtype": "f8"
         },
         "yaxis": "y"
        },
        {
         "hovertemplate": "<b>%{hovertext}</b><br><br>Model=Meta-Llama-3.1-8B-Instruct-IQ4_XS<br>variable=GenerationSpeed<br>Layers=%{x}<br>Speed (tokens/sec)=%{y}<extra></extra>",
         "hovertext": [
          "Meta-Llama-3.1-8B-Instruct-IQ4_XS"
         ],
         "legendgroup": "Meta-Llama-3.1-8B-Instruct-IQ4_XS",
         "marker": {
          "color": "#19d3f3",
          "size": 12,
          "symbol": "circle"
         },
         "mode": "markers",
         "name": "Meta-Llama-3.1-8B-Instruct-IQ4_XS",
         "orientation": "v",
         "showlegend": false,
         "type": "scatter",
         "x": {
          "bdata": "Iw==",
          "dtype": "i1"
         },
         "xaxis": "x2",
         "y": {
          "bdata": "cT0K16NwU0A=",
          "dtype": "f8"
         },
         "yaxis": "y2"
        },
        {
         "hovertemplate": "<b>%{hovertext}</b><br><br>Model=mistralai_Mistral-Small-3.2-24B-Instruct-2506-IQ4_XS<br>variable=ProcessingSpeed<br>Layers=%{x}<br>Speed (tokens/sec)=%{y}<extra></extra>",
         "hovertext": [
          "mistralai_Mistral-Small-3.2-24B-Instruct-2506-IQ4_XS"
         ],
         "legendgroup": "mistralai_Mistral-Small-3.2-24B-Instruct-2506-IQ4_XS",
         "marker": {
          "color": "#FF6692",
          "size": 12,
          "symbol": "circle"
         },
         "mode": "markers",
         "name": "mistralai_Mistral-Small-3.2-24B-Instruct-2506-IQ4_XS",
         "orientation": "v",
         "showlegend": true,
         "type": "scatter",
         "x": {
          "bdata": "Kw==",
          "dtype": "i1"
         },
         "xaxis": "x",
         "y": {
          "bdata": "4XoUrkcBmUA=",
          "dtype": "f8"
         },
         "yaxis": "y"
        },
        {
         "hovertemplate": "<b>%{hovertext}</b><br><br>Model=mistralai_Mistral-Small-3.2-24B-Instruct-2506-IQ4_XS<br>variable=GenerationSpeed<br>Layers=%{x}<br>Speed (tokens/sec)=%{y}<extra></extra>",
         "hovertext": [
          "mistralai_Mistral-Small-3.2-24B-Instruct-2506-IQ4_XS"
         ],
         "legendgroup": "mistralai_Mistral-Small-3.2-24B-Instruct-2506-IQ4_XS",
         "marker": {
          "color": "#FF6692",
          "size": 12,
          "symbol": "circle"
         },
         "mode": "markers",
         "name": "mistralai_Mistral-Small-3.2-24B-Instruct-2506-IQ4_XS",
         "orientation": "v",
         "showlegend": false,
         "type": "scatter",
         "x": {
          "bdata": "Kw==",
          "dtype": "i1"
         },
         "xaxis": "x2",
         "y": {
          "bdata": "mpmZmZl5QkA=",
          "dtype": "f8"
         },
         "yaxis": "y2"
        },
        {
         "hovertemplate": "<b>%{hovertext}</b><br><br>Model=OLMo-2-1124-7B-Instruct-Q4_K_S<br>variable=ProcessingSpeed<br>Layers=%{x}<br>Speed (tokens/sec)=%{y}<extra></extra>",
         "hovertext": [
          "OLMo-2-1124-7B-Instruct-Q4_K_S"
         ],
         "legendgroup": "OLMo-2-1124-7B-Instruct-Q4_K_S",
         "marker": {
          "color": "#B6E880",
          "size": 12,
          "symbol": "circle"
         },
         "mode": "markers",
         "name": "OLMo-2-1124-7B-Instruct-Q4_K_S",
         "orientation": "v",
         "showlegend": true,
         "type": "scatter",
         "x": {
          "bdata": "Iw==",
          "dtype": "i1"
         },
         "xaxis": "x",
         "y": {
          "bdata": "KVyPwlVFw0A=",
          "dtype": "f8"
         },
         "yaxis": "y"
        },
        {
         "hovertemplate": "<b>%{hovertext}</b><br><br>Model=OLMo-2-1124-7B-Instruct-Q4_K_S<br>variable=GenerationSpeed<br>Layers=%{x}<br>Speed (tokens/sec)=%{y}<extra></extra>",
         "hovertext": [
          "OLMo-2-1124-7B-Instruct-Q4_K_S"
         ],
         "legendgroup": "OLMo-2-1124-7B-Instruct-Q4_K_S",
         "marker": {
          "color": "#B6E880",
          "size": 12,
          "symbol": "circle"
         },
         "mode": "markers",
         "name": "OLMo-2-1124-7B-Instruct-Q4_K_S",
         "orientation": "v",
         "showlegend": false,
         "type": "scatter",
         "x": {
          "bdata": "Iw==",
          "dtype": "i1"
         },
         "xaxis": "x2",
         "y": {
          "bdata": "9ihcj8KFUEA=",
          "dtype": "f8"
         },
         "yaxis": "y2"
        },
        {
         "hovertemplate": "<b>%{hovertext}</b><br><br>Model=Qwen2.5.1-Coder-7B-Instruct-Q4_K_S<br>variable=ProcessingSpeed<br>Layers=%{x}<br>Speed (tokens/sec)=%{y}<extra></extra>",
         "hovertext": [
          "Qwen2.5.1-Coder-7B-Instruct-Q4_K_S"
         ],
         "legendgroup": "Qwen2.5.1-Coder-7B-Instruct-Q4_K_S",
         "marker": {
          "color": "#FF97FF",
          "size": 12,
          "symbol": "circle"
         },
         "mode": "markers",
         "name": "Qwen2.5.1-Coder-7B-Instruct-Q4_K_S",
         "orientation": "v",
         "showlegend": true,
         "type": "scatter",
         "x": {
          "bdata": "Hw==",
          "dtype": "i1"
         },
         "xaxis": "x",
         "y": {
          "bdata": "XI/C9Wj3skA=",
          "dtype": "f8"
         },
         "yaxis": "y"
        },
        {
         "hovertemplate": "<b>%{hovertext}</b><br><br>Model=Qwen2.5.1-Coder-7B-Instruct-Q4_K_S<br>variable=GenerationSpeed<br>Layers=%{x}<br>Speed (tokens/sec)=%{y}<extra></extra>",
         "hovertext": [
          "Qwen2.5.1-Coder-7B-Instruct-Q4_K_S"
         ],
         "legendgroup": "Qwen2.5.1-Coder-7B-Instruct-Q4_K_S",
         "marker": {
          "color": "#FF97FF",
          "size": 12,
          "symbol": "circle"
         },
         "mode": "markers",
         "name": "Qwen2.5.1-Coder-7B-Instruct-Q4_K_S",
         "orientation": "v",
         "showlegend": false,
         "type": "scatter",
         "x": {
          "bdata": "Hw==",
          "dtype": "i1"
         },
         "xaxis": "x2",
         "y": {
          "bdata": "zczMzMxsU0A=",
          "dtype": "f8"
         },
         "yaxis": "y2"
        },
        {
         "hovertemplate": "<b>%{hovertext}</b><br><br>Model=Qwen2.5-Coder-32B-Instruct-Q4_K_S<br>variable=ProcessingSpeed<br>Layers=%{x}<br>Speed (tokens/sec)=%{y}<extra></extra>",
         "hovertext": [
          "Qwen2.5-Coder-32B-Instruct-Q4_K_S"
         ],
         "legendgroup": "Qwen2.5-Coder-32B-Instruct-Q4_K_S",
         "marker": {
          "color": "#FECB52",
          "size": 12,
          "symbol": "circle"
         },
         "mode": "markers",
         "name": "Qwen2.5-Coder-32B-Instruct-Q4_K_S",
         "orientation": "v",
         "showlegend": true,
         "type": "scatter",
         "x": {
          "bdata": "Qw==",
          "dtype": "i1"
         },
         "xaxis": "x",
         "y": {
          "bdata": "CtejcD1JkUA=",
          "dtype": "f8"
         },
         "yaxis": "y"
        },
        {
         "hovertemplate": "<b>%{hovertext}</b><br><br>Model=Qwen2.5-Coder-32B-Instruct-Q4_K_S<br>variable=GenerationSpeed<br>Layers=%{x}<br>Speed (tokens/sec)=%{y}<extra></extra>",
         "hovertext": [
          "Qwen2.5-Coder-32B-Instruct-Q4_K_S"
         ],
         "legendgroup": "Qwen2.5-Coder-32B-Instruct-Q4_K_S",
         "marker": {
          "color": "#FECB52",
          "size": 12,
          "symbol": "circle"
         },
         "mode": "markers",
         "name": "Qwen2.5-Coder-32B-Instruct-Q4_K_S",
         "orientation": "v",
         "showlegend": false,
         "type": "scatter",
         "x": {
          "bdata": "Qw==",
          "dtype": "i1"
         },
         "xaxis": "x2",
         "y": {
          "bdata": "j8L1KFxPOUA=",
          "dtype": "f8"
         },
         "yaxis": "y2"
        }
       ],
       "layout": {
        "annotations": [
         {
          "font": {},
          "showarrow": false,
          "text": "variable=ProcessingSpeed",
          "x": 0.245,
          "xanchor": "center",
          "xref": "paper",
          "y": 1,
          "yanchor": "bottom",
          "yref": "paper"
         },
         {
          "font": {},
          "showarrow": false,
          "text": "variable=GenerationSpeed",
          "x": 0.755,
          "xanchor": "center",
          "xref": "paper",
          "y": 1,
          "yanchor": "bottom",
          "yref": "paper"
         }
        ],
        "legend": {
         "title": {
          "text": "Model"
         },
         "tracegroupgap": 0
        },
        "template": {
         "data": {
          "bar": [
           {
            "error_x": {
             "color": "#2a3f5f"
            },
            "error_y": {
             "color": "#2a3f5f"
            },
            "marker": {
             "line": {
              "color": "#E5ECF6",
              "width": 0.5
             },
             "pattern": {
              "fillmode": "overlay",
              "size": 10,
              "solidity": 0.2
             }
            },
            "type": "bar"
           }
          ],
          "barpolar": [
           {
            "marker": {
             "line": {
              "color": "#E5ECF6",
              "width": 0.5
             },
             "pattern": {
              "fillmode": "overlay",
              "size": 10,
              "solidity": 0.2
             }
            },
            "type": "barpolar"
           }
          ],
          "carpet": [
           {
            "aaxis": {
             "endlinecolor": "#2a3f5f",
             "gridcolor": "white",
             "linecolor": "white",
             "minorgridcolor": "white",
             "startlinecolor": "#2a3f5f"
            },
            "baxis": {
             "endlinecolor": "#2a3f5f",
             "gridcolor": "white",
             "linecolor": "white",
             "minorgridcolor": "white",
             "startlinecolor": "#2a3f5f"
            },
            "type": "carpet"
           }
          ],
          "choropleth": [
           {
            "colorbar": {
             "outlinewidth": 0,
             "ticks": ""
            },
            "type": "choropleth"
           }
          ],
          "contour": [
           {
            "colorbar": {
             "outlinewidth": 0,
             "ticks": ""
            },
            "colorscale": [
             [
              0,
              "#0d0887"
             ],
             [
              0.1111111111111111,
              "#46039f"
             ],
             [
              0.2222222222222222,
              "#7201a8"
             ],
             [
              0.3333333333333333,
              "#9c179e"
             ],
             [
              0.4444444444444444,
              "#bd3786"
             ],
             [
              0.5555555555555556,
              "#d8576b"
             ],
             [
              0.6666666666666666,
              "#ed7953"
             ],
             [
              0.7777777777777778,
              "#fb9f3a"
             ],
             [
              0.8888888888888888,
              "#fdca26"
             ],
             [
              1,
              "#f0f921"
             ]
            ],
            "type": "contour"
           }
          ],
          "contourcarpet": [
           {
            "colorbar": {
             "outlinewidth": 0,
             "ticks": ""
            },
            "type": "contourcarpet"
           }
          ],
          "heatmap": [
           {
            "colorbar": {
             "outlinewidth": 0,
             "ticks": ""
            },
            "colorscale": [
             [
              0,
              "#0d0887"
             ],
             [
              0.1111111111111111,
              "#46039f"
             ],
             [
              0.2222222222222222,
              "#7201a8"
             ],
             [
              0.3333333333333333,
              "#9c179e"
             ],
             [
              0.4444444444444444,
              "#bd3786"
             ],
             [
              0.5555555555555556,
              "#d8576b"
             ],
             [
              0.6666666666666666,
              "#ed7953"
             ],
             [
              0.7777777777777778,
              "#fb9f3a"
             ],
             [
              0.8888888888888888,
              "#fdca26"
             ],
             [
              1,
              "#f0f921"
             ]
            ],
            "type": "heatmap"
           }
          ],
          "histogram": [
           {
            "marker": {
             "pattern": {
              "fillmode": "overlay",
              "size": 10,
              "solidity": 0.2
             }
            },
            "type": "histogram"
           }
          ],
          "histogram2d": [
           {
            "colorbar": {
             "outlinewidth": 0,
             "ticks": ""
            },
            "colorscale": [
             [
              0,
              "#0d0887"
             ],
             [
              0.1111111111111111,
              "#46039f"
             ],
             [
              0.2222222222222222,
              "#7201a8"
             ],
             [
              0.3333333333333333,
              "#9c179e"
             ],
             [
              0.4444444444444444,
              "#bd3786"
             ],
             [
              0.5555555555555556,
              "#d8576b"
             ],
             [
              0.6666666666666666,
              "#ed7953"
             ],
             [
              0.7777777777777778,
              "#fb9f3a"
             ],
             [
              0.8888888888888888,
              "#fdca26"
             ],
             [
              1,
              "#f0f921"
             ]
            ],
            "type": "histogram2d"
           }
          ],
          "histogram2dcontour": [
           {
            "colorbar": {
             "outlinewidth": 0,
             "ticks": ""
            },
            "colorscale": [
             [
              0,
              "#0d0887"
             ],
             [
              0.1111111111111111,
              "#46039f"
             ],
             [
              0.2222222222222222,
              "#7201a8"
             ],
             [
              0.3333333333333333,
              "#9c179e"
             ],
             [
              0.4444444444444444,
              "#bd3786"
             ],
             [
              0.5555555555555556,
              "#d8576b"
             ],
             [
              0.6666666666666666,
              "#ed7953"
             ],
             [
              0.7777777777777778,
              "#fb9f3a"
             ],
             [
              0.8888888888888888,
              "#fdca26"
             ],
             [
              1,
              "#f0f921"
             ]
            ],
            "type": "histogram2dcontour"
           }
          ],
          "mesh3d": [
           {
            "colorbar": {
             "outlinewidth": 0,
             "ticks": ""
            },
            "type": "mesh3d"
           }
          ],
          "parcoords": [
           {
            "line": {
             "colorbar": {
              "outlinewidth": 0,
              "ticks": ""
             }
            },
            "type": "parcoords"
           }
          ],
          "pie": [
           {
            "automargin": true,
            "type": "pie"
           }
          ],
          "scatter": [
           {
            "fillpattern": {
             "fillmode": "overlay",
             "size": 10,
             "solidity": 0.2
            },
            "type": "scatter"
           }
          ],
          "scatter3d": [
           {
            "line": {
             "colorbar": {
              "outlinewidth": 0,
              "ticks": ""
             }
            },
            "marker": {
             "colorbar": {
              "outlinewidth": 0,
              "ticks": ""
             }
            },
            "type": "scatter3d"
           }
          ],
          "scattercarpet": [
           {
            "marker": {
             "colorbar": {
              "outlinewidth": 0,
              "ticks": ""
             }
            },
            "type": "scattercarpet"
           }
          ],
          "scattergeo": [
           {
            "marker": {
             "colorbar": {
              "outlinewidth": 0,
              "ticks": ""
             }
            },
            "type": "scattergeo"
           }
          ],
          "scattergl": [
           {
            "marker": {
             "colorbar": {
              "outlinewidth": 0,
              "ticks": ""
             }
            },
            "type": "scattergl"
           }
          ],
          "scattermap": [
           {
            "marker": {
             "colorbar": {
              "outlinewidth": 0,
              "ticks": ""
             }
            },
            "type": "scattermap"
           }
          ],
          "scattermapbox": [
           {
            "marker": {
             "colorbar": {
              "outlinewidth": 0,
              "ticks": ""
             }
            },
            "type": "scattermapbox"
           }
          ],
          "scatterpolar": [
           {
            "marker": {
             "colorbar": {
              "outlinewidth": 0,
              "ticks": ""
             }
            },
            "type": "scatterpolar"
           }
          ],
          "scatterpolargl": [
           {
            "marker": {
             "colorbar": {
              "outlinewidth": 0,
              "ticks": ""
             }
            },
            "type": "scatterpolargl"
           }
          ],
          "scatterternary": [
           {
            "marker": {
             "colorbar": {
              "outlinewidth": 0,
              "ticks": ""
             }
            },
            "type": "scatterternary"
           }
          ],
          "surface": [
           {
            "colorbar": {
             "outlinewidth": 0,
             "ticks": ""
            },
            "colorscale": [
             [
              0,
              "#0d0887"
             ],
             [
              0.1111111111111111,
              "#46039f"
             ],
             [
              0.2222222222222222,
              "#7201a8"
             ],
             [
              0.3333333333333333,
              "#9c179e"
             ],
             [
              0.4444444444444444,
              "#bd3786"
             ],
             [
              0.5555555555555556,
              "#d8576b"
             ],
             [
              0.6666666666666666,
              "#ed7953"
             ],
             [
              0.7777777777777778,
              "#fb9f3a"
             ],
             [
              0.8888888888888888,
              "#fdca26"
             ],
             [
              1,
              "#f0f921"
             ]
            ],
            "type": "surface"
           }
          ],
          "table": [
           {
            "cells": {
             "fill": {
              "color": "#EBF0F8"
             },
             "line": {
              "color": "white"
             }
            },
            "header": {
             "fill": {
              "color": "#C8D4E3"
             },
             "line": {
              "color": "white"
             }
            },
            "type": "table"
           }
          ]
         },
         "layout": {
          "annotationdefaults": {
           "arrowcolor": "#2a3f5f",
           "arrowhead": 0,
           "arrowwidth": 1
          },
          "autotypenumbers": "strict",
          "coloraxis": {
           "colorbar": {
            "outlinewidth": 0,
            "ticks": ""
           }
          },
          "colorscale": {
           "diverging": [
            [
             0,
             "#8e0152"
            ],
            [
             0.1,
             "#c51b7d"
            ],
            [
             0.2,
             "#de77ae"
            ],
            [
             0.3,
             "#f1b6da"
            ],
            [
             0.4,
             "#fde0ef"
            ],
            [
             0.5,
             "#f7f7f7"
            ],
            [
             0.6,
             "#e6f5d0"
            ],
            [
             0.7,
             "#b8e186"
            ],
            [
             0.8,
             "#7fbc41"
            ],
            [
             0.9,
             "#4d9221"
            ],
            [
             1,
             "#276419"
            ]
           ],
           "sequential": [
            [
             0,
             "#0d0887"
            ],
            [
             0.1111111111111111,
             "#46039f"
            ],
            [
             0.2222222222222222,
             "#7201a8"
            ],
            [
             0.3333333333333333,
             "#9c179e"
            ],
            [
             0.4444444444444444,
             "#bd3786"
            ],
            [
             0.5555555555555556,
             "#d8576b"
            ],
            [
             0.6666666666666666,
             "#ed7953"
            ],
            [
             0.7777777777777778,
             "#fb9f3a"
            ],
            [
             0.8888888888888888,
             "#fdca26"
            ],
            [
             1,
             "#f0f921"
            ]
           ],
           "sequentialminus": [
            [
             0,
             "#0d0887"
            ],
            [
             0.1111111111111111,
             "#46039f"
            ],
            [
             0.2222222222222222,
             "#7201a8"
            ],
            [
             0.3333333333333333,
             "#9c179e"
            ],
            [
             0.4444444444444444,
             "#bd3786"
            ],
            [
             0.5555555555555556,
             "#d8576b"
            ],
            [
             0.6666666666666666,
             "#ed7953"
            ],
            [
             0.7777777777777778,
             "#fb9f3a"
            ],
            [
             0.8888888888888888,
             "#fdca26"
            ],
            [
             1,
             "#f0f921"
            ]
           ]
          },
          "colorway": [
           "#636efa",
           "#EF553B",
           "#00cc96",
           "#ab63fa",
           "#FFA15A",
           "#19d3f3",
           "#FF6692",
           "#B6E880",
           "#FF97FF",
           "#FECB52"
          ],
          "font": {
           "color": "#2a3f5f"
          },
          "geo": {
           "bgcolor": "white",
           "lakecolor": "white",
           "landcolor": "#E5ECF6",
           "showlakes": true,
           "showland": true,
           "subunitcolor": "white"
          },
          "hoverlabel": {
           "align": "left"
          },
          "hovermode": "closest",
          "mapbox": {
           "style": "light"
          },
          "paper_bgcolor": "white",
          "plot_bgcolor": "#E5ECF6",
          "polar": {
           "angularaxis": {
            "gridcolor": "white",
            "linecolor": "white",
            "ticks": ""
           },
           "bgcolor": "#E5ECF6",
           "radialaxis": {
            "gridcolor": "white",
            "linecolor": "white",
            "ticks": ""
           }
          },
          "scene": {
           "xaxis": {
            "backgroundcolor": "#E5ECF6",
            "gridcolor": "white",
            "gridwidth": 2,
            "linecolor": "white",
            "showbackground": true,
            "ticks": "",
            "zerolinecolor": "white"
           },
           "yaxis": {
            "backgroundcolor": "#E5ECF6",
            "gridcolor": "white",
            "gridwidth": 2,
            "linecolor": "white",
            "showbackground": true,
            "ticks": "",
            "zerolinecolor": "white"
           },
           "zaxis": {
            "backgroundcolor": "#E5ECF6",
            "gridcolor": "white",
            "gridwidth": 2,
            "linecolor": "white",
            "showbackground": true,
            "ticks": "",
            "zerolinecolor": "white"
           }
          },
          "shapedefaults": {
           "line": {
            "color": "#2a3f5f"
           }
          },
          "ternary": {
           "aaxis": {
            "gridcolor": "white",
            "linecolor": "white",
            "ticks": ""
           },
           "baxis": {
            "gridcolor": "white",
            "linecolor": "white",
            "ticks": ""
           },
           "bgcolor": "#E5ECF6",
           "caxis": {
            "gridcolor": "white",
            "linecolor": "white",
            "ticks": ""
           }
          },
          "title": {
           "x": 0.05
          },
          "xaxis": {
           "automargin": true,
           "gridcolor": "white",
           "linecolor": "white",
           "ticks": "",
           "title": {
            "standoff": 15
           },
           "zerolinecolor": "white",
           "zerolinewidth": 2
          },
          "yaxis": {
           "automargin": true,
           "gridcolor": "white",
           "linecolor": "white",
           "ticks": "",
           "title": {
            "standoff": 15
           },
           "zerolinecolor": "white",
           "zerolinewidth": 2
          }
         }
        },
        "title": {
         "text": "Speed Metrics vs Layer Count"
        },
        "xaxis": {
         "anchor": "y",
         "domain": [
          0,
          0.49
         ],
         "title": {
          "text": "Layers"
         }
        },
        "xaxis2": {
         "anchor": "y2",
         "domain": [
          0.51,
          1
         ],
         "matches": "x",
         "title": {
          "text": "Layers"
         }
        },
        "yaxis": {
         "anchor": "x",
         "domain": [
          0,
          1
         ],
         "title": {
          "text": "Speed (tokens/sec)"
         }
        },
        "yaxis2": {
         "anchor": "x2",
         "domain": [
          0,
          1
         ],
         "matches": "y",
         "showticklabels": false
        }
       }
      }
     },
     "metadata": {},
     "output_type": "display_data"
    }
   ],
   "source": [
    "fig = px.scatter(df_merged, \n",
    "                 x=\"Layers\", \n",
    "                 y=[\"ProcessingSpeed\", \"GenerationSpeed\"],\n",
    "                 facet_col=\"variable\",\n",
    "                 color=\"Model\",\n",
    "                 hover_name=\"Model\",\n",
    "                 title=\"Speed Metrics vs Layer Count\",\n",
    "                 labels={\"value\": \"Speed (tokens/sec)\"})\n",
    "fig.update_traces(marker=dict(size=12))\n",
    "fig.show()"
   ]
  },
  {
   "cell_type": "code",
   "execution_count": 84,
   "id": "371cd112",
   "metadata": {},
   "outputs": [
    {
     "data": {
      "application/vnd.plotly.v1+json": {
       "config": {
        "plotlyServerURL": "https://plot.ly"
       },
       "data": [
        {
         "hovertemplate": "<b>%{hovertext}</b><br><br>Model=airoboros-mistral2.2-7b.Q4_K_S<br>size=%{x}<br>Layers=%{y}<br>GenerationSpeed=%{z}<br>TotalTime=%{marker.size}<extra></extra>",
         "hovertext": [
          "airoboros-mistral2.2-7b.Q4_K_S"
         ],
         "legendgroup": "airoboros-mistral2.2-7b.Q4_K_S",
         "marker": {
          "color": "#636efa",
          "size": {
           "bdata": "SOF6FK5HAUA=",
           "dtype": "f8"
          },
          "sizemode": "area",
          "sizeref": 0.038450000000000005,
          "symbol": "circle"
         },
         "mode": "markers",
         "name": "airoboros-mistral2.2-7b.Q4_K_S",
         "scene": "scene",
         "showlegend": true,
         "type": "scatter3d",
         "x": {
          "bdata": "AAAAAAAAHEA=",
          "dtype": "f8"
         },
         "y": {
          "bdata": "Iw==",
          "dtype": "i1"
         },
         "z": {
          "bdata": "uB6F61EIVEA=",
          "dtype": "f8"
         }
        },
        {
         "hovertemplate": "<b>%{hovertext}</b><br><br>Model=DeepSeek-R1-0528-Qwen3-8B-Q4_K_S<br>size=%{x}<br>Layers=%{y}<br>GenerationSpeed=%{z}<br>TotalTime=%{marker.size}<extra></extra>",
         "hovertext": [
          "DeepSeek-R1-0528-Qwen3-8B-Q4_K_S"
         ],
         "legendgroup": "DeepSeek-R1-0528-Qwen3-8B-Q4_K_S",
         "marker": {
          "color": "#EF553B",
          "size": {
           "bdata": "FK5H4XoUBEA=",
           "dtype": "f8"
          },
          "sizemode": "area",
          "sizeref": 0.038450000000000005,
          "symbol": "circle"
         },
         "mode": "markers",
         "name": "DeepSeek-R1-0528-Qwen3-8B-Q4_K_S",
         "scene": "scene",
         "showlegend": true,
         "type": "scatter3d",
         "x": {
          "bdata": "AAAAAAAAIEA=",
          "dtype": "f8"
         },
         "y": {
          "bdata": "Jw==",
          "dtype": "i1"
         },
         "z": {
          "bdata": "mpmZmZlZUEA=",
          "dtype": "f8"
         }
        },
        {
         "hovertemplate": "<b>%{hovertext}</b><br><br>Model=DeepSeek-R1-0528-Qwen3-8B-UD-IQ1_S<br>size=%{x}<br>Layers=%{y}<br>GenerationSpeed=%{z}<br>TotalTime=%{marker.size}<extra></extra>",
         "hovertext": [
          "DeepSeek-R1-0528-Qwen3-8B-UD-IQ1_S"
         ],
         "legendgroup": "DeepSeek-R1-0528-Qwen3-8B-UD-IQ1_S",
         "marker": {
          "color": "#00cc96",
          "size": {
           "bdata": "zczMzMzMAkA=",
           "dtype": "f8"
          },
          "sizemode": "area",
          "sizeref": 0.038450000000000005,
          "symbol": "circle"
         },
         "mode": "markers",
         "name": "DeepSeek-R1-0528-Qwen3-8B-UD-IQ1_S",
         "scene": "scene",
         "showlegend": true,
         "type": "scatter3d",
         "x": {
          "bdata": "AAAAAAAAIEA=",
          "dtype": "f8"
         },
         "y": {
          "bdata": "Jw==",
          "dtype": "i1"
         },
         "z": {
          "bdata": "j8L1KFyPVEA=",
          "dtype": "f8"
         }
        },
        {
         "hovertemplate": "<b>%{hovertext}</b><br><br>Model=Llama-3.1-Nemotron-70B-Instruct-HF-IQ4_XS<br>size=%{x}<br>Layers=%{y}<br>GenerationSpeed=%{z}<br>TotalTime=%{marker.size}<extra></extra>",
         "hovertext": [
          "Llama-3.1-Nemotron-70B-Instruct-HF-IQ4_XS"
         ],
         "legendgroup": "Llama-3.1-Nemotron-70B-Instruct-HF-IQ4_XS",
         "marker": {
          "color": "#ab63fa",
          "size": {
           "bdata": "pHA9CtejLkA=",
           "dtype": "f8"
          },
          "sizemode": "area",
          "sizeref": 0.038450000000000005,
          "symbol": "circle"
         },
         "mode": "markers",
         "name": "Llama-3.1-Nemotron-70B-Instruct-HF-IQ4_XS",
         "scene": "scene",
         "showlegend": true,
         "type": "scatter3d",
         "x": {
          "bdata": "AAAAAACAUUA=",
          "dtype": "f8"
         },
         "y": {
          "bdata": "Uw==",
          "dtype": "i1"
         },
         "z": {
          "bdata": "w/UoXI9CK0A=",
          "dtype": "f8"
         }
        },
        {
         "hovertemplate": "<b>%{hovertext}</b><br><br>Model=Meta-Llama-3.1-70B-Instruct-IQ4_XS<br>size=%{x}<br>Layers=%{y}<br>GenerationSpeed=%{z}<br>TotalTime=%{marker.size}<extra></extra>",
         "hovertext": [
          "Meta-Llama-3.1-70B-Instruct-IQ4_XS"
         ],
         "legendgroup": "Meta-Llama-3.1-70B-Instruct-IQ4_XS",
         "marker": {
          "color": "#FFA15A",
          "size": {
           "bdata": "w/UoXI/CLkA=",
           "dtype": "f8"
          },
          "sizemode": "area",
          "sizeref": 0.038450000000000005,
          "symbol": "circle"
         },
         "mode": "markers",
         "name": "Meta-Llama-3.1-70B-Instruct-IQ4_XS",
         "scene": "scene",
         "showlegend": true,
         "type": "scatter3d",
         "x": {
          "bdata": "AAAAAACAUUA=",
          "dtype": "f8"
         },
         "y": {
          "bdata": "Uw==",
          "dtype": "i1"
         },
         "z": {
          "bdata": "PQrXo3A9K0A=",
          "dtype": "f8"
         }
        },
        {
         "hovertemplate": "<b>%{hovertext}</b><br><br>Model=Meta-Llama-3.1-8B-Instruct-IQ4_XS<br>size=%{x}<br>Layers=%{y}<br>GenerationSpeed=%{z}<br>TotalTime=%{marker.size}<extra></extra>",
         "hovertext": [
          "Meta-Llama-3.1-8B-Instruct-IQ4_XS"
         ],
         "legendgroup": "Meta-Llama-3.1-8B-Instruct-IQ4_XS",
         "marker": {
          "color": "#19d3f3",
          "size": {
           "bdata": "4XoUrkfhAkA=",
           "dtype": "f8"
          },
          "sizemode": "area",
          "sizeref": 0.038450000000000005,
          "symbol": "circle"
         },
         "mode": "markers",
         "name": "Meta-Llama-3.1-8B-Instruct-IQ4_XS",
         "scene": "scene",
         "showlegend": true,
         "type": "scatter3d",
         "x": {
          "bdata": "AAAAAAAAIEA=",
          "dtype": "f8"
         },
         "y": {
          "bdata": "Iw==",
          "dtype": "i1"
         },
         "z": {
          "bdata": "cT0K16NwU0A=",
          "dtype": "f8"
         }
        },
        {
         "hovertemplate": "<b>%{hovertext}</b><br><br>Model=mistralai_Mistral-Small-3.2-24B-Instruct-2506-IQ4_XS<br>size=%{x}<br>Layers=%{y}<br>GenerationSpeed=%{z}<br>TotalTime=%{marker.size}<extra></extra>",
         "hovertext": [
          "mistralai_Mistral-Small-3.2-24B-Instruct-2506-IQ4_XS"
         ],
         "legendgroup": "mistralai_Mistral-Small-3.2-24B-Instruct-2506-IQ4_XS",
         "marker": {
          "color": "#FF6692",
          "size": {
           "bdata": "zczMzMzMFEA=",
           "dtype": "f8"
          },
          "sizemode": "area",
          "sizeref": 0.038450000000000005,
          "symbol": "circle"
         },
         "mode": "markers",
         "name": "mistralai_Mistral-Small-3.2-24B-Instruct-2506-IQ4_XS",
         "scene": "scene",
         "showlegend": true,
         "type": "scatter3d",
         "x": {
          "bdata": "AAAAAAAAOEA=",
          "dtype": "f8"
         },
         "y": {
          "bdata": "Kw==",
          "dtype": "i1"
         },
         "z": {
          "bdata": "mpmZmZl5QkA=",
          "dtype": "f8"
         }
        },
        {
         "hovertemplate": "<b>%{hovertext}</b><br><br>Model=OLMo-2-1124-7B-Instruct-Q4_K_S<br>size=%{x}<br>Layers=%{y}<br>GenerationSpeed=%{z}<br>TotalTime=%{marker.size}<extra></extra>",
         "hovertext": [
          "OLMo-2-1124-7B-Instruct-Q4_K_S"
         ],
         "legendgroup": "OLMo-2-1124-7B-Instruct-Q4_K_S",
         "marker": {
          "color": "#B6E880",
          "size": {
           "bdata": "uB6F61G4/j8=",
           "dtype": "f8"
          },
          "sizemode": "area",
          "sizeref": 0.038450000000000005,
          "symbol": "circle"
         },
         "mode": "markers",
         "name": "OLMo-2-1124-7B-Instruct-Q4_K_S",
         "scene": "scene",
         "showlegend": true,
         "type": "scatter3d",
         "x": {
          "bdata": "AAAAAAAAHEA=",
          "dtype": "f8"
         },
         "y": {
          "bdata": "Iw==",
          "dtype": "i1"
         },
         "z": {
          "bdata": "9ihcj8KFUEA=",
          "dtype": "f8"
         }
        },
        {
         "hovertemplate": "<b>%{hovertext}</b><br><br>Model=Qwen2.5.1-Coder-7B-Instruct-Q4_K_S<br>size=%{x}<br>Layers=%{y}<br>GenerationSpeed=%{z}<br>TotalTime=%{marker.size}<extra></extra>",
         "hovertext": [
          "Qwen2.5.1-Coder-7B-Instruct-Q4_K_S"
         ],
         "legendgroup": "Qwen2.5.1-Coder-7B-Instruct-Q4_K_S",
         "marker": {
          "color": "#FF97FF",
          "size": {
           "bdata": "4XoUrkfhAEA=",
           "dtype": "f8"
          },
          "sizemode": "area",
          "sizeref": 0.038450000000000005,
          "symbol": "circle"
         },
         "mode": "markers",
         "name": "Qwen2.5.1-Coder-7B-Instruct-Q4_K_S",
         "scene": "scene",
         "showlegend": true,
         "type": "scatter3d",
         "x": {
          "bdata": "AAAAAAAAHEA=",
          "dtype": "f8"
         },
         "y": {
          "bdata": "Hw==",
          "dtype": "i1"
         },
         "z": {
          "bdata": "zczMzMxsU0A=",
          "dtype": "f8"
         }
        },
        {
         "hovertemplate": "<b>%{hovertext}</b><br><br>Model=Qwen2.5-Coder-32B-Instruct-Q4_K_S<br>size=%{x}<br>Layers=%{y}<br>GenerationSpeed=%{z}<br>TotalTime=%{marker.size}<extra></extra>",
         "hovertext": [
          "Qwen2.5-Coder-32B-Instruct-Q4_K_S"
         ],
         "legendgroup": "Qwen2.5-Coder-32B-Instruct-Q4_K_S",
         "marker": {
          "color": "#FECB52",
          "size": {
           "bdata": "PQrXo3A9HkA=",
           "dtype": "f8"
          },
          "sizemode": "area",
          "sizeref": 0.038450000000000005,
          "symbol": "circle"
         },
         "mode": "markers",
         "name": "Qwen2.5-Coder-32B-Instruct-Q4_K_S",
         "scene": "scene",
         "showlegend": true,
         "type": "scatter3d",
         "x": {
          "bdata": "AAAAAAAAQEA=",
          "dtype": "f8"
         },
         "y": {
          "bdata": "Qw==",
          "dtype": "i1"
         },
         "z": {
          "bdata": "j8L1KFxPOUA=",
          "dtype": "f8"
         }
        }
       ],
       "layout": {
        "legend": {
         "itemsizing": "constant",
         "title": {
          "text": "Model"
         },
         "tracegroupgap": 0
        },
        "scene": {
         "domain": {
          "x": [
           0,
           1
          ],
          "y": [
           0,
           1
          ]
         },
         "xaxis": {
          "title": {
           "text": "Model Size (B)"
          }
         },
         "yaxis": {
          "title": {
           "text": "Layers"
          }
         },
         "zaxis": {
          "title": {
           "text": "Gen Speed (tokens/sec)"
          }
         }
        },
        "template": {
         "data": {
          "bar": [
           {
            "error_x": {
             "color": "#2a3f5f"
            },
            "error_y": {
             "color": "#2a3f5f"
            },
            "marker": {
             "line": {
              "color": "#E5ECF6",
              "width": 0.5
             },
             "pattern": {
              "fillmode": "overlay",
              "size": 10,
              "solidity": 0.2
             }
            },
            "type": "bar"
           }
          ],
          "barpolar": [
           {
            "marker": {
             "line": {
              "color": "#E5ECF6",
              "width": 0.5
             },
             "pattern": {
              "fillmode": "overlay",
              "size": 10,
              "solidity": 0.2
             }
            },
            "type": "barpolar"
           }
          ],
          "carpet": [
           {
            "aaxis": {
             "endlinecolor": "#2a3f5f",
             "gridcolor": "white",
             "linecolor": "white",
             "minorgridcolor": "white",
             "startlinecolor": "#2a3f5f"
            },
            "baxis": {
             "endlinecolor": "#2a3f5f",
             "gridcolor": "white",
             "linecolor": "white",
             "minorgridcolor": "white",
             "startlinecolor": "#2a3f5f"
            },
            "type": "carpet"
           }
          ],
          "choropleth": [
           {
            "colorbar": {
             "outlinewidth": 0,
             "ticks": ""
            },
            "type": "choropleth"
           }
          ],
          "contour": [
           {
            "colorbar": {
             "outlinewidth": 0,
             "ticks": ""
            },
            "colorscale": [
             [
              0,
              "#0d0887"
             ],
             [
              0.1111111111111111,
              "#46039f"
             ],
             [
              0.2222222222222222,
              "#7201a8"
             ],
             [
              0.3333333333333333,
              "#9c179e"
             ],
             [
              0.4444444444444444,
              "#bd3786"
             ],
             [
              0.5555555555555556,
              "#d8576b"
             ],
             [
              0.6666666666666666,
              "#ed7953"
             ],
             [
              0.7777777777777778,
              "#fb9f3a"
             ],
             [
              0.8888888888888888,
              "#fdca26"
             ],
             [
              1,
              "#f0f921"
             ]
            ],
            "type": "contour"
           }
          ],
          "contourcarpet": [
           {
            "colorbar": {
             "outlinewidth": 0,
             "ticks": ""
            },
            "type": "contourcarpet"
           }
          ],
          "heatmap": [
           {
            "colorbar": {
             "outlinewidth": 0,
             "ticks": ""
            },
            "colorscale": [
             [
              0,
              "#0d0887"
             ],
             [
              0.1111111111111111,
              "#46039f"
             ],
             [
              0.2222222222222222,
              "#7201a8"
             ],
             [
              0.3333333333333333,
              "#9c179e"
             ],
             [
              0.4444444444444444,
              "#bd3786"
             ],
             [
              0.5555555555555556,
              "#d8576b"
             ],
             [
              0.6666666666666666,
              "#ed7953"
             ],
             [
              0.7777777777777778,
              "#fb9f3a"
             ],
             [
              0.8888888888888888,
              "#fdca26"
             ],
             [
              1,
              "#f0f921"
             ]
            ],
            "type": "heatmap"
           }
          ],
          "histogram": [
           {
            "marker": {
             "pattern": {
              "fillmode": "overlay",
              "size": 10,
              "solidity": 0.2
             }
            },
            "type": "histogram"
           }
          ],
          "histogram2d": [
           {
            "colorbar": {
             "outlinewidth": 0,
             "ticks": ""
            },
            "colorscale": [
             [
              0,
              "#0d0887"
             ],
             [
              0.1111111111111111,
              "#46039f"
             ],
             [
              0.2222222222222222,
              "#7201a8"
             ],
             [
              0.3333333333333333,
              "#9c179e"
             ],
             [
              0.4444444444444444,
              "#bd3786"
             ],
             [
              0.5555555555555556,
              "#d8576b"
             ],
             [
              0.6666666666666666,
              "#ed7953"
             ],
             [
              0.7777777777777778,
              "#fb9f3a"
             ],
             [
              0.8888888888888888,
              "#fdca26"
             ],
             [
              1,
              "#f0f921"
             ]
            ],
            "type": "histogram2d"
           }
          ],
          "histogram2dcontour": [
           {
            "colorbar": {
             "outlinewidth": 0,
             "ticks": ""
            },
            "colorscale": [
             [
              0,
              "#0d0887"
             ],
             [
              0.1111111111111111,
              "#46039f"
             ],
             [
              0.2222222222222222,
              "#7201a8"
             ],
             [
              0.3333333333333333,
              "#9c179e"
             ],
             [
              0.4444444444444444,
              "#bd3786"
             ],
             [
              0.5555555555555556,
              "#d8576b"
             ],
             [
              0.6666666666666666,
              "#ed7953"
             ],
             [
              0.7777777777777778,
              "#fb9f3a"
             ],
             [
              0.8888888888888888,
              "#fdca26"
             ],
             [
              1,
              "#f0f921"
             ]
            ],
            "type": "histogram2dcontour"
           }
          ],
          "mesh3d": [
           {
            "colorbar": {
             "outlinewidth": 0,
             "ticks": ""
            },
            "type": "mesh3d"
           }
          ],
          "parcoords": [
           {
            "line": {
             "colorbar": {
              "outlinewidth": 0,
              "ticks": ""
             }
            },
            "type": "parcoords"
           }
          ],
          "pie": [
           {
            "automargin": true,
            "type": "pie"
           }
          ],
          "scatter": [
           {
            "fillpattern": {
             "fillmode": "overlay",
             "size": 10,
             "solidity": 0.2
            },
            "type": "scatter"
           }
          ],
          "scatter3d": [
           {
            "line": {
             "colorbar": {
              "outlinewidth": 0,
              "ticks": ""
             }
            },
            "marker": {
             "colorbar": {
              "outlinewidth": 0,
              "ticks": ""
             }
            },
            "type": "scatter3d"
           }
          ],
          "scattercarpet": [
           {
            "marker": {
             "colorbar": {
              "outlinewidth": 0,
              "ticks": ""
             }
            },
            "type": "scattercarpet"
           }
          ],
          "scattergeo": [
           {
            "marker": {
             "colorbar": {
              "outlinewidth": 0,
              "ticks": ""
             }
            },
            "type": "scattergeo"
           }
          ],
          "scattergl": [
           {
            "marker": {
             "colorbar": {
              "outlinewidth": 0,
              "ticks": ""
             }
            },
            "type": "scattergl"
           }
          ],
          "scattermap": [
           {
            "marker": {
             "colorbar": {
              "outlinewidth": 0,
              "ticks": ""
             }
            },
            "type": "scattermap"
           }
          ],
          "scattermapbox": [
           {
            "marker": {
             "colorbar": {
              "outlinewidth": 0,
              "ticks": ""
             }
            },
            "type": "scattermapbox"
           }
          ],
          "scatterpolar": [
           {
            "marker": {
             "colorbar": {
              "outlinewidth": 0,
              "ticks": ""
             }
            },
            "type": "scatterpolar"
           }
          ],
          "scatterpolargl": [
           {
            "marker": {
             "colorbar": {
              "outlinewidth": 0,
              "ticks": ""
             }
            },
            "type": "scatterpolargl"
           }
          ],
          "scatterternary": [
           {
            "marker": {
             "colorbar": {
              "outlinewidth": 0,
              "ticks": ""
             }
            },
            "type": "scatterternary"
           }
          ],
          "surface": [
           {
            "colorbar": {
             "outlinewidth": 0,
             "ticks": ""
            },
            "colorscale": [
             [
              0,
              "#0d0887"
             ],
             [
              0.1111111111111111,
              "#46039f"
             ],
             [
              0.2222222222222222,
              "#7201a8"
             ],
             [
              0.3333333333333333,
              "#9c179e"
             ],
             [
              0.4444444444444444,
              "#bd3786"
             ],
             [
              0.5555555555555556,
              "#d8576b"
             ],
             [
              0.6666666666666666,
              "#ed7953"
             ],
             [
              0.7777777777777778,
              "#fb9f3a"
             ],
             [
              0.8888888888888888,
              "#fdca26"
             ],
             [
              1,
              "#f0f921"
             ]
            ],
            "type": "surface"
           }
          ],
          "table": [
           {
            "cells": {
             "fill": {
              "color": "#EBF0F8"
             },
             "line": {
              "color": "white"
             }
            },
            "header": {
             "fill": {
              "color": "#C8D4E3"
             },
             "line": {
              "color": "white"
             }
            },
            "type": "table"
           }
          ]
         },
         "layout": {
          "annotationdefaults": {
           "arrowcolor": "#2a3f5f",
           "arrowhead": 0,
           "arrowwidth": 1
          },
          "autotypenumbers": "strict",
          "coloraxis": {
           "colorbar": {
            "outlinewidth": 0,
            "ticks": ""
           }
          },
          "colorscale": {
           "diverging": [
            [
             0,
             "#8e0152"
            ],
            [
             0.1,
             "#c51b7d"
            ],
            [
             0.2,
             "#de77ae"
            ],
            [
             0.3,
             "#f1b6da"
            ],
            [
             0.4,
             "#fde0ef"
            ],
            [
             0.5,
             "#f7f7f7"
            ],
            [
             0.6,
             "#e6f5d0"
            ],
            [
             0.7,
             "#b8e186"
            ],
            [
             0.8,
             "#7fbc41"
            ],
            [
             0.9,
             "#4d9221"
            ],
            [
             1,
             "#276419"
            ]
           ],
           "sequential": [
            [
             0,
             "#0d0887"
            ],
            [
             0.1111111111111111,
             "#46039f"
            ],
            [
             0.2222222222222222,
             "#7201a8"
            ],
            [
             0.3333333333333333,
             "#9c179e"
            ],
            [
             0.4444444444444444,
             "#bd3786"
            ],
            [
             0.5555555555555556,
             "#d8576b"
            ],
            [
             0.6666666666666666,
             "#ed7953"
            ],
            [
             0.7777777777777778,
             "#fb9f3a"
            ],
            [
             0.8888888888888888,
             "#fdca26"
            ],
            [
             1,
             "#f0f921"
            ]
           ],
           "sequentialminus": [
            [
             0,
             "#0d0887"
            ],
            [
             0.1111111111111111,
             "#46039f"
            ],
            [
             0.2222222222222222,
             "#7201a8"
            ],
            [
             0.3333333333333333,
             "#9c179e"
            ],
            [
             0.4444444444444444,
             "#bd3786"
            ],
            [
             0.5555555555555556,
             "#d8576b"
            ],
            [
             0.6666666666666666,
             "#ed7953"
            ],
            [
             0.7777777777777778,
             "#fb9f3a"
            ],
            [
             0.8888888888888888,
             "#fdca26"
            ],
            [
             1,
             "#f0f921"
            ]
           ]
          },
          "colorway": [
           "#636efa",
           "#EF553B",
           "#00cc96",
           "#ab63fa",
           "#FFA15A",
           "#19d3f3",
           "#FF6692",
           "#B6E880",
           "#FF97FF",
           "#FECB52"
          ],
          "font": {
           "color": "#2a3f5f"
          },
          "geo": {
           "bgcolor": "white",
           "lakecolor": "white",
           "landcolor": "#E5ECF6",
           "showlakes": true,
           "showland": true,
           "subunitcolor": "white"
          },
          "hoverlabel": {
           "align": "left"
          },
          "hovermode": "closest",
          "mapbox": {
           "style": "light"
          },
          "paper_bgcolor": "white",
          "plot_bgcolor": "#E5ECF6",
          "polar": {
           "angularaxis": {
            "gridcolor": "white",
            "linecolor": "white",
            "ticks": ""
           },
           "bgcolor": "#E5ECF6",
           "radialaxis": {
            "gridcolor": "white",
            "linecolor": "white",
            "ticks": ""
           }
          },
          "scene": {
           "xaxis": {
            "backgroundcolor": "#E5ECF6",
            "gridcolor": "white",
            "gridwidth": 2,
            "linecolor": "white",
            "showbackground": true,
            "ticks": "",
            "zerolinecolor": "white"
           },
           "yaxis": {
            "backgroundcolor": "#E5ECF6",
            "gridcolor": "white",
            "gridwidth": 2,
            "linecolor": "white",
            "showbackground": true,
            "ticks": "",
            "zerolinecolor": "white"
           },
           "zaxis": {
            "backgroundcolor": "#E5ECF6",
            "gridcolor": "white",
            "gridwidth": 2,
            "linecolor": "white",
            "showbackground": true,
            "ticks": "",
            "zerolinecolor": "white"
           }
          },
          "shapedefaults": {
           "line": {
            "color": "#2a3f5f"
           }
          },
          "ternary": {
           "aaxis": {
            "gridcolor": "white",
            "linecolor": "white",
            "ticks": ""
           },
           "baxis": {
            "gridcolor": "white",
            "linecolor": "white",
            "ticks": ""
           },
           "bgcolor": "#E5ECF6",
           "caxis": {
            "gridcolor": "white",
            "linecolor": "white",
            "ticks": ""
           }
          },
          "title": {
           "x": 0.05
          },
          "xaxis": {
           "automargin": true,
           "gridcolor": "white",
           "linecolor": "white",
           "ticks": "",
           "title": {
            "standoff": 15
           },
           "zerolinecolor": "white",
           "zerolinewidth": 2
          },
          "yaxis": {
           "automargin": true,
           "gridcolor": "white",
           "linecolor": "white",
           "ticks": "",
           "title": {
            "standoff": 15
           },
           "zerolinecolor": "white",
           "zerolinewidth": 2
          }
         }
        },
        "title": {
         "text": "3D Performance Landscape"
        }
       }
      }
     },
     "metadata": {},
     "output_type": "display_data"
    }
   ],
   "source": [
    "fig = px.scatter_3d(df_merged, \n",
    "                    x='size', \n",
    "                    y='Layers', \n",
    "                    z='GenerationSpeed',\n",
    "                    color='Model',\n",
    "                    size='TotalTime',\n",
    "                    hover_name='Model',\n",
    "                    title=\"3D Performance Landscape\")\n",
    "fig.update_layout(scene=dict(xaxis_title='Model Size (B)',\n",
    "                             yaxis_title='Layers',\n",
    "                             zaxis_title='Gen Speed (tokens/sec)'))\n",
    "fig.show()"
   ]
  }
 ],
 "metadata": {
  "kernelspec": {
   "display_name": "a6001",
   "language": "python",
   "name": "python3"
  },
  "language_info": {
   "codemirror_mode": {
    "name": "ipython",
    "version": 3
   },
   "file_extension": ".py",
   "mimetype": "text/x-python",
   "name": "python",
   "nbconvert_exporter": "python",
   "pygments_lexer": "ipython3",
   "version": "3.9.18"
  }
 },
 "nbformat": 4,
 "nbformat_minor": 5
}
